{
 "cells": [
  {
   "cell_type": "markdown",
   "id": "16db9f8a",
   "metadata": {},
   "source": [
    "# Finding Optimal Resolution\n",
    "\n",
    "Quick an dirty script that tries to automatically find the optimal resolution for testing some image"
   ]
  },
  {
   "cell_type": "code",
   "execution_count": 2,
   "id": "fd6c3801",
   "metadata": {},
   "outputs": [
    {
     "name": "stdout",
     "output_type": "stream",
     "text": [
      "The autoreload extension is already loaded. To reload it, use:\n",
      "  %reload_ext autoreload\n",
      "At Res 640x640\n",
      "Average Radius: 29.726749982747673\n",
      "Average Size: 3417.7169811320755\n"
     ]
    }
   ],
   "source": [
    "from src.analysis.grainpixels import pixels_per_grain\n",
    "from skimage import io\n",
    "import numpy as np\n",
    "%load_ext autoreload\n",
    "%autoreload 2\n",
    "\n",
    "INPUT_IMAGE = '../data/test_combination/10HR/2153/trace.png'\n",
    "img = io.imread(INPUT_IMAGE)\n",
    "\n",
    "training_avg_r = 31\n",
    "\n",
    "dim = 528\n",
    "while True:\n",
    "    _, avg_size, avg_r, _ = pixels_per_grain(img, (dim,dim))\n",
    "    \n",
    "    if np.abs(avg_r - training_avg_r) < 2:\n",
    "        print(f\"At Res {dim}x{dim}\")\n",
    "        print(f\"Average Radius: {avg_r}\\nAverage Size: {avg_size}\")\n",
    "        break\n",
    "    elif avg_r > training_avg_r:\n",
    "        dim -= 16\n",
    "    elif avg_r < training_avg_r:\n",
    "        dim += 16"
   ]
  },
  {
   "cell_type": "code",
   "execution_count": null,
   "id": "7c78d0e3",
   "metadata": {},
   "outputs": [],
   "source": []
  }
 ],
 "metadata": {
  "kernelspec": {
   "display_name": "venv",
   "language": "python",
   "name": "venv"
  },
  "language_info": {
   "codemirror_mode": {
    "name": "ipython",
    "version": 3
   },
   "file_extension": ".py",
   "mimetype": "text/x-python",
   "name": "python",
   "nbconvert_exporter": "python",
   "pygments_lexer": "ipython3",
   "version": "3.9.10"
  }
 },
 "nbformat": 4,
 "nbformat_minor": 5
}
