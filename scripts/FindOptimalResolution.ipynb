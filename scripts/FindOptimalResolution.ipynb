{
 "cells": [
  {
   "cell_type": "markdown",
   "id": "16db9f8a",
   "metadata": {},
   "source": [
    "# Finding Optimal Resolution\n",
    "\n",
    "Quick an dirty script that tries to automatically find the optimal resolution for testing some image"
   ]
  },
  {
   "cell_type": "markdown",
   "id": "a39d1ae0",
   "metadata": {},
   "source": [
    "## Find the Ideal Image Size for Training Data\n",
    "\n",
    "`INPUT_IMAGE` - The image you want to run the analysis on\n",
    "\n",
    "`training_avg_r` - The average ideal grain radius of your training data\n",
    "\n",
    "`dim` - Starting resolution for the search"
   ]
  },
  {
   "cell_type": "code",
   "execution_count": 2,
   "id": "fd6c3801",
   "metadata": {},
   "outputs": [
    {
     "name": "stdout",
     "output_type": "stream",
     "text": [
      "The autoreload extension is already loaded. To reload it, use:\n",
      "  %reload_ext autoreload\n",
      "Found at 528, Average Radius of 40.296549113811885\n",
      "Found at 384, Average Radius of 29.10071158248727\n",
      "Found at 400, Average Radius of 30.378620832182314\n",
      "\n",
      "At Res 400x400\n",
      "Average Radius: 30.378620832182314\n",
      "Average Size: 3408.1428571428573\n"
     ]
    }
   ],
   "source": [
    "from src.analysis.grainpixels import pixels_per_grain\n",
    "from skimage import io\n",
    "import numpy as np\n",
    "%load_ext autoreload\n",
    "%autoreload 2\n",
    "\n",
    "INPUT_IMAGE = '../data/test_combination/1HR/2741/trace.png'\n",
    "training_avg_r = 31\n",
    "dim = 528\n",
    "tolerance = 1\n",
    "\n",
    "img = io.imread(INPUT_IMAGE)\n",
    "while True:\n",
    "    _, avg_size, avg_r, _ = pixels_per_grain(img, (dim,dim))\n",
    "    print(f\"Found at {dim}, Average Radius of {avg_r}\")\n",
    "    if np.abs(avg_r - training_avg_r) < tolerance:\n",
    "        print(f\"\\nAt Res {dim}x{dim}\")\n",
    "        print(f\"Average Radius: {avg_r}\\nAverage Size: {avg_size}\")\n",
    "        break\n",
    "    elif avg_r > training_avg_r:\n",
    "        dim -= 16 * int(np.abs(avg_r - training_avg_r))\n",
    "    elif avg_r < training_avg_r:\n",
    "        dim += 16 * int(np.abs(avg_r - training_avg_r))"
   ]
  },
  {
   "cell_type": "markdown",
   "id": "4825e85d",
   "metadata": {},
   "source": [
    "## Find the Average Ideal Grain Radius of Training Data\n",
    "\n",
    "This find the `Average Pixels per Grain` and the `Average Ideal Grain Radius` for a set of training images\n",
    "\n",
    "`INPUT_PATH` should be the location of the traced images in your training data."
   ]
  },
  {
   "cell_type": "code",
   "execution_count": 3,
   "id": "7c78d0e3",
   "metadata": {},
   "outputs": [
    {
     "name": "stdout",
     "output_type": "stream",
     "text": [
      "The autoreload extension is already loaded. To reload it, use:\n",
      "  %reload_ext autoreload\n",
      "\n",
      "Avg Pixels per Grain: 3974.1314163021866\n",
      "Avg Ideal Grain Radius: 31.309408737097613\n",
      "Ideal Grain Radius STD: 13.249901549722873\n"
     ]
    }
   ],
   "source": [
    "import os\n",
    "from src.analysis.grainpixels import pixels_per_grain\n",
    "from skimage import io\n",
    "import numpy as np\n",
    "%load_ext autoreload\n",
    "%autoreload 2\n",
    "\n",
    "INPUT_PATH = '../data/train_nouveaux_256/label'\n",
    "\n",
    "image_paths = np.array([])\n",
    "for fname in np.sort(os.listdir(INPUT_PATH)):\n",
    "    if fname.endswith('.png'):\n",
    "        image_paths = np.append(image_paths, os.path.join(INPUT_PATH, fname))\n",
    "\n",
    "data = np.array([0,0,0])\n",
    "\n",
    "for ind, path in enumerate(image_paths):\n",
    "    trace = io.imread(path)\n",
    "    trace = (trace / 255)\n",
    "    if len(trace.shape) > 2:\n",
    "        trace = trace[:,:,0]\n",
    "\n",
    "    (n_grains, avg, r_avg, r_std) = pixels_per_grain(trace, dims=(336,336), thresh = 0.6)\n",
    "    if np.isnan(np.array([avg, r_avg, r_std])).any():\n",
    "        continue\n",
    "    if ind == 0:\n",
    "        data = np.array([avg, r_avg, r_std])\n",
    "    else:\n",
    "        data = np.vstack((data, [avg, r_avg, r_std]))\n",
    "    #print(f\"Checking {path}\")\n",
    "\n",
    "print(f\"\\n\\\n",
    "Avg Pixels per Grain: {np.mean(data[:,0])}\\n\\\n",
    "Avg Ideal Grain Radius: {np.mean(data[:,1])}\\n\\\n",
    "Ideal Grain Radius STD: {np.mean(data[:,2])}\")"
   ]
  },
  {
   "cell_type": "code",
   "execution_count": null,
   "id": "41c3b272",
   "metadata": {},
   "outputs": [],
   "source": []
  }
 ],
 "metadata": {
  "kernelspec": {
   "display_name": "venv",
   "language": "python",
   "name": "venv"
  },
  "language_info": {
   "codemirror_mode": {
    "name": "ipython",
    "version": 3
   },
   "file_extension": ".py",
   "mimetype": "text/x-python",
   "name": "python",
   "nbconvert_exporter": "python",
   "pygments_lexer": "ipython3",
   "version": "3.9.10"
  }
 },
 "nbformat": 4,
 "nbformat_minor": 5
}
