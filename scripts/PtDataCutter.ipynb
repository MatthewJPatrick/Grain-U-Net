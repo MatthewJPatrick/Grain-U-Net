{
 "cells": [
  {
   "cell_type": "code",
   "execution_count": 10,
   "id": "23bfad71",
   "metadata": {
    "colab": {
     "base_uri": "https://localhost:8080/"
    },
    "executionInfo": {
     "elapsed": 131,
     "status": "ok",
     "timestamp": 1658942974352,
     "user": {
      "displayName": "Alan Jiahui Ma",
      "userId": "07426490136012605744"
     },
     "user_tz": 240
    },
    "id": "23bfad71",
    "outputId": "0d09618d-b292-492f-aa61-6cd0ae684699"
   },
   "outputs": [
    {
     "name": "stdout",
     "output_type": "stream",
     "text": [
      "G:\\My Drive\\Lab\\Grain-U-Net\\data\\train_Pt\\20um\n",
      "G:\\My Drive\\Lab\\Grain-U-Net\\data\\train_Pt\\30um\n"
     ]
    }
   ],
   "source": [
    "#splitting \n",
    "\n",
    "from pathlib import Path\n",
    "\n",
    "in_dir = Path('G:/My Drive/Lab/Grain-U-Net/data/train_Pt/')\n",
    "out_dir = Path('G:/My Drive/Lab/Grain-U-Net/data/train_Pt_16/')\n",
    "\n",
    "inputs = []\n",
    "labels = []\n",
    "\n",
    "for FOV in in_dir.glob('*'):\n",
    "    if not (FOV / 'image').is_dir():\n",
    "        continue\n",
    "    print(FOV)\n",
    "\n",
    "    w = []\n",
    "    x = []\n",
    "    for y in (FOV / 'image').glob('*'):\n",
    "        w.append(y)\n",
    "    for z in (FOV / 'label').glob('*'):\n",
    "        x.append(z)\n",
    "    inputs.append(w)\n",
    "    labels.append(x)\n"
   ]
  },
  {
   "cell_type": "code",
   "execution_count": 11,
   "id": "29995344",
   "metadata": {
    "executionInfo": {
     "elapsed": 143,
     "status": "ok",
     "timestamp": 1658942706703,
     "user": {
      "displayName": "Alan Jiahui Ma",
      "userId": "07426490136012605744"
     },
     "user_tz": 240
    },
    "id": "29995344"
   },
   "outputs": [],
   "source": [
    "#reading and resizing images, then cutting\n",
    "\n",
    "from skimage import io, transform\n",
    "import os\n",
    "\n",
    "k = 0\n",
    "\n",
    "for bucket in inputs:\n",
    "    os.mkdir(out_dir / bucket[0].parents[1].name)\n",
    "    os.mkdir(out_dir / bucket[0].parents[1].name / 'image')\n",
    "    os.mkdir(out_dir / bucket[0].parents[1].name / 'label')\n",
    "    for path in bucket:\n",
    "        img = io.imread(path, as_gray=True)\n",
    "        img = transform.resize(img, (1024, 1024))\n",
    "        for i in range(4):\n",
    "            for j in range(4):\n",
    "                crop=255*img[(i*256): (i+1)*256, (j*256):(j+1)*256]\n",
    "                io.imsave(out_dir / bucket[0].parents[1].name / 'image' / ('%02d.png' %k), crop.astype('uint8'))\n",
    "                k+=1\n",
    "\n"
   ]
  },
  {
   "cell_type": "code",
   "execution_count": 12,
   "id": "905d35d8",
   "metadata": {
    "executionInfo": {
     "elapsed": 117,
     "status": "ok",
     "timestamp": 1658942707543,
     "user": {
      "displayName": "Alan Jiahui Ma",
      "userId": "07426490136012605744"
     },
     "user_tz": 240
    },
    "id": "905d35d8"
   },
   "outputs": [],
   "source": [
    "k = 0\n",
    "for bucket in labels:\n",
    "    for path in bucket:\n",
    "        img = io.imread(path, as_gray=True)\n",
    "        img = transform.resize(img, (1024, 1024))\n",
    "        for i in range(4):\n",
    "            for j in range(4):\n",
    "                crop=255*img[(i*256): (i+1)*256, (j*256): (j+1)*256]\n",
    "                io.imsave(out_dir / bucket[0].parents[1].name / 'label' / ('%02d.png' %k), crop.astype('uint8'))\n",
    "                k+=1"
   ]
  },
  {
   "cell_type": "code",
   "execution_count": 6,
   "id": "a0b7794a",
   "metadata": {
    "executionInfo": {
     "elapsed": 154,
     "status": "ok",
     "timestamp": 1658942692352,
     "user": {
      "displayName": "Alan Jiahui Ma",
      "userId": "07426490136012605744"
     },
     "user_tz": 240
    },
    "id": "a0b7794a"
   },
   "outputs": [],
   "source": []
  }
 ],
 "metadata": {
  "colab": {
   "name": "PtDataCutter.ipynb",
   "provenance": []
  },
  "kernelspec": {
   "display_name": "Python 3 (ipykernel)",
   "language": "python",
   "name": "python3"
  },
  "language_info": {
   "codemirror_mode": {
    "name": "ipython",
    "version": 3
   },
   "file_extension": ".py",
   "mimetype": "text/x-python",
   "name": "python",
   "nbconvert_exporter": "python",
   "pygments_lexer": "ipython3",
   "version": "3.9.12"
  }
 },
 "nbformat": 4,
 "nbformat_minor": 5
}
