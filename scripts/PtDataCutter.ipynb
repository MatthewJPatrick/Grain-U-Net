{
 "cells": [
  {
   "cell_type": "code",
   "execution_count": 1,
   "id": "23bfad71",
   "metadata": {},
   "outputs": [],
   "source": [
    "#splitting \n",
    "\n",
    "from pathlib import Path\n",
    "\n",
    "in_dir = Path('G:/My Drive/Lab/Grain-U-Net/data/train_Pt/')\n",
    "out_dir = Path('G:/My Drive/Lab/Grain-U-Net/data/train_Pt_16/')\n",
    "\n",
    "inputs = []\n",
    "labels = []\n",
    "\n",
    "for FOV in in_dir.glob('*'):\n",
    "    if not (FOV / 'image').is_dir():\n",
    "        continue\n",
    "    w = []\n",
    "    x = []\n",
    "    for y in (FOV / 'image').glob('*'):\n",
    "        w.append(y)\n",
    "    for z in (FOV / 'label').glob('*'):\n",
    "        x.append(z)\n",
    "    inputs.append(w)\n",
    "    labels.append(x)\n",
    "\n"
   ]
  },
  {
   "cell_type": "code",
   "execution_count": 2,
   "id": "29995344",
   "metadata": {},
   "outputs": [
    {
     "ename": "FileExistsError",
     "evalue": "[WinError 183] Cannot create a file when that file already exists: 'G:\\\\My Drive\\\\Lab\\\\Grain-U-Net\\\\data\\\\train_Pt_16\\\\20um'",
     "output_type": "error",
     "traceback": [
      "\u001b[1;31m---------------------------------------------------------------------------\u001b[0m",
      "\u001b[1;31mFileExistsError\u001b[0m                           Traceback (most recent call last)",
      "Input \u001b[1;32mIn [2]\u001b[0m, in \u001b[0;36m<cell line: 8>\u001b[1;34m()\u001b[0m\n\u001b[0;32m      6\u001b[0m k \u001b[38;5;241m=\u001b[39m \u001b[38;5;241m0\u001b[39m\n\u001b[0;32m      8\u001b[0m \u001b[38;5;28;01mfor\u001b[39;00m bucket \u001b[38;5;129;01min\u001b[39;00m inputs:\n\u001b[1;32m----> 9\u001b[0m     \u001b[43mos\u001b[49m\u001b[38;5;241;43m.\u001b[39;49m\u001b[43mmkdir\u001b[49m\u001b[43m(\u001b[49m\u001b[43mout_dir\u001b[49m\u001b[43m \u001b[49m\u001b[38;5;241;43m/\u001b[39;49m\u001b[43m \u001b[49m\u001b[43mbucket\u001b[49m\u001b[43m[\u001b[49m\u001b[38;5;241;43m0\u001b[39;49m\u001b[43m]\u001b[49m\u001b[38;5;241;43m.\u001b[39;49m\u001b[43mparents\u001b[49m\u001b[43m[\u001b[49m\u001b[38;5;241;43m1\u001b[39;49m\u001b[43m]\u001b[49m\u001b[38;5;241;43m.\u001b[39;49m\u001b[43mname\u001b[49m\u001b[43m)\u001b[49m\n\u001b[0;32m     10\u001b[0m     os\u001b[38;5;241m.\u001b[39mmkdir(out_dir \u001b[38;5;241m/\u001b[39m bucket[\u001b[38;5;241m0\u001b[39m]\u001b[38;5;241m.\u001b[39mparents[\u001b[38;5;241m1\u001b[39m]\u001b[38;5;241m.\u001b[39mname \u001b[38;5;241m/\u001b[39m \u001b[38;5;124m'\u001b[39m\u001b[38;5;124mimage\u001b[39m\u001b[38;5;124m'\u001b[39m)\n\u001b[0;32m     11\u001b[0m     os\u001b[38;5;241m.\u001b[39mmkdir(out_dir \u001b[38;5;241m/\u001b[39m bucket[\u001b[38;5;241m0\u001b[39m]\u001b[38;5;241m.\u001b[39mparents[\u001b[38;5;241m1\u001b[39m]\u001b[38;5;241m.\u001b[39mname \u001b[38;5;241m/\u001b[39m \u001b[38;5;124m'\u001b[39m\u001b[38;5;124mlabel\u001b[39m\u001b[38;5;124m'\u001b[39m)\n",
      "\u001b[1;31mFileExistsError\u001b[0m: [WinError 183] Cannot create a file when that file already exists: 'G:\\\\My Drive\\\\Lab\\\\Grain-U-Net\\\\data\\\\train_Pt_16\\\\20um'"
     ]
    }
   ],
   "source": [
    "#reading and resizing images, then cutting\n",
    "\n",
    "from skimage import io, transform\n",
    "import os\n",
    "\n",
    "k = 0\n",
    "\n",
    "for bucket in inputs:\n",
    "    os.mkdir(out_dir / bucket[0].parents[1].name)\n",
    "    os.mkdir(out_dir / bucket[0].parents[1].name / 'image')\n",
    "    os.mkdir(out_dir / bucket[0].parents[1].name / 'label')\n",
    "    for path in bucket:\n",
    "        img = io.imread(path, as_gray=True)\n",
    "        img = transform.resize(img, (1024, 1024))\n",
    "        for i in range(4):\n",
    "            for j in range(4):\n",
    "                crop=255*img[(i*256): (i+1)*256, (j*256):(j+1)*256]\n",
    "                io.imsave(out_dir / bucket[0].parents[1].name / 'image' / ('%02d.png' %k), crop.astype('uint8'))\n",
    "                k+=1\n",
    "\n"
   ]
  },
  {
   "cell_type": "code",
   "execution_count": 3,
   "id": "905d35d8",
   "metadata": {},
   "outputs": [],
   "source": [
    "k = 0\n",
    "for bucket in labels:\n",
    "    for path in bucket:\n",
    "        img = io.imread(path, as_gray=True)\n",
    "        img = transform.resize(img, (1024, 1024))\n",
    "        for i in range(4):\n",
    "            for j in range(4):\n",
    "                crop=255*img[(i*256): (i+1)*256, (j*256): (j+1)*256]\n",
    "                io.imsave(out_dir / bucket[0].parents[1].name / 'label' / ('%02d.png' %k), crop.astype('uint8'))\n",
    "                k+=1"
   ]
  },
  {
   "cell_type": "code",
   "execution_count": null,
   "id": "a0b7794a",
   "metadata": {},
   "outputs": [],
   "source": []
  }
 ],
 "metadata": {
  "kernelspec": {
   "display_name": "Python 3 (ipykernel)",
   "language": "python",
   "name": "python3"
  },
  "language_info": {
   "codemirror_mode": {
    "name": "ipython",
    "version": 3
   },
   "file_extension": ".py",
   "mimetype": "text/x-python",
   "name": "python",
   "nbconvert_exporter": "python",
   "pygments_lexer": "ipython3",
   "version": "3.9.12"
  }
 },
 "nbformat": 4,
 "nbformat_minor": 5
}
