{
 "cells": [
  {
   "cell_type": "code",
   "execution_count": 1,
   "metadata": {
    "colab": {
     "base_uri": "https://localhost:8080/"
    },
    "id": "GB-0q-3IGBvR",
    "outputId": "95cf90c7-844b-4281-e200-b5d8f714d1af"
   },
   "outputs": [
    {
     "name": "stdout",
     "output_type": "stream",
     "text": [
      "Mounted at /content/drive\n",
      "/content/drive/My Drive/unet-master\n"
     ]
    }
   ],
   "source": [
    "from google.colab import drive\n",
    "drive.mount('/content/drive', force_remount=True)\n",
    "\n",
    "# Enter the foldername of the unzipped folder\n",
    "FOLDERNAME = 'unet-master'\n",
    "assert FOLDERNAME is not None, \"[!] Enter the foldername.\"\n",
    "\n",
    "# Now that we've mounted your Drive, this ensures that\n",
    "# the Python interpreter of the Colab VM can load\n",
    "# python files from within it.\n",
    "import sys\n",
    "sys.path.append('/content/drive/MyDrive/{}'.format(FOLDERNAME))\n",
    "\n",
    "# %cd drive/My\\ Drive/$FOLDERNAME/cs231n/datasets/\n",
    "# !bash get_datasets.sh\n",
    "%cd /content/drive/My\\ Drive/$FOLDERNAME\n",
    "#!pip install\n",
    "#4/1AY0e-g5h4eZedG3k6mfdIj0OYbR717PFyEhKuxK5PidsrBbPRxi8fge6E3c"
   ]
  },
  {
   "cell_type": "code",
   "execution_count": 7,
   "metadata": {
    "id": "YuvN4HH-eKzC"
   },
   "outputs": [],
   "source": [
    "#You need to make sure plantcv is installed so you can access its useful prune feature"
   ]
  },
  {
   "cell_type": "code",
   "execution_count": 2,
   "metadata": {
    "colab": {
     "base_uri": "https://localhost:8080/"
    },
    "id": "FBfr4sKyQJHR",
    "outputId": "0de7a806-ae7e-401a-f4f2-5775d2a21049"
   },
   "outputs": [
    {
     "name": "stdout",
     "output_type": "stream",
     "text": [
      "Requirement already satisfied: plantcv in /usr/local/lib/python3.7/dist-packages (3.13.2)\n",
      "Requirement already satisfied: pandas in /usr/local/lib/python3.7/dist-packages (from plantcv) (1.1.5)\n",
      "Requirement already satisfied: opencv-python<4,>=3.4 in /usr/local/lib/python3.7/dist-packages (from plantcv) (3.4.16.57)\n",
      "Requirement already satisfied: numpy>=1.11 in /usr/local/lib/python3.7/dist-packages (from plantcv) (1.19.5)\n",
      "Requirement already satisfied: dask-jobqueue in /usr/local/lib/python3.7/dist-packages (from plantcv) (0.7.3)\n",
      "Requirement already satisfied: python-dateutil in /usr/local/lib/python3.7/dist-packages (from plantcv) (2.8.2)\n",
      "Requirement already satisfied: scikit-image>=0.13 in /usr/local/lib/python3.7/dist-packages (from plantcv) (0.16.2)\n",
      "Requirement already satisfied: dask in /usr/local/lib/python3.7/dist-packages (from plantcv) (2021.11.1)\n",
      "Requirement already satisfied: statsmodels in /usr/local/lib/python3.7/dist-packages (from plantcv) (0.10.2)\n",
      "Requirement already satisfied: plotnine in /usr/local/lib/python3.7/dist-packages (from plantcv) (0.6.0)\n",
      "Requirement already satisfied: scikit-learn in /usr/local/lib/python3.7/dist-packages (from plantcv) (0.22.2.post1)\n",
      "Requirement already satisfied: scipy in /usr/local/lib/python3.7/dist-packages (from plantcv) (1.4.1)\n",
      "Requirement already satisfied: matplotlib>=1.5 in /usr/local/lib/python3.7/dist-packages (from plantcv) (3.2.2)\n",
      "Requirement already satisfied: kiwisolver>=1.0.1 in /usr/local/lib/python3.7/dist-packages (from matplotlib>=1.5->plantcv) (1.3.2)\n",
      "Requirement already satisfied: cycler>=0.10 in /usr/local/lib/python3.7/dist-packages (from matplotlib>=1.5->plantcv) (0.11.0)\n",
      "Requirement already satisfied: pyparsing!=2.0.4,!=2.1.2,!=2.1.6,>=2.0.1 in /usr/local/lib/python3.7/dist-packages (from matplotlib>=1.5->plantcv) (2.4.7)\n",
      "Requirement already satisfied: six>=1.5 in /usr/local/lib/python3.7/dist-packages (from python-dateutil->plantcv) (1.15.0)\n",
      "Requirement already satisfied: networkx>=2.0 in /usr/local/lib/python3.7/dist-packages (from scikit-image>=0.13->plantcv) (2.6.3)\n",
      "Requirement already satisfied: imageio>=2.3.0 in /usr/local/lib/python3.7/dist-packages (from scikit-image>=0.13->plantcv) (2.4.1)\n",
      "Requirement already satisfied: pillow>=4.3.0 in /usr/local/lib/python3.7/dist-packages (from scikit-image>=0.13->plantcv) (7.1.2)\n",
      "Requirement already satisfied: PyWavelets>=0.4.0 in /usr/local/lib/python3.7/dist-packages (from scikit-image>=0.13->plantcv) (1.1.1)\n",
      "Requirement already satisfied: fsspec>=0.6.0 in /usr/local/lib/python3.7/dist-packages (from dask->plantcv) (2021.11.0)\n",
      "Requirement already satisfied: packaging>=20.0 in /usr/local/lib/python3.7/dist-packages (from dask->plantcv) (21.2)\n",
      "Requirement already satisfied: partd>=0.3.10 in /usr/local/lib/python3.7/dist-packages (from dask->plantcv) (1.2.0)\n",
      "Requirement already satisfied: pyyaml in /usr/local/lib/python3.7/dist-packages (from dask->plantcv) (3.13)\n",
      "Requirement already satisfied: toolz>=0.8.2 in /usr/local/lib/python3.7/dist-packages (from dask->plantcv) (0.11.1)\n",
      "Requirement already satisfied: cloudpickle>=1.1.1 in /usr/local/lib/python3.7/dist-packages (from dask->plantcv) (2.0.0)\n",
      "Requirement already satisfied: locket in /usr/local/lib/python3.7/dist-packages (from partd>=0.3.10->dask->plantcv) (0.2.1)\n",
      "Requirement already satisfied: distributed>=2.19 in /usr/local/lib/python3.7/dist-packages (from dask-jobqueue->plantcv) (2021.11.1)\n",
      "Requirement already satisfied: msgpack>=0.6.0 in /usr/local/lib/python3.7/dist-packages (from distributed>=2.19->dask-jobqueue->plantcv) (1.0.2)\n",
      "Requirement already satisfied: psutil>=5.0 in /usr/local/lib/python3.7/dist-packages (from distributed>=2.19->dask-jobqueue->plantcv) (5.4.8)\n",
      "Requirement already satisfied: sortedcontainers!=2.0.0,!=2.0.1 in /usr/local/lib/python3.7/dist-packages (from distributed>=2.19->dask-jobqueue->plantcv) (2.4.0)\n",
      "Requirement already satisfied: click>=6.6 in /usr/local/lib/python3.7/dist-packages (from distributed>=2.19->dask-jobqueue->plantcv) (7.1.2)\n",
      "Requirement already satisfied: zict>=0.1.3 in /usr/local/lib/python3.7/dist-packages (from distributed>=2.19->dask-jobqueue->plantcv) (2.0.0)\n",
      "Requirement already satisfied: jinja2 in /usr/local/lib/python3.7/dist-packages (from distributed>=2.19->dask-jobqueue->plantcv) (2.11.3)\n",
      "Requirement already satisfied: tblib>=1.6.0 in /usr/local/lib/python3.7/dist-packages (from distributed>=2.19->dask-jobqueue->plantcv) (1.7.0)\n",
      "Requirement already satisfied: tornado>=5 in /usr/local/lib/python3.7/dist-packages (from distributed>=2.19->dask-jobqueue->plantcv) (5.1.1)\n",
      "Requirement already satisfied: setuptools in /usr/local/lib/python3.7/dist-packages (from distributed>=2.19->dask-jobqueue->plantcv) (57.4.0)\n",
      "Requirement already satisfied: heapdict in /usr/local/lib/python3.7/dist-packages (from zict>=0.1.3->distributed>=2.19->dask-jobqueue->plantcv) (1.0.1)\n",
      "Requirement already satisfied: MarkupSafe>=0.23 in /usr/local/lib/python3.7/dist-packages (from jinja2->distributed>=2.19->dask-jobqueue->plantcv) (2.0.1)\n",
      "Requirement already satisfied: pytz>=2017.2 in /usr/local/lib/python3.7/dist-packages (from pandas->plantcv) (2018.9)\n",
      "Requirement already satisfied: mizani>=0.6.0 in /usr/local/lib/python3.7/dist-packages (from plotnine->plantcv) (0.6.0)\n",
      "Requirement already satisfied: patsy>=0.4.1 in /usr/local/lib/python3.7/dist-packages (from plotnine->plantcv) (0.5.2)\n",
      "Requirement already satisfied: descartes>=1.1.0 in /usr/local/lib/python3.7/dist-packages (from plotnine->plantcv) (1.1.0)\n",
      "Requirement already satisfied: palettable in /usr/local/lib/python3.7/dist-packages (from mizani>=0.6.0->plotnine->plantcv) (3.3.0)\n",
      "Requirement already satisfied: joblib>=0.11 in /usr/local/lib/python3.7/dist-packages (from scikit-learn->plantcv) (1.1.0)\n"
     ]
    }
   ],
   "source": [
    "pip install plantcv"
   ]
  },
  {
   "cell_type": "code",
   "execution_count": 4,
   "metadata": {
    "id": "SUZNvlD1GGDG"
   },
   "outputs": [],
   "source": [
    "from skimage import data, io, filters, morphology, color, transform\n",
    "from skimage.util import invert, img_as_ubyte, compare_images\n",
    "from skimage.measure import label\n",
    "from skimage.color import label2rgb\n",
    "from skimage.metrics import adapted_rand_error\n",
    "import numpy as np\n",
    "import matplotlib.image as mpimg\n",
    "import matplotlib.pyplot as plt\n",
    "from plantcv import plantcv as pcv"
   ]
  },
  {
   "cell_type": "code",
   "execution_count": 5,
   "metadata": {
    "id": "QbDZ8UwUHj5j"
   },
   "outputs": [],
   "source": [
    "def clean_tracing(tracing, verbose):\n",
    "  \n",
    "  if tracing.shape[2] == 4: #RBGA images are shape: h,w,4. They need to be turned into RGB:\n",
    "    tracing = color.rgba2rgb(tracing)\n",
    "\n",
    "  #We should only have RGB images at this point\n",
    "\n",
    "  #First: remove any red pixels (the little numbers inside the grains) \n",
    "  #create mask which is True for red pixels\n",
    "  mask = (tracing == [255, 0, 0]).all(axis=2)\n",
    "  #Apply mask, turning red pixels white to erase the little numbers\n",
    "  tracing[mask] = [255,255,255]\n",
    "\n",
    "  #Then: Convert image to grayscale and then binary using a threshold\n",
    "  tracing = color.rgb2gray(tracing)\n",
    "  thresh = 254/255\n",
    "  threshold = np.zeros(tracing.shape)\n",
    "  threshold[tracing <= thresh] = 1\n",
    "\n",
    "  #Step 0: Optional systematic rotate\n",
    "  rotated = transform.rotate(threshold,90,resize=True,preserve_range=True)\n",
    "  \n",
    "  #Step 1: Dilate\n",
    "  k = 2 #define the number of dilations\n",
    "  dilated = rotated\n",
    "  for i in range(k):\n",
    "    dilated = morphology.dilation(dilated)\n",
    "  \n",
    "  #Step 2: Skeletonize\n",
    "  skeleton = pcv.morphology.skeletonize(mask=dilated)\n",
    "\n",
    "  #Step 3: Prune\n",
    "  \n",
    "  # Set global debug behavior to None (default), \"print\" (to file), \n",
    "  # or \"plot\" (Jupyter Notebooks or X11)\n",
    "  pcv.params.debug = None\n",
    "\n",
    "  # Remove all spurs below length size\n",
    "  size = 20\n",
    "  pruned_skeleton, segmented_img, segment_objects = pcv.morphology.prune(skeleton, size)\n",
    "\n",
    "  #Step 4: Dilate\n",
    "  k = 1 #define the number of dilations\n",
    "  redilated = pruned_skeleton\n",
    "  for i in range(k):\n",
    "    redilated = morphology.dilation(redilated)\n",
    "\n",
    "  def imsubplot(ax, im, cmap=\"gray\", title=None):\n",
    "    ax.imshow(im, cmap=cmap)\n",
    "    ax.axis(\"off\")\n",
    "    if title:\n",
    "        ax.set_title(title)\n",
    "\n",
    "  if verbose:\n",
    "    fig, (a, b, c, d, e) = plt.subplots(ncols=5, figsize=(25,5))\n",
    "    \n",
    "    h1,h2,w1,w2 = (2350,2500,4250,4400)\n",
    "\n",
    "    imsubplot(a, rotated[h1:h2,w1:w2], title='Raw')\n",
    "    imsubplot(b, dilated[h1:h2,w1:w2], title='Dilated')\n",
    "    imsubplot(c, skeleton[h1:h2,w1:w2], title='Skeleton')\n",
    "    imsubplot(d, pruned_skeleton[h1:h2,w1:w2], title ='Pruned')\n",
    "    imsubplot(e, redilated[h1:h2,w1:w2], title = 'Redilated')\n",
    "    plt.show()\n",
    "    return redilated\n",
    "  else:\n",
    "    return redilated"
   ]
  },
  {
   "cell_type": "code",
   "execution_count": 6,
   "metadata": {
    "colab": {
     "base_uri": "https://localhost:8080/",
     "height": 232
    },
    "id": "60kov6EPvPXZ",
    "outputId": "ff610467-e3e7-403b-feed-4319d446902e"
   },
   "outputs": [
    {
     "data": {
      "image/png": "[encoded data removed]",
      "text/plain": [
       "<Figure size 1800x360 with 5 Axes>"
      ]
     },
     "metadata": {
      "needs_background": "light"
     },
     "output_type": "display_data"
    }
   ],
   "source": [
    "#Here's a sample visual of what the processing does on a raw tracing\n",
    "test_dir = 'trace_processing/'\n",
    "tracing = io.imread(f'{test_dir}2114_trace_raw.gif')\n",
    "\n",
    "clean = clean_tracing(tracing, verbose=True)"
   ]
  },
  {
   "cell_type": "code",
   "execution_count": 22,
   "metadata": {
    "colab": {
     "base_uri": "https://localhost:8080/"
    },
    "id": "npj5_2k1EHjk",
    "outputId": "20d8cee6-74d5-4fba-853e-a10fe088d4da"
   },
   "outputs": [
    {
     "name": "stderr",
     "output_type": "stream",
     "text": [
      "/usr/local/lib/python3.7/dist-packages/ipykernel_launcher.py:18: UserWarning: trace_processing/Cleaned 10HR/trace_new_clean_Drawing of 10hr2153.png is a low contrast image\n",
      "/usr/local/lib/python3.7/dist-packages/ipykernel_launcher.py:18: UserWarning: trace_processing/Cleaned 10HR/trace_new_clean_Drawing of 10hr2155.png is a low contrast image\n",
      "/usr/local/lib/python3.7/dist-packages/ipykernel_launcher.py:18: UserWarning: trace_processing/Cleaned 10HR/trace_new_clean_Drawing of 10hr2426.png is a low contrast image\n",
      "/usr/local/lib/python3.7/dist-packages/ipykernel_launcher.py:18: UserWarning: trace_processing/Cleaned 10HR/trace_new_clean_Drawing of 10hr2400.png is a low contrast image\n",
      "/usr/local/lib/python3.7/dist-packages/ipykernel_launcher.py:18: UserWarning: trace_processing/Cleaned 10HR/trace_new_clean_Drawing of 10hr2159.png is a low contrast image\n",
      "/usr/local/lib/python3.7/dist-packages/ipykernel_launcher.py:18: UserWarning: trace_processing/Cleaned 10HR/trace_new_clean_Drawing of 10hr2136.png is a low contrast image\n",
      "/usr/local/lib/python3.7/dist-packages/ipykernel_launcher.py:18: UserWarning: trace_processing/Cleaned 10HR/trace_new_clean_Drawing of 10hr2127.png is a low contrast image\n",
      "/usr/local/lib/python3.7/dist-packages/ipykernel_launcher.py:18: UserWarning: trace_processing/Cleaned 10HR/trace_new_clean_Drawing of 10hr2405.png is a low contrast image\n",
      "/usr/local/lib/python3.7/dist-packages/ipykernel_launcher.py:18: UserWarning: trace_processing/Cleaned 10HR/trace_new_clean_Drawing of 10hr2144.png is a low contrast image\n",
      "/usr/local/lib/python3.7/dist-packages/ipykernel_launcher.py:18: UserWarning: trace_processing/Cleaned 10HR/trace_new_clean_Drawing of 10hr2429.png is a low contrast image\n"
     ]
    }
   ],
   "source": [
    "#This cell lets you run a loop to process all images in one folder (path), and output them to a new folder (outPath)\n",
    "\n",
    "import os\n",
    "\n",
    "path = 'trace_processing/Tracings 10HR/'\n",
    "outPath = 'trace_processing/Cleaned 10HR/'\n",
    "\n",
    "# iterate through the names of contents of the folder\n",
    "for image_path in os.listdir(path):\n",
    "\n",
    "    # create the full input path and read the file\n",
    "    input_path = os.path.join(path, image_path)\n",
    "\n",
    "    tracing = io.imread(input_path)\n",
    "\n",
    "    clean = clean_tracing(tracing, verbose=False)\n",
    "    new_clean  = invert(clean) #Since we want white grain / black boundary, invert\n",
    "\n",
    "    fullpath = os.path.join(outPath, 'trace_new_clean_'+image_path[:-4]+'.png') #modify this to suit your needs\n",
    "    io.imsave(fullpath,new_clean)"
   ]
  }
 ],
 "metadata": {
  "colab": {
   "collapsed_sections": [],
   "name": "TracingCleaning.ipynb",
   "provenance": []
  },
  "kernelspec": {
   "display_name": "Python 3",
   "language": "python",
   "name": "python3"
  },
  "language_info": {
   "codemirror_mode": {
    "name": "ipython",
    "version": 3
   },
   "file_extension": ".py",
   "mimetype": "text/x-python",
   "name": "python",
   "nbconvert_exporter": "python",
   "pygments_lexer": "ipython3",
   "version": "3.9.10"
  }
 },
 "nbformat": 4,
 "nbformat_minor": 1
}
