{
 "cells": [
  {
   "cell_type": "markdown",
   "id": "eb66a2ed",
   "metadata": {},
   "source": [
    "# Resize Training Data\n",
    "\n",
    "This is a quick script to resize the training data to 256x256"
   ]
  },
  {
   "cell_type": "code",
   "execution_count": 22,
   "id": "d779fb94",
   "metadata": {},
   "outputs": [
    {
     "data": {
      "application/vnd.jupyter.widget-view+json": {
       "model_id": "1625fe1a81ec424aa3d81e85df4f00c5",
       "version_major": 2,
       "version_minor": 0
      },
      "text/plain": [
       "IntProgress(value=0, max=29)"
      ]
     },
     "metadata": {},
     "output_type": "display_data"
    },
    {
     "name": "stdout",
     "output_type": "stream",
     "text": [
      "Processing ../data/train_new/new/10hr2144 -> ../data/train_new/new_256/10hr2144\n",
      "Processing ../data/train_new/new/10hr2127 -> ../data/train_new/new_256/10hr2127\n",
      "Processing ../data/train_new/new/10hr2400 -> ../data/train_new/new_256/10hr2400\n",
      "Processing ../data/train_new/new/4hr2507 -> ../data/train_new/new_256/4hr2507\n",
      "Processing ../data/train_new/new/1hr2745 -> ../data/train_new/new_256/1hr2745\n",
      "Processing ../data/train_new/new/1hr2789 -> ../data/train_new/new_256/1hr2789\n",
      "Processing ../data/train_new/new/1hr2761 -> ../data/train_new/new_256/1hr2761\n",
      "Processing ../data/train_new/new/4hr2434 -> ../data/train_new/new_256/4hr2434\n",
      "Processing ../data/train_new/new/2hr2317 -> ../data/train_new/new_256/2hr2317\n",
      "Processing ../data/train_new/new/10hr2159 -> ../data/train_new/new_256/10hr2159\n",
      "Processing ../data/train_new/new/4hr2495 -> ../data/train_new/new_256/4hr2495\n",
      "Processing ../data/train_new/new/2hr2331 -> ../data/train_new/new_256/2hr2331\n",
      "Processing ../data/train_new/new/2hr2354 -> ../data/train_new/new_256/2hr2354\n",
      "Processing ../data/train_new/new/4hr2414 -> ../data/train_new/new_256/4hr2414\n",
      "Processing ../data/train_new/new/4hr2413 -> ../data/train_new/new_256/4hr2413\n",
      "Processing ../data/train_new/new/2hr2364 -> ../data/train_new/new_256/2hr2364\n",
      "Processing ../data/train_new/new/1hr2741 -> ../data/train_new/new_256/1hr2741\n",
      "Processing ../data/train_new/new/10hr2405 -> ../data/train_new/new_256/10hr2405\n",
      "Processing ../data/train_new/new/10hr2429 -> ../data/train_new/new_256/10hr2429\n",
      "Processing ../data/train_new/new/1hr2753 -> ../data/train_new/new_256/1hr2753\n",
      "Processing ../data/train_new/new/2hr2312 -> ../data/train_new/new_256/2hr2312\n",
      "Processing ../data/train_new/new/10hr2155 -> ../data/train_new/new_256/10hr2155\n",
      "Processing ../data/train_new/new/10hr2136 -> ../data/train_new/new_256/10hr2136\n",
      "Processing ../data/train_new/new/4hr2436 -> ../data/train_new/new_256/4hr2436\n",
      "Processing ../data/train_new/new/2hr2349 -> ../data/train_new/new_256/2hr2349\n",
      "Processing ../data/train_new/new/10hr2153 -> ../data/train_new/new_256/10hr2153\n",
      "Processing ../data/train_new/new/4hr2465 -> ../data/train_new/new_256/4hr2465\n",
      "Processing ../data/train_new/new/2hr2314 -> ../data/train_new/new_256/2hr2314\n"
     ]
    }
   ],
   "source": [
    "import os\n",
    "import numpy as np\n",
    "from pathlib import Path\n",
    "from skimage import io, transform\n",
    "\n",
    "from ipywidgets import IntProgress\n",
    "from IPython.display import display\n",
    "import time\n",
    "\n",
    "img_size = (256,256)\n",
    "\n",
    "input_dir = Path('../data/train_new/new')\n",
    "output_dir = Path('../data/train_new/new_256')\n",
    "\n",
    "fovs = list(input_dir.glob('*'))\n",
    "\n",
    "f = IntProgress(min=0, max=len(fovs)) # instantiate the bar\n",
    "display(f) # display the bar\n",
    "\n",
    "for ind, fov in enumerate(fovs):\n",
    "    f.value = ind\n",
    "    if not fov.is_dir():\n",
    "        continue\n",
    "    fov_out = output_dir / fov.name\n",
    "    print(f'Processing {fov} -> {fov_out}')\n",
    "    \n",
    "    if not fov_out.is_dir():\n",
    "        fov_out.mkdir()\n",
    "        (fov_out / 'image').mkdir()\n",
    "        (fov_out / 'label').mkdir()\n",
    "        \n",
    "    for fname in fov.glob('image/*.png'):\n",
    "        outpath = fov_out / 'image' / fname.name\n",
    "        \n",
    "        img = io.imread(fname, as_gray=True)\n",
    "        img_trans = transform.resize(img, (img_size))\n",
    "        img_trans = np.uint8(255 * img_trans)\n",
    "        io.imsave(outpath, img_trans)\n",
    "        \n",
    "    for fname in fov.glob('label/*.png'):\n",
    "        outpath = fov_out / 'label' / fname.name\n",
    "        \n",
    "        img = io.imread(fname, as_gray=True)\n",
    "        img_trans = 1 * (transform.resize(img, (img_size)) > 0.9)\n",
    "\n",
    "        img_trans = np.uint8(255 * img_trans)\n",
    "        io.imsave(outpath, img_trans)"
   ]
  },
  {
   "cell_type": "code",
   "execution_count": null,
   "id": "82fac7a7",
   "metadata": {},
   "outputs": [],
   "source": []
  }
 ],
 "metadata": {
  "kernelspec": {
   "display_name": "Python 3 (ipykernel)",
   "language": "python",
   "name": "python3"
  },
  "language_info": {
   "codemirror_mode": {
    "name": "ipython",
    "version": 3
   },
   "file_extension": ".py",
   "mimetype": "text/x-python",
   "name": "python",
   "nbconvert_exporter": "python",
   "pygments_lexer": "ipython3",
   "version": "3.9.12"
  }
 },
 "nbformat": 4,
 "nbformat_minor": 5
}
