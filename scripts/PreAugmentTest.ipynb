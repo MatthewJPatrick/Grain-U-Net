{
 "cells": [
  {
   "cell_type": "code",
   "execution_count": 1,
   "id": "ca6da5ae",
   "metadata": {},
   "outputs": [],
   "source": [
    "from skimage import transform\n",
    "scale_factor = 2\n",
    "def pre_process_crop(img):\n",
    "    final_width = img.shape[0] // scale_factor\n",
    "    border = (img.shape[0] - final_width) // 2\n",
    "    return transform.resize(img[border:-border,border:-border,:], img.shape)"
   ]
  },
  {
   "cell_type": "code",
   "execution_count": 8,
   "id": "742fb376",
   "metadata": {},
   "outputs": [
    {
     "name": "stdout",
     "output_type": "stream",
     "text": [
      "The autoreload extension is already loaded. To reload it, use:\n",
      "  %reload_ext autoreload\n",
      "200\n",
      "0\n",
      "Found 3 images belonging to 1 classes.\n",
      "Found 3 images belonging to 1 classes.\n",
      "1\n",
      "Found 3 images belonging to 1 classes.\n",
      "Found 3 images belonging to 1 classes.\n",
      "2\n",
      "Found 3 images belonging to 1 classes.\n",
      "Found 3 images belonging to 1 classes.\n",
      "3\n",
      "Found 3 images belonging to 1 classes.\n",
      "Found 3 images belonging to 1 classes.\n",
      "4\n",
      "Found 3 images belonging to 1 classes.\n",
      "Found 3 images belonging to 1 classes.\n",
      "5\n",
      "Found 3 images belonging to 1 classes.\n",
      "Found 3 images belonging to 1 classes.\n",
      "6\n",
      "Found 3 images belonging to 1 classes.\n",
      "Found 3 images belonging to 1 classes.\n",
      "7\n",
      "Found 3 images belonging to 1 classes.\n",
      "Found 3 images belonging to 1 classes.\n",
      "8\n",
      "Found 3 images belonging to 1 classes.\n",
      "Found 3 images belonging to 1 classes.\n",
      "9\n",
      "Found 3 images belonging to 1 classes.\n",
      "Found 3 images belonging to 1 classes.\n"
     ]
    }
   ],
   "source": [
    "import os\n",
    "import src.data as data\n",
    "from skimage import io\n",
    "import numpy as np\n",
    "import random\n",
    "%load_ext autoreload\n",
    "%autoreload 2\n",
    "\n",
    "save_to_dir = '10hr_aug'\n",
    "data_dir = '../data/train_no_crop/10 HR/'\n",
    "width = 4000\n",
    "\n",
    "'''\n",
    "shift_range = width / 2 - width / (np.sqrt(2) * scale_factor)\n",
    "shift_range = int(shift_range / np.sqrt(2))\n",
    "'''\n",
    "\n",
    "shift_range = 200\n",
    "\n",
    "print(shift_range)\n",
    "\n",
    "data_gen_args = dict(rotation_range=360,\n",
    "                     width_shift_range=shift_range,\n",
    "                     height_shift_range=shift_range,\n",
    "                     fill_mode='constant',\n",
    "                     cval=30,\n",
    "                     preprocessing_function=pre_process_crop)\n",
    "\n",
    "for i in range(10):\n",
    "    print(i)\n",
    "    myGene = data.trainGenerator(3,data_dir,'image','label',\n",
    "                                 data_gen_args,\n",
    "                                 save_to_dir=save_to_dir,\n",
    "                                 target_size=(1750, 1750), \n",
    "                                 seed=random.randint(0,2147483647))\n",
    "    next(myGene)"
   ]
  },
  {
   "cell_type": "code",
   "execution_count": null,
   "id": "be937f9a",
   "metadata": {},
   "outputs": [],
   "source": []
  }
 ],
 "metadata": {
  "kernelspec": {
   "display_name": "venv",
   "language": "python",
   "name": "venv"
  },
  "language_info": {
   "codemirror_mode": {
    "name": "ipython",
    "version": 3
   },
   "file_extension": ".py",
   "mimetype": "text/x-python",
   "name": "python",
   "nbconvert_exporter": "python",
   "pygments_lexer": "ipython3",
   "version": "3.9.10"
  }
 },
 "nbformat": 4,
 "nbformat_minor": 5
}
