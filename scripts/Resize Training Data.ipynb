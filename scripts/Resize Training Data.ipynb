{
 "cells": [
  {
   "cell_type": "code",
   "execution_count": 30,
   "id": "2dcd0737",
   "metadata": {},
   "outputs": [
    {
     "name": "stdout",
     "output_type": "stream",
     "text": [
      "../data/train_nouveaux/image/97.png\n",
      "../data/train_nouveaux_256/image/97.png\n",
      "../data/train_nouveaux/image/98.png\n",
      "../data/train_nouveaux_256/image/98.png\n",
      "../data/train_nouveaux/image/99.png\n",
      "../data/train_nouveaux_256/image/99.png\n"
     ]
    }
   ],
   "source": [
    "import os\n",
    "import numpy as np\n",
    "from skimage import io, transform\n",
    "\n",
    "input_dir = '../data/train_nouveaux'\n",
    "output_dir = '../data/train_nouveaux_256'\n",
    "\n",
    "img_size = (256,256)\n",
    "\n",
    "image_subdir = 'image'\n",
    "image_dir = os.path.join(input_dir, image_subdir)\n",
    "image_names = np.array([])\n",
    "for fname in (np.sort(os.listdir(image_dir))[-3:]):\n",
    "    if fname.endswith('.png') and np.char.find(fname, '_'):\n",
    "        outpath = os.path.join(output_dir, image_subdir, fname)\n",
    "        inpath = os.path.join(image_dir, fname)\n",
    "        print(inpath)\n",
    "        print(outpath)\n",
    "        img = io.imread(inpath, as_gray=True)\n",
    "        img_trans = transform.resize(img, (img_size))\n",
    "        \n",
    "        img_trans = np.uint8(255 * img_trans)\n",
    "\n",
    "        io.imsave(outpath, img_trans)\n",
    "                     \n",
    "label_subdir = 'aug'\n",
    "label_dir = os.path.join(input_dir,label_subdir)\n",
    "for fname in np.sort(os.listdir(label_dir)):\n",
    "    if fname.endswith('.png') and np.char.find(fname, '_'):\n",
    "        outpath = os.path.join(output_dir, label_subdir, fname)\n",
    "        inpath = os.path.join(label_dir, fname)\n",
    "        print(inpath)\n",
    "        print(outpath)\n",
    "        img = io.imread(inpath, as_gray=True)\n",
    "        img_trans = 1 * (transform.resize(img, (img_size)) > 0.9)\n",
    "\n",
    "        img_trans = np.uint8(255 * img_trans)\n",
    "        io.imsave(outpath, img_trans)"
   ]
  },
  {
   "cell_type": "code",
   "execution_count": null,
   "id": "5dcf608b",
   "metadata": {},
   "outputs": [],
   "source": []
  },
  {
   "cell_type": "code",
   "execution_count": null,
   "id": "82fac7a7",
   "metadata": {},
   "outputs": [],
   "source": []
  }
 ],
 "metadata": {
  "kernelspec": {
   "display_name": "Python 3",
   "language": "python",
   "name": "python3"
  },
  "language_info": {
   "codemirror_mode": {
    "name": "ipython",
    "version": 3
   },
   "file_extension": ".py",
   "mimetype": "text/x-python",
   "name": "python",
   "nbconvert_exporter": "python",
   "pygments_lexer": "ipython3",
   "version": "3.9.10"
  }
 },
 "nbformat": 4,
 "nbformat_minor": 5
}
