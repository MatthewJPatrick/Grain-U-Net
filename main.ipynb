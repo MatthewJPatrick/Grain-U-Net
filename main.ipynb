{
 "cells": [
  {
   "cell_type": "markdown",
   "metadata": {
    "id": "0Ntytu8-WwfG"
   },
   "source": [
    "# Set up Google Colab\n",
    "\n",
    "This means mounting drive and importing"
   ]
  },
  {
   "cell_type": "code",
   "execution_count": 1,
   "metadata": {
    "colab": {
     "base_uri": "https://localhost:8080/"
    },
    "executionInfo": {
     "elapsed": 1763,
     "status": "ok",
     "timestamp": 1646552663070,
     "user": {
      "displayName": "James Eckstein",
      "photoUrl": "https://lh3.googleusercontent.com/a-/AOh14GjSkbwuGkSVFXmpY_K5aXDzWl4lccRS01YB-YMb=s64",
      "userId": "05032552484174298418"
     },
     "user_tz": 360
    },
    "id": "Z5laSkra8ozA",
    "outputId": "e77f3da4-3b77-4a7e-ccb8-4ffbd7cefaf1"
   },
   "outputs": [
    {
     "name": "stdout",
     "output_type": "stream",
     "text": [
      "Mounted at /content/drive\n",
      "/content/drive/My Drive/Lab/Grain-U-Net\n"
     ]
    }
   ],
   "source": [
    "from google.colab import drive\n",
    "drive.mount('/content/drive', force_remount=True)\n",
    "\n",
    "FOLDERNAME = 'Lab/Grain-U-Net'\n",
    "assert FOLDERNAME is not None, \"[!] Enter the foldername.\"\n",
    "\n",
    "import sys\n",
    "sys.path.append('/content/drive/MyDrive/{}'.format(FOLDERNAME))\n",
    "%cd /content/drive/My\\ Drive/$FOLDERNAME\n",
    "\n",
    "%load_ext autoreload\n",
    "%autoreload 2\n",
    "%aimport -tensorflow"
   ]
  },
  {
   "cell_type": "markdown",
   "metadata": {
    "id": "AzmssZqc8nmz"
   },
   "source": [
    "# Train\n",
    "\n",
    "Currently we have two ways of doing this, one with a keras Sequence and one with ImageDataGenerator. It isn't obvious which of these is better, \n",
    "\n",
    "the Sequence is:\n",
    "- Less opaque\n",
    "- Easier to debug (for me at least)\n",
    "- Pretty straight forward and customizable\n",
    "\n",
    "And the ImageDataGenerator is:\n",
    "- Fewer lines (sort of)\n",
    "- It has built in data augmentation\n",
    "- Faster (since its all written by pros)\n",
    "- Doesn't really seem super well suited to like semantic segmentation, but its probably fine\n",
    "\n",
    "So for now, I'm spending most of my time with the Sequence approach, but both are good"
   ]
  },
  {
   "cell_type": "markdown",
   "metadata": {
    "id": "8T4RUTKKsoRK"
   },
   "source": [
    "## Train With Sequence"
   ]
  },
  {
   "cell_type": "markdown",
   "metadata": {
    "id": "KFxQqYZbsoRL"
   },
   "source": [
    "**Importing the names of all the files we want to train with**"
   ]
  },
  {
   "cell_type": "code",
   "execution_count": 2,
   "metadata": {
    "colab": {
     "base_uri": "https://localhost:8080/"
    },
    "executionInfo": {
     "elapsed": 192,
     "status": "ok",
     "timestamp": 1646552668436,
     "user": {
      "displayName": "James Eckstein",
      "photoUrl": "https://lh3.googleusercontent.com/a-/AOh14GjSkbwuGkSVFXmpY_K5aXDzWl4lccRS01YB-YMb=s64",
      "userId": "05032552484174298418"
     },
     "user_tz": 360
    },
    "id": "TdqXMebrsoRL",
    "outputId": "d5a04700-3f02-4ff9-8261-8baf7f760a48"
   },
   "outputs": [
    {
     "name": "stdout",
     "output_type": "stream",
     "text": [
      "Found 299 samples\n"
     ]
    }
   ],
   "source": [
    "import os\n",
    "import numpy as np\n",
    "\n",
    "input_dir = 'data/train_nouveaux_256/image'\n",
    "input_names = np.array([])\n",
    "for fname in np.sort(os.listdir(input_dir)):\n",
    "    if fname.endswith('.png') and np.char.find(fname, '_'):\n",
    "        input_names = np.append(input_names, os.path.join(input_dir, fname))\n",
    "\n",
    "label_dir = 'data/train_nouveaux_256/label'\n",
    "label_names = np.array([])\n",
    "for fname in np.sort(os.listdir(label_dir)):\n",
    "    if fname.endswith('.png') and np.char.find(fname, '_'):\n",
    "        label_names = np.append(label_names, os.path.join(label_dir, fname))\n",
    "\n",
    "print(f\"Found {len(input_names)} samples\")"
   ]
  },
  {
   "cell_type": "markdown",
   "metadata": {
    "id": "jT3QgTqyuegg"
   },
   "source": [
    "**Making Sequence**"
   ]
  },
  {
   "cell_type": "code",
   "execution_count": 3,
   "metadata": {
    "colab": {
     "base_uri": "https://localhost:8080/"
    },
    "executionInfo": {
     "elapsed": 2610,
     "status": "ok",
     "timestamp": 1646552674428,
     "user": {
      "displayName": "James Eckstein",
      "photoUrl": "https://lh3.googleusercontent.com/a-/AOh14GjSkbwuGkSVFXmpY_K5aXDzWl4lccRS01YB-YMb=s64",
      "userId": "05032552484174298418"
     },
     "user_tz": 360
    },
    "id": "H0P1QvUHsoRM",
    "outputId": "4da9aa37-7110-4886-da31-7c826752db00"
   },
   "outputs": [
    {
     "name": "stdout",
     "output_type": "stream",
     "text": [
      "Training set size: 269, 53 batches\n",
      "Validation set size: 30, 6 batches\n"
     ]
    }
   ],
   "source": [
    "from src.grain_sequence import GrainSequence\n",
    "import random\n",
    "\n",
    "validation_samples = 30\n",
    "batch_size = 5\n",
    "\n",
    "random.Random(1337).shuffle(input_names)\n",
    "random.Random(1337).shuffle(label_names)\n",
    "\n",
    "train_input = input_names[:-validation_samples]\n",
    "train_label = label_names[:-validation_samples]\n",
    "train_gen = GrainSequence(batch_size, (256,256), train_input, train_label)\n",
    "\n",
    "valid_input = input_names[-validation_samples:]\n",
    "valid_label = label_names[-validation_samples:]\n",
    "valid_gen = GrainSequence(batch_size, (256,256), valid_input, valid_label)\n",
    "\n",
    "print(f\"Training set size: {len(train_input)}, {len(train_gen)} batches\")\n",
    "print(f\"Validation set size: {len(valid_input)}, {len(valid_gen)} batches\")"
   ]
  },
  {
   "cell_type": "code",
   "execution_count": 7,
   "metadata": {
    "colab": {
     "base_uri": "https://localhost:8080/"
    },
    "executionInfo": {
     "elapsed": 892352,
     "status": "ok",
     "timestamp": 1646553682107,
     "user": {
      "displayName": "James Eckstein",
      "photoUrl": "https://lh3.googleusercontent.com/a-/AOh14GjSkbwuGkSVFXmpY_K5aXDzWl4lccRS01YB-YMb=s64",
      "userId": "05032552484174298418"
     },
     "user_tz": 360
    },
    "id": "yrhEI1FasoRN",
    "outputId": "57e3fd4e-31d2-4ee9-9d0c-65bc4f38045a"
   },
   "outputs": [
    {
     "name": "stdout",
     "output_type": "stream",
     "text": [
      "Epoch 1/66\n"
     ]
    },
    {
     "name": "stderr",
     "output_type": "stream",
     "text": [
      "/usr/local/lib/python3.7/dist-packages/keras/optimizer_v2/adam.py:105: UserWarning: The `lr` argument is deprecated, use `learning_rate` instead.\n",
      "  super(Adam, self).__init__(name, **kwargs)\n"
     ]
    },
    {
     "name": "stdout",
     "output_type": "stream",
     "text": [
      "53/53 [==============================] - ETA: 0s - loss: 0.2396 - accuracy: 0.9446\n",
      "Epoch 1: saving model to unet_grain.hdf5\n",
      "53/53 [==============================] - 16s 274ms/step - loss: 0.2396 - accuracy: 0.9446 - val_loss: 0.2161 - val_accuracy: 0.9469\n",
      "Epoch 2/66\n",
      "53/53 [==============================] - ETA: 0s - loss: 0.2250 - accuracy: 0.9448\n",
      "Epoch 2: saving model to unet_grain.hdf5\n",
      "53/53 [==============================] - 12s 227ms/step - loss: 0.2250 - accuracy: 0.9448 - val_loss: 0.2086 - val_accuracy: 0.9469\n",
      "Epoch 3/66\n",
      "53/53 [==============================] - ETA: 0s - loss: 0.2045 - accuracy: 0.9448\n",
      "Epoch 3: saving model to unet_grain.hdf5\n",
      "53/53 [==============================] - 12s 227ms/step - loss: 0.2045 - accuracy: 0.9448 - val_loss: 0.1922 - val_accuracy: 0.9469\n",
      "Epoch 4/66\n",
      "53/53 [==============================] - ETA: 0s - loss: 0.1925 - accuracy: 0.9448\n",
      "Epoch 4: saving model to unet_grain.hdf5\n",
      "53/53 [==============================] - 13s 237ms/step - loss: 0.1925 - accuracy: 0.9448 - val_loss: 0.1795 - val_accuracy: 0.9469\n",
      "Epoch 5/66\n",
      "53/53 [==============================] - ETA: 0s - loss: 0.1841 - accuracy: 0.9448\n",
      "Epoch 5: saving model to unet_grain.hdf5\n",
      "53/53 [==============================] - 14s 263ms/step - loss: 0.1841 - accuracy: 0.9448 - val_loss: 0.1817 - val_accuracy: 0.9469\n",
      "Epoch 6/66\n",
      "53/53 [==============================] - ETA: 0s - loss: 0.1797 - accuracy: 0.9448\n",
      "Epoch 6: saving model to unet_grain.hdf5\n",
      "53/53 [==============================] - 12s 228ms/step - loss: 0.1797 - accuracy: 0.9448 - val_loss: 0.1736 - val_accuracy: 0.9469\n",
      "Epoch 7/66\n",
      "53/53 [==============================] - ETA: 0s - loss: 0.1732 - accuracy: 0.9448\n",
      "Epoch 7: saving model to unet_grain.hdf5\n",
      "53/53 [==============================] - 12s 226ms/step - loss: 0.1732 - accuracy: 0.9448 - val_loss: 0.1630 - val_accuracy: 0.9469\n",
      "Epoch 8/66\n",
      "53/53 [==============================] - ETA: 0s - loss: 0.1689 - accuracy: 0.9448\n",
      "Epoch 8: saving model to unet_grain.hdf5\n",
      "53/53 [==============================] - 14s 269ms/step - loss: 0.1689 - accuracy: 0.9448 - val_loss: 0.1629 - val_accuracy: 0.9469\n",
      "Epoch 9/66\n",
      "53/53 [==============================] - ETA: 0s - loss: 0.1631 - accuracy: 0.9448\n",
      "Epoch 9: saving model to unet_grain.hdf5\n",
      "53/53 [==============================] - 12s 231ms/step - loss: 0.1631 - accuracy: 0.9448 - val_loss: 0.1570 - val_accuracy: 0.9469\n",
      "Epoch 10/66\n",
      "53/53 [==============================] - ETA: 0s - loss: 0.1597 - accuracy: 0.9448\n",
      "Epoch 10: saving model to unet_grain.hdf5\n",
      "53/53 [==============================] - 12s 231ms/step - loss: 0.1597 - accuracy: 0.9448 - val_loss: 0.1519 - val_accuracy: 0.9469\n",
      "Epoch 11/66\n",
      "53/53 [==============================] - ETA: 0s - loss: 0.1582 - accuracy: 0.9448\n",
      "Epoch 11: saving model to unet_grain.hdf5\n",
      "53/53 [==============================] - 12s 232ms/step - loss: 0.1582 - accuracy: 0.9448 - val_loss: 0.1504 - val_accuracy: 0.9469\n",
      "Epoch 12/66\n",
      "53/53 [==============================] - ETA: 0s - loss: 0.1566 - accuracy: 0.9448\n",
      "Epoch 12: saving model to unet_grain.hdf5\n",
      "53/53 [==============================] - 12s 230ms/step - loss: 0.1566 - accuracy: 0.9448 - val_loss: 0.1492 - val_accuracy: 0.9469\n",
      "Epoch 13/66\n",
      "53/53 [==============================] - ETA: 0s - loss: 0.1552 - accuracy: 0.9448\n",
      "Epoch 13: saving model to unet_grain.hdf5\n",
      "53/53 [==============================] - 14s 270ms/step - loss: 0.1552 - accuracy: 0.9448 - val_loss: 0.1471 - val_accuracy: 0.9469\n",
      "Epoch 14/66\n",
      "53/53 [==============================] - ETA: 0s - loss: 0.1537 - accuracy: 0.9448\n",
      "Epoch 14: saving model to unet_grain.hdf5\n",
      "53/53 [==============================] - 13s 244ms/step - loss: 0.1537 - accuracy: 0.9448 - val_loss: 0.1475 - val_accuracy: 0.9469\n",
      "Epoch 15/66\n",
      "53/53 [==============================] - ETA: 0s - loss: 0.1550 - accuracy: 0.9448\n",
      "Epoch 15: saving model to unet_grain.hdf5\n",
      "53/53 [==============================] - 13s 244ms/step - loss: 0.1550 - accuracy: 0.9448 - val_loss: 0.1488 - val_accuracy: 0.9469\n",
      "Epoch 16/66\n",
      "53/53 [==============================] - ETA: 0s - loss: 0.1524 - accuracy: 0.9448\n",
      "Epoch 16: saving model to unet_grain.hdf5\n",
      "53/53 [==============================] - 12s 232ms/step - loss: 0.1524 - accuracy: 0.9448 - val_loss: 0.1450 - val_accuracy: 0.9469\n",
      "Epoch 17/66\n",
      "53/53 [==============================] - ETA: 0s - loss: 0.1513 - accuracy: 0.9448\n",
      "Epoch 17: saving model to unet_grain.hdf5\n",
      "53/53 [==============================] - 12s 229ms/step - loss: 0.1513 - accuracy: 0.9448 - val_loss: 0.1473 - val_accuracy: 0.9469\n",
      "Epoch 18/66\n",
      "53/53 [==============================] - ETA: 0s - loss: 0.1510 - accuracy: 0.9448\n",
      "Epoch 18: saving model to unet_grain.hdf5\n",
      "53/53 [==============================] - 12s 233ms/step - loss: 0.1510 - accuracy: 0.9448 - val_loss: 0.1448 - val_accuracy: 0.9469\n",
      "Epoch 19/66\n",
      "53/53 [==============================] - ETA: 0s - loss: 0.1508 - accuracy: 0.9448\n",
      "Epoch 19: saving model to unet_grain.hdf5\n",
      "53/53 [==============================] - 12s 230ms/step - loss: 0.1508 - accuracy: 0.9448 - val_loss: 0.1438 - val_accuracy: 0.9469\n",
      "Epoch 20/66\n",
      "53/53 [==============================] - ETA: 0s - loss: 0.1492 - accuracy: 0.9448\n",
      "Epoch 20: saving model to unet_grain.hdf5\n",
      "53/53 [==============================] - 15s 283ms/step - loss: 0.1492 - accuracy: 0.9448 - val_loss: 0.1440 - val_accuracy: 0.9469\n",
      "Epoch 21/66\n",
      "53/53 [==============================] - ETA: 0s - loss: 0.1489 - accuracy: 0.9448\n",
      "Epoch 21: saving model to unet_grain.hdf5\n",
      "53/53 [==============================] - 12s 229ms/step - loss: 0.1489 - accuracy: 0.9448 - val_loss: 0.1424 - val_accuracy: 0.9469\n",
      "Epoch 22/66\n",
      "53/53 [==============================] - ETA: 0s - loss: 0.1484 - accuracy: 0.9448\n",
      "Epoch 22: saving model to unet_grain.hdf5\n",
      "53/53 [==============================] - 12s 230ms/step - loss: 0.1484 - accuracy: 0.9448 - val_loss: 0.1423 - val_accuracy: 0.9469\n",
      "Epoch 23/66\n",
      "53/53 [==============================] - ETA: 0s - loss: 0.1482 - accuracy: 0.9448\n",
      "Epoch 23: saving model to unet_grain.hdf5\n",
      "53/53 [==============================] - 12s 232ms/step - loss: 0.1482 - accuracy: 0.9448 - val_loss: 0.1427 - val_accuracy: 0.9469\n",
      "Epoch 24/66\n",
      "53/53 [==============================] - ETA: 0s - loss: 0.1477 - accuracy: 0.9448\n",
      "Epoch 24: saving model to unet_grain.hdf5\n",
      "53/53 [==============================] - 12s 229ms/step - loss: 0.1477 - accuracy: 0.9448 - val_loss: 0.1407 - val_accuracy: 0.9469\n",
      "Epoch 25/66\n",
      "53/53 [==============================] - ETA: 0s - loss: 0.1468 - accuracy: 0.9448\n",
      "Epoch 25: saving model to unet_grain.hdf5\n",
      "53/53 [==============================] - 13s 241ms/step - loss: 0.1468 - accuracy: 0.9448 - val_loss: 0.1419 - val_accuracy: 0.9469\n",
      "Epoch 26/66\n",
      "53/53 [==============================] - ETA: 0s - loss: 0.1462 - accuracy: 0.9448\n",
      "Epoch 26: saving model to unet_grain.hdf5\n",
      "53/53 [==============================] - 12s 230ms/step - loss: 0.1462 - accuracy: 0.9448 - val_loss: 0.1420 - val_accuracy: 0.9469\n",
      "Epoch 27/66\n",
      "53/53 [==============================] - ETA: 0s - loss: 0.1458 - accuracy: 0.9448\n",
      "Epoch 27: saving model to unet_grain.hdf5\n",
      "53/53 [==============================] - 12s 230ms/step - loss: 0.1458 - accuracy: 0.9448 - val_loss: 0.1403 - val_accuracy: 0.9469\n",
      "Epoch 28/66\n",
      "53/53 [==============================] - ETA: 0s - loss: 0.1456 - accuracy: 0.9448\n",
      "Epoch 28: saving model to unet_grain.hdf5\n",
      "53/53 [==============================] - 13s 236ms/step - loss: 0.1456 - accuracy: 0.9448 - val_loss: 0.1395 - val_accuracy: 0.9469\n",
      "Epoch 29/66\n",
      "53/53 [==============================] - ETA: 0s - loss: 0.1455 - accuracy: 0.9448\n",
      "Epoch 29: saving model to unet_grain.hdf5\n",
      "53/53 [==============================] - 12s 231ms/step - loss: 0.1455 - accuracy: 0.9448 - val_loss: 0.1389 - val_accuracy: 0.9469\n",
      "Epoch 30/66\n",
      "53/53 [==============================] - ETA: 0s - loss: 0.1450 - accuracy: 0.9448\n",
      "Epoch 30: saving model to unet_grain.hdf5\n",
      "53/53 [==============================] - 12s 229ms/step - loss: 0.1450 - accuracy: 0.9448 - val_loss: 0.1391 - val_accuracy: 0.9469\n",
      "Epoch 31/66\n",
      "53/53 [==============================] - ETA: 0s - loss: 0.1444 - accuracy: 0.9448\n",
      "Epoch 31: saving model to unet_grain.hdf5\n",
      "53/53 [==============================] - 12s 230ms/step - loss: 0.1444 - accuracy: 0.9448 - val_loss: 0.1406 - val_accuracy: 0.9469\n",
      "Epoch 32/66\n",
      "53/53 [==============================] - ETA: 0s - loss: 0.1441 - accuracy: 0.9448\n",
      "Epoch 32: saving model to unet_grain.hdf5\n",
      "53/53 [==============================] - 12s 229ms/step - loss: 0.1441 - accuracy: 0.9448 - val_loss: 0.1413 - val_accuracy: 0.9469\n",
      "Epoch 33/66\n",
      "53/53 [==============================] - ETA: 0s - loss: 0.1433 - accuracy: 0.9448\n",
      "Epoch 33: saving model to unet_grain.hdf5\n",
      "53/53 [==============================] - 13s 239ms/step - loss: 0.1433 - accuracy: 0.9448 - val_loss: 0.1385 - val_accuracy: 0.9469\n",
      "Epoch 34/66\n",
      "53/53 [==============================] - ETA: 0s - loss: 0.1435 - accuracy: 0.9448\n",
      "Epoch 34: saving model to unet_grain.hdf5\n",
      "53/53 [==============================] - 14s 261ms/step - loss: 0.1435 - accuracy: 0.9448 - val_loss: 0.1374 - val_accuracy: 0.9469\n",
      "Epoch 35/66\n",
      "53/53 [==============================] - ETA: 0s - loss: 0.1431 - accuracy: 0.9448\n",
      "Epoch 35: saving model to unet_grain.hdf5\n",
      "53/53 [==============================] - 14s 268ms/step - loss: 0.1431 - accuracy: 0.9448 - val_loss: 0.1390 - val_accuracy: 0.9469\n",
      "Epoch 36/66\n",
      "53/53 [==============================] - ETA: 0s - loss: 0.1423 - accuracy: 0.9448\n",
      "Epoch 36: saving model to unet_grain.hdf5\n",
      "53/53 [==============================] - 12s 229ms/step - loss: 0.1423 - accuracy: 0.9448 - val_loss: 0.1391 - val_accuracy: 0.9469\n",
      "Epoch 37/66\n",
      "53/53 [==============================] - ETA: 0s - loss: 0.1419 - accuracy: 0.9448\n",
      "Epoch 37: saving model to unet_grain.hdf5\n",
      "53/53 [==============================] - 13s 239ms/step - loss: 0.1419 - accuracy: 0.9448 - val_loss: 0.1373 - val_accuracy: 0.9469\n",
      "Epoch 38/66\n",
      "53/53 [==============================] - ETA: 0s - loss: 0.1417 - accuracy: 0.9448\n",
      "Epoch 38: saving model to unet_grain.hdf5\n",
      "53/53 [==============================] - 12s 231ms/step - loss: 0.1417 - accuracy: 0.9448 - val_loss: 0.1387 - val_accuracy: 0.9469\n",
      "Epoch 39/66\n",
      "53/53 [==============================] - ETA: 0s - loss: 0.1424 - accuracy: 0.9448\n",
      "Epoch 39: saving model to unet_grain.hdf5\n",
      "53/53 [==============================] - 12s 230ms/step - loss: 0.1424 - accuracy: 0.9448 - val_loss: 0.1370 - val_accuracy: 0.9469\n",
      "Epoch 40/66\n",
      "53/53 [==============================] - ETA: 0s - loss: 0.1409 - accuracy: 0.9448\n",
      "Epoch 40: saving model to unet_grain.hdf5\n",
      "53/53 [==============================] - 12s 230ms/step - loss: 0.1409 - accuracy: 0.9448 - val_loss: 0.1377 - val_accuracy: 0.9469\n",
      "Epoch 41/66\n",
      "53/53 [==============================] - ETA: 0s - loss: 0.1409 - accuracy: 0.9448\n",
      "Epoch 41: saving model to unet_grain.hdf5\n",
      "53/53 [==============================] - 12s 229ms/step - loss: 0.1409 - accuracy: 0.9448 - val_loss: 0.1402 - val_accuracy: 0.9469\n",
      "Epoch 42/66\n",
      "53/53 [==============================] - ETA: 0s - loss: 0.1412 - accuracy: 0.9448\n",
      "Epoch 42: saving model to unet_grain.hdf5\n",
      "53/53 [==============================] - 13s 236ms/step - loss: 0.1412 - accuracy: 0.9448 - val_loss: 0.1368 - val_accuracy: 0.9469\n",
      "Epoch 43/66\n",
      "53/53 [==============================] - ETA: 0s - loss: 0.1393 - accuracy: 0.9448\n",
      "Epoch 43: saving model to unet_grain.hdf5\n",
      "53/53 [==============================] - 12s 234ms/step - loss: 0.1393 - accuracy: 0.9448 - val_loss: 0.1365 - val_accuracy: 0.9469\n",
      "Epoch 44/66\n",
      "53/53 [==============================] - ETA: 0s - loss: 0.1397 - accuracy: 0.9448\n",
      "Epoch 44: saving model to unet_grain.hdf5\n",
      "53/53 [==============================] - 12s 230ms/step - loss: 0.1397 - accuracy: 0.9448 - val_loss: 0.1375 - val_accuracy: 0.9469\n",
      "Epoch 45/66\n",
      "53/53 [==============================] - ETA: 0s - loss: 0.1400 - accuracy: 0.9448\n",
      "Epoch 45: saving model to unet_grain.hdf5\n",
      "53/53 [==============================] - 14s 268ms/step - loss: 0.1400 - accuracy: 0.9448 - val_loss: 0.1368 - val_accuracy: 0.9469\n",
      "Epoch 46/66\n",
      "53/53 [==============================] - ETA: 0s - loss: 0.1390 - accuracy: 0.9448\n",
      "Epoch 46: saving model to unet_grain.hdf5\n",
      "53/53 [==============================] - 12s 229ms/step - loss: 0.1390 - accuracy: 0.9448 - val_loss: 0.1351 - val_accuracy: 0.9469\n",
      "Epoch 47/66\n",
      "53/53 [==============================] - ETA: 0s - loss: 0.1384 - accuracy: 0.9448\n",
      "Epoch 47: saving model to unet_grain.hdf5\n",
      "53/53 [==============================] - 12s 231ms/step - loss: 0.1384 - accuracy: 0.9448 - val_loss: 0.1352 - val_accuracy: 0.9469\n",
      "Epoch 48/66\n",
      "53/53 [==============================] - ETA: 0s - loss: 0.1385 - accuracy: 0.9448\n",
      "Epoch 48: saving model to unet_grain.hdf5\n",
      "53/53 [==============================] - 14s 245ms/step - loss: 0.1385 - accuracy: 0.9448 - val_loss: 0.1371 - val_accuracy: 0.9469\n",
      "Epoch 49/66\n",
      "53/53 [==============================] - ETA: 0s - loss: 0.1388 - accuracy: 0.9448\n",
      "Epoch 49: saving model to unet_grain.hdf5\n",
      "53/53 [==============================] - 13s 240ms/step - loss: 0.1388 - accuracy: 0.9448 - val_loss: 0.1337 - val_accuracy: 0.9469\n",
      "Epoch 50/66\n",
      "53/53 [==============================] - ETA: 0s - loss: 0.1378 - accuracy: 0.9448\n",
      "Epoch 50: saving model to unet_grain.hdf5\n",
      "53/53 [==============================] - 12s 232ms/step - loss: 0.1378 - accuracy: 0.9448 - val_loss: 0.1385 - val_accuracy: 0.9469\n",
      "Epoch 51/66\n",
      "53/53 [==============================] - ETA: 0s - loss: 0.1376 - accuracy: 0.9448\n",
      "Epoch 51: saving model to unet_grain.hdf5\n",
      "53/53 [==============================] - 12s 231ms/step - loss: 0.1376 - accuracy: 0.9448 - val_loss: 0.1352 - val_accuracy: 0.9469\n",
      "Epoch 52/66\n",
      "53/53 [==============================] - ETA: 0s - loss: 0.1371 - accuracy: 0.9448\n",
      "Epoch 52: saving model to unet_grain.hdf5\n",
      "53/53 [==============================] - 12s 231ms/step - loss: 0.1371 - accuracy: 0.9448 - val_loss: 0.1340 - val_accuracy: 0.9469\n",
      "Epoch 53/66\n",
      "53/53 [==============================] - ETA: 0s - loss: 0.1366 - accuracy: 0.9448\n",
      "Epoch 53: saving model to unet_grain.hdf5\n",
      "53/53 [==============================] - 12s 232ms/step - loss: 0.1366 - accuracy: 0.9448 - val_loss: 0.1345 - val_accuracy: 0.9469\n",
      "Epoch 54/66\n",
      "53/53 [==============================] - ETA: 0s - loss: 0.1365 - accuracy: 0.9448\n",
      "Epoch 54: saving model to unet_grain.hdf5\n",
      "53/53 [==============================] - 12s 231ms/step - loss: 0.1365 - accuracy: 0.9448 - val_loss: 0.1387 - val_accuracy: 0.9469\n",
      "Epoch 55/66\n",
      "53/53 [==============================] - ETA: 0s - loss: 0.1371 - accuracy: 0.9448\n",
      "Epoch 55: saving model to unet_grain.hdf5\n",
      "53/53 [==============================] - 13s 237ms/step - loss: 0.1371 - accuracy: 0.9448 - val_loss: 0.1343 - val_accuracy: 0.9469\n",
      "Epoch 56/66\n",
      "53/53 [==============================] - ETA: 0s - loss: 0.1354 - accuracy: 0.9448\n",
      "Epoch 56: saving model to unet_grain.hdf5\n",
      "53/53 [==============================] - 12s 233ms/step - loss: 0.1354 - accuracy: 0.9448 - val_loss: 0.1333 - val_accuracy: 0.9469\n",
      "Epoch 57/66\n",
      "53/53 [==============================] - ETA: 0s - loss: 0.1352 - accuracy: 0.9448\n",
      "Epoch 57: saving model to unet_grain.hdf5\n",
      "53/53 [==============================] - 12s 232ms/step - loss: 0.1352 - accuracy: 0.9448 - val_loss: 0.1358 - val_accuracy: 0.9469\n",
      "Epoch 58/66\n",
      "53/53 [==============================] - ETA: 0s - loss: 0.1355 - accuracy: 0.9448\n",
      "Epoch 58: saving model to unet_grain.hdf5\n",
      "53/53 [==============================] - 13s 238ms/step - loss: 0.1355 - accuracy: 0.9448 - val_loss: 0.1339 - val_accuracy: 0.9469\n",
      "Epoch 59/66\n",
      "53/53 [==============================] - ETA: 0s - loss: 0.1342 - accuracy: 0.9448\n",
      "Epoch 59: saving model to unet_grain.hdf5\n",
      "53/53 [==============================] - 13s 245ms/step - loss: 0.1342 - accuracy: 0.9448 - val_loss: 0.1340 - val_accuracy: 0.9469\n",
      "Epoch 60/66\n",
      "53/53 [==============================] - ETA: 0s - loss: 0.1351 - accuracy: 0.9448\n",
      "Epoch 60: saving model to unet_grain.hdf5\n",
      "53/53 [==============================] - 12s 233ms/step - loss: 0.1351 - accuracy: 0.9448 - val_loss: 0.1355 - val_accuracy: 0.9469\n",
      "Epoch 61/66\n",
      "53/53 [==============================] - ETA: 0s - loss: 0.1336 - accuracy: 0.9448\n",
      "Epoch 61: saving model to unet_grain.hdf5\n",
      "53/53 [==============================] - 13s 246ms/step - loss: 0.1336 - accuracy: 0.9448 - val_loss: 0.1316 - val_accuracy: 0.9469\n",
      "Epoch 62/66\n",
      "53/53 [==============================] - ETA: 0s - loss: 0.1333 - accuracy: 0.9448\n",
      "Epoch 62: saving model to unet_grain.hdf5\n",
      "53/53 [==============================] - 12s 233ms/step - loss: 0.1333 - accuracy: 0.9448 - val_loss: 0.1339 - val_accuracy: 0.9469\n",
      "Epoch 63/66\n",
      "53/53 [==============================] - ETA: 0s - loss: 0.1334 - accuracy: 0.9448\n",
      "Epoch 63: saving model to unet_grain.hdf5\n",
      "53/53 [==============================] - 12s 233ms/step - loss: 0.1334 - accuracy: 0.9448 - val_loss: 0.1315 - val_accuracy: 0.9469\n",
      "Epoch 64/66\n",
      "53/53 [==============================] - ETA: 0s - loss: 0.1329 - accuracy: 0.9448\n",
      "Epoch 64: saving model to unet_grain.hdf5\n",
      "53/53 [==============================] - 12s 233ms/step - loss: 0.1329 - accuracy: 0.9448 - val_loss: 0.1327 - val_accuracy: 0.9469\n",
      "Epoch 65/66\n",
      "53/53 [==============================] - ETA: 0s - loss: 0.1327 - accuracy: 0.9448\n",
      "Epoch 65: saving model to unet_grain.hdf5\n",
      "53/53 [==============================] - 12s 232ms/step - loss: 0.1327 - accuracy: 0.9448 - val_loss: 0.1337 - val_accuracy: 0.9469\n",
      "Epoch 66/66\n",
      "53/53 [==============================] - ETA: 0s - loss: 0.1317 - accuracy: 0.9448\n",
      "Epoch 66: saving model to unet_grain.hdf5\n",
      "53/53 [==============================] - 13s 245ms/step - loss: 0.1317 - accuracy: 0.9448 - val_loss: 0.1330 - val_accuracy: 0.9469\n"
     ]
    }
   ],
   "source": [
    "from src import unet\n",
    "from tensorflow import keras\n",
    "\n",
    "model = unet.unet(input_size = (256, 256, 1))\n",
    "model_checkpoint = keras.callbacks.ModelCheckpoint('unet_grain.hdf5', monitor='loss', verbose=1, save_best_only=False)\n",
    "history = model.fit(\n",
    "    train_gen, \n",
    "    steps_per_epoch=len(train_gen), \n",
    "    epochs=66, \n",
    "    callbacks=[model_checkpoint], \n",
    "    validation_data=valid_gen,\n",
    "    workers=2\n",
    ")"
   ]
  },
  {
   "cell_type": "code",
   "execution_count": 25,
   "metadata": {
    "colab": {
     "base_uri": "https://localhost:8080/",
     "height": 350
    },
    "executionInfo": {
     "elapsed": 361,
     "status": "ok",
     "timestamp": 1646554394053,
     "user": {
      "displayName": "James Eckstein",
      "photoUrl": "https://lh3.googleusercontent.com/a-/AOh14GjSkbwuGkSVFXmpY_K5aXDzWl4lccRS01YB-YMb=s64",
      "userId": "05032552484174298418"
     },
     "user_tz": 360
    },
    "id": "GlcQzaDoNFQd",
    "outputId": "a6e21529-5824-4615-9026-7729a63fce1f"
   },
   "outputs": [
    {
     "data": {
      "image/png": "[encoded data removed]",
      "text/plain": [
       "<Figure size 720x360 with 1 Axes>"
      ]
     },
     "metadata": {},
     "output_type": "display_data"
    }
   ],
   "source": [
    "import matplotlib.pyplot as plt\n",
    "\n",
    "train_loss = history.history['loss']\n",
    "valid_loss = history.history['val_loss']\n",
    "\n",
    "plt.figure(figsize=(10,5), facecolor='White')\n",
    "\n",
    "plt.title(\"Loss With Basic Augmentation\")\n",
    "plt.xlabel(\"Epochs\")\n",
    "plt.plot(train_loss, label='Training Loss')\n",
    "plt.plot(valid_loss, label='Validation Loss')\n",
    "plt.legend()\n",
    "plt.show()"
   ]
  },
  {
   "cell_type": "markdown",
   "metadata": {
    "id": "yYRADonH8nm0"
   },
   "source": [
    "## Train with data generator"
   ]
  },
  {
   "cell_type": "code",
   "execution_count": null,
   "metadata": {
    "colab": {
     "base_uri": "https://localhost:8080/"
    },
    "id": "aCLKtQBo8nm1",
    "outputId": "d82a0925-2aae-44e7-b82e-93d74072b3de"
   },
   "outputs": [
    {
     "name": "stderr",
     "output_type": "stream",
     "text": [
      "/usr/local/lib/python3.7/dist-packages/keras/optimizer_v2/adam.py:105: UserWarning: The `lr` argument is deprecated, use `learning_rate` instead.\n",
      "  super(Adam, self).__init__(name, **kwargs)\n",
      "/usr/local/lib/python3.7/dist-packages/ipykernel_launcher.py:17: UserWarning: `Model.fit_generator` is deprecated and will be removed in a future version. Please use `Model.fit`, which supports generators.\n"
     ]
    },
    {
     "name": "stdout",
     "output_type": "stream",
     "text": [
      "Found 13 images belonging to 1 classes.\n",
      "Found 13 images belonging to 1 classes.\n",
      "Found 13 images belonging to 1 classes.\n",
      "Epoch 1/3\n",
      "50/50 [==============================] - ETA: 0s - loss: 0.1360 - mae: 0.1532\n",
      "Epoch 00001: saving model to unet_grain.hdf5\n",
      "50/50 [==============================] - 218s 4s/step - loss: 0.1360 - mae: 0.1532\n",
      "Epoch 2/3\n",
      "50/50 [==============================] - ETA: 0s - loss: 0.0815 - mae: 0.1217\n",
      "Epoch 00002: saving model to unet_grain.hdf5\n",
      "50/50 [==============================] - 205s 4s/step - loss: 0.0815 - mae: 0.1217\n",
      "Epoch 3/3\n",
      "38/50 [=====================>........] - ETA: 49s - loss: 0.0819 - mae: 0.1201"
     ]
    }
   ],
   "source": [
    "from tensorflow import keras\n",
    "from skimage import io\n",
    "import numpy as np\n",
    "\n",
    "data_gen_args = dict(rotation_range=0.2,\n",
    "                    width_shift_range=0.00,\n",
    "                    height_shift_range=0.00,\n",
    "                    shear_range=0.00,\n",
    "                    zoom_range=0.05,\n",
    "                    horizontal_flip=True,\n",
    "                    fill_mode='nearest')\n",
    "save_to_dir = 'data/train/aug'\n",
    "myGene = data.trainGenerator(4,'data/train','image','label',data_gen_args, save_to_dir = save_to_dir, target_size = (256, 256))\n",
    "\n",
    "model = Model.unet(input_size = (256, 256, 1))\n",
    "model_checkpoint = keras.callbacks.ModelCheckpoint('unet_grain.hdf5', monitor='loss',verbose=1, save_best_only=False)\n",
    "model.fit_generator(myGene, steps_per_epoch=50, epochs=3, callbacks=[model_checkpoint])"
   ]
  },
  {
   "cell_type": "markdown",
   "metadata": {
    "id": "SOes-E73s-n-"
   },
   "source": [
    "### Investigate Filters"
   ]
  },
  {
   "cell_type": "code",
   "execution_count": null,
   "metadata": {
    "id": "VfpSPG3a463O"
   },
   "outputs": [],
   "source": [
    "# lil snippet to try to view the filters\n",
    "import numpy as np\n",
    "from skimage import io\n",
    "model = Model.unet()\n",
    "model.load_weights(\"unet_grain.hdf5\")\n",
    "weights = model.get_weights()\n",
    "filters = np.array(weights[0])\n",
    "\n",
    "for i in range(64):\n",
    "    filt = np.zeros((3,3))\n",
    "    filt[0,0] = filters[0][0][0][i]\n",
    "    filt[0,1] = filters[0][1][0][i]\n",
    "    filt[0,2] = filters[0][2][0][i]\n",
    "\n",
    "    filt[1,0] = filters[1][0][0][i]\n",
    "    filt[1,1] = filters[1][1][0][i]\n",
    "    filt[1,2] = filters[1][2][0][i]\n",
    "    \n",
    "    filt[2,0] = filters[2][0][0][i]\n",
    "    filt[2,1] = filters[2][1][0][i]\n",
    "    filt[2,2] = filters[2][2][0][i]\n",
    "\n",
    "    io.imshow(filt)\n",
    "    io.show()"
   ]
  },
  {
   "cell_type": "markdown",
   "metadata": {
    "id": "vC9fh6Jn8nm2"
   },
   "source": [
    "# Test \n"
   ]
  },
  {
   "cell_type": "code",
   "execution_count": 18,
   "metadata": {
    "colab": {
     "base_uri": "https://localhost:8080/",
     "height": 1000
    },
    "executionInfo": {
     "elapsed": 138133,
     "status": "ok",
     "timestamp": 1646551966512,
     "user": {
      "displayName": "James Eckstein",
      "photoUrl": "https://lh3.googleusercontent.com/a-/AOh14GjSkbwuGkSVFXmpY_K5aXDzWl4lccRS01YB-YMb=s64",
      "userId": "05032552484174298418"
     },
     "user_tz": 360
    },
    "id": "BdvX_FQJ8nm2",
    "outputId": "1fa2b0ff-6409-40ae-9846-4f719efc6239"
   },
   "outputs": [
    {
     "name": "stdout",
     "output_type": "stream",
     "text": [
      "3/3 [==============================] - 24s 8s/step\n",
      "\n",
      "Saving to data/test_combination/10HR/2153/predict/10hr2152_1.png\n",
      "Min: 97.33660888671875, Max: 255.0, Shape: (640, 640, 1)\n",
      "\n",
      "Saving to data/test_combination/10HR/2153/predict/10hr2153_2.png\n",
      "Min: 95.88763427734375, Max: 255.0, Shape: (640, 640, 1)\n",
      "\n",
      "Saving to data/test_combination/10HR/2153/predict/10hr2154_3.png\n",
      "Min: 97.95018005371094, Max: 255.0, Shape: (640, 640, 1)\n"
     ]
    }
   ],
   "source": [
    "import os\n",
    "from src import unet\n",
    "from skimage import io, transform\n",
    "from time import time\n",
    "import numpy as np\n",
    "\n",
    "test_dir = 'data/test_combination/10HR/2153'\n",
    "target_size = (640,640)\n",
    "\n",
    "save_dir = os.path.join(test_dir, 'predict')\n",
    "save_suf = ''\n",
    "\n",
    "def test_img_gen(test_paths, target_size=(256,256)):\n",
    "    for ind, path in enumerate(test_paths):\n",
    "        img = io.imread(path)\n",
    "        if len(img.shape) > 2:\n",
    "            img = img[:,:,0]\n",
    "        if img.shape != target_size:\n",
    "            img = transform.resize(img, target_size)\n",
    "\n",
    "        img -= img.min()\n",
    "        img = img.astype('float32') / np.ptp(img)\n",
    "        img = np.expand_dims(img, 0)\n",
    "        yield img\n",
    "\n",
    "test_names = np.array([])\n",
    "for fname in np.sort(os.listdir(test_dir)):\n",
    "    if fname.endswith('.png') and np.char.find(fname, 'trace') == -1:\n",
    "        test_names = np.append(test_names, os.path.join(test_dir, fname))\n",
    "\n",
    "test_set = test_img_gen(test_names, target_size=target_size)\n",
    "\n",
    "model = unet.unet(input_size=(target_size + (1,)))\n",
    "model.load_weights(\"results/nouveaux256_aug_b5-s53-e66.hdf5\")\n",
    "\n",
    "results = 255 * model.predict(test_set, steps=len(test_names), verbose=1)\n",
    "\n",
    "for ind, result in enumerate(results):\n",
    "    fname = test_names[ind].split('/')[-1]\n",
    "    save_path = f'{save_dir}/{fname[:-4]}{save_suf}.png'\n",
    "    print(f\"\\nSaving to {save_path}\")\n",
    "    print(f\"Min: {np.min(result)}, Max: {np.max(result)}, Shape: {result.shape}\")\n",
    "    io.imsave(save_path, result[:,:,0].astype('uint8'))\n",
    "    '''\n",
    "    if ind == 0:\n",
    "        io.imshow(result[:, :, 0])\n",
    "        io.show()\n",
    "        '''"
   ]
  },
  {
   "cell_type": "markdown",
   "metadata": {
    "id": "3w1CEhlEXxi6"
   },
   "source": [
    "# Post Processing"
   ]
  },
  {
   "cell_type": "markdown",
   "metadata": {
    "id": "sis-WIcXYp7W"
   },
   "source": [
    "## Threshold and Skeletonizing\n",
    "\n",
    "This next thing is just to visualize what the processing is doing before applying it to all the images"
   ]
  },
  {
   "cell_type": "code",
   "execution_count": null,
   "metadata": {
    "colab": {
     "base_uri": "https://localhost:8080/",
     "height": 145
    },
    "executionInfo": {
     "elapsed": 422,
     "status": "ok",
     "timestamp": 1643051227205,
     "user": {
      "displayName": "James Eckstein",
      "photoUrl": "https://lh3.googleusercontent.com/a-/AOh14GjSkbwuGkSVFXmpY_K5aXDzWl4lccRS01YB-YMb=s64",
      "userId": "05032552484174298418"
     },
     "user_tz": 360
    },
    "id": "7P3IQNMcXxJ0",
    "outputId": "ff3cd173-c312-4d3c-d82e-ea56a4571960"
   },
   "outputs": [
    {
     "data": {
      "image/png": "[encoded data removed]",
      "text/plain": [
       "<Figure size 432x288 with 3 Axes>"
      ]
     },
     "metadata": {
      "needs_background": "light"
     },
     "output_type": "display_data"
    }
   ],
   "source": [
    "from skimage import data, io, filters, morphology\n",
    "import numpy as np\n",
    "import matplotlib.pyplot as plt\n",
    "\n",
    "def imsubplot(ax, im, cmap=\"gray\", title=None):\n",
    "    ax.imshow(im, cmap=cmap)\n",
    "    ax.axis(\"off\")\n",
    "    if title:\n",
    "        ax.set_title(title)\n",
    "\n",
    "def post_process(path, thresh=255, verbose=False):\n",
    "    image = io.imread(path)\n",
    "    threshold = np.zeros(image.shape)\n",
    "    threshold[image < thresh] = 1\n",
    "    skeleton = morphology.skeletonize(threshold)\n",
    "    \n",
    "    if verbose:\n",
    "        fig, (a, b, c) = plt.subplots(ncols=3)\n",
    "        \n",
    "        imsubplot(a, image, title='UNET Output')\n",
    "        imsubplot(b, threshold, title='Threshold')\n",
    "        imsubplot(c, skeleton, title='Skeleton')\n",
    "        plt.show()\n",
    "    else:\n",
    "        return skeleton\n",
    "\n",
    "post_process('data/testerino/0_predict.png', thresh=250, verbose=True)"
   ]
  },
  {
   "cell_type": "markdown",
   "metadata": {
    "id": "XnXY_X1UY6AB"
   },
   "source": [
    "**This is to apply this processing to all the boundaries**"
   ]
  },
  {
   "cell_type": "code",
   "execution_count": null,
   "metadata": {
    "id": "q_h72d6UY5Rm"
   },
   "outputs": [],
   "source": [
    "if 'test_n' not in locals():\n",
    "    test_n = 29\n",
    "    test_dir = 'data/test/'\n",
    "\n",
    "for i in range(test_n):\n",
    "    im_path = f'{test_dir}{i}_predict.png'\n",
    "    skel = 255 * post_process(im_path, thresh=250)\n",
    "    io.imsave(f'{test_dir}{i}_processed.png', skel.astype('uint8')) "
   ]
  },
  {
   "cell_type": "markdown",
   "metadata": {
    "id": "cR6xzMBPcaw2"
   },
   "source": [
    "## Overlay "
   ]
  },
  {
   "cell_type": "code",
   "execution_count": null,
   "metadata": {
    "colab": {
     "base_uri": "https://localhost:8080/",
     "height": 381
    },
    "executionInfo": {
     "elapsed": 21761,
     "status": "error",
     "timestamp": 1643051708537,
     "user": {
      "displayName": "James Eckstein",
      "photoUrl": "https://lh3.googleusercontent.com/a-/AOh14GjSkbwuGkSVFXmpY_K5aXDzWl4lccRS01YB-YMb=s64",
      "userId": "05032552484174298418"
     },
     "user_tz": 360
    },
    "id": "SalLaUI4c-1A",
    "outputId": "5d42cf68-b102-4909-c259-0b3103da2ccd"
   },
   "outputs": [
    {
     "ename": "FileNotFoundError",
     "evalue": "ignored",
     "output_type": "error",
     "traceback": [
      "\u001b[0;31m---------------------------------------------------------------------------\u001b[0m",
      "\u001b[0;31mFileNotFoundError\u001b[0m                         Traceback (most recent call last)",
      "\u001b[0;32m<ipython-input-80-c721bfe49e64>\u001b[0m in \u001b[0;36m<module>\u001b[0;34m()\u001b[0m\n\u001b[1;32m      9\u001b[0m \u001b[0;32mfor\u001b[0m \u001b[0mi\u001b[0m \u001b[0;32min\u001b[0m \u001b[0mrange\u001b[0m\u001b[0;34m(\u001b[0m\u001b[0mtest_n\u001b[0m\u001b[0;34m)\u001b[0m\u001b[0;34m:\u001b[0m\u001b[0;34m\u001b[0m\u001b[0;34m\u001b[0m\u001b[0m\n\u001b[1;32m     10\u001b[0m     \u001b[0mi\u001b[0m \u001b[0;34m=\u001b[0m \u001b[0mi\u001b[0m \u001b[0;34m+\u001b[0m \u001b[0;36m1\u001b[0m\u001b[0;34m\u001b[0m\u001b[0;34m\u001b[0m\u001b[0m\n\u001b[0;32m---> 11\u001b[0;31m     \u001b[0mraw_img\u001b[0m \u001b[0;34m=\u001b[0m \u001b[0mio\u001b[0m\u001b[0;34m.\u001b[0m\u001b[0mimread\u001b[0m\u001b[0;34m(\u001b[0m\u001b[0;34mf'{test_dir}0{i}.png'\u001b[0m\u001b[0;34m)\u001b[0m\u001b[0;34m\u001b[0m\u001b[0;34m\u001b[0m\u001b[0m\n\u001b[0m\u001b[1;32m     12\u001b[0m     \u001b[0msk_img\u001b[0m \u001b[0;34m=\u001b[0m \u001b[0mio\u001b[0m\u001b[0;34m.\u001b[0m\u001b[0mimread\u001b[0m\u001b[0;34m(\u001b[0m\u001b[0;34mf'{test_dir}{i}_processed.png'\u001b[0m\u001b[0;34m)\u001b[0m\u001b[0;34m\u001b[0m\u001b[0;34m\u001b[0m\u001b[0m\n\u001b[1;32m     13\u001b[0m     \u001b[0msk_img\u001b[0m \u001b[0;34m=\u001b[0m \u001b[0;36m255\u001b[0m \u001b[0;34m*\u001b[0m \u001b[0mtransform\u001b[0m\u001b[0;34m.\u001b[0m\u001b[0mresize\u001b[0m\u001b[0;34m(\u001b[0m\u001b[0msk_img\u001b[0m\u001b[0;34m,\u001b[0m \u001b[0mraw_img\u001b[0m\u001b[0;34m.\u001b[0m\u001b[0mshape\u001b[0m\u001b[0;34m,\u001b[0m \u001b[0manti_aliasing\u001b[0m\u001b[0;34m=\u001b[0m\u001b[0;32mFalse\u001b[0m\u001b[0;34m)\u001b[0m\u001b[0;34m\u001b[0m\u001b[0;34m\u001b[0m\u001b[0m\n",
      "\u001b[0;32m/usr/local/lib/python3.7/dist-packages/skimage/io/_io.py\u001b[0m in \u001b[0;36mimread\u001b[0;34m(fname, as_gray, plugin, **plugin_args)\u001b[0m\n\u001b[1;32m     46\u001b[0m \u001b[0;34m\u001b[0m\u001b[0m\n\u001b[1;32m     47\u001b[0m     \u001b[0;32mwith\u001b[0m \u001b[0mfile_or_url_context\u001b[0m\u001b[0;34m(\u001b[0m\u001b[0mfname\u001b[0m\u001b[0;34m)\u001b[0m \u001b[0;32mas\u001b[0m \u001b[0mfname\u001b[0m\u001b[0;34m:\u001b[0m\u001b[0;34m\u001b[0m\u001b[0;34m\u001b[0m\u001b[0m\n\u001b[0;32m---> 48\u001b[0;31m         \u001b[0mimg\u001b[0m \u001b[0;34m=\u001b[0m \u001b[0mcall_plugin\u001b[0m\u001b[0;34m(\u001b[0m\u001b[0;34m'imread'\u001b[0m\u001b[0;34m,\u001b[0m \u001b[0mfname\u001b[0m\u001b[0;34m,\u001b[0m \u001b[0mplugin\u001b[0m\u001b[0;34m=\u001b[0m\u001b[0mplugin\u001b[0m\u001b[0;34m,\u001b[0m \u001b[0;34m**\u001b[0m\u001b[0mplugin_args\u001b[0m\u001b[0;34m)\u001b[0m\u001b[0;34m\u001b[0m\u001b[0;34m\u001b[0m\u001b[0m\n\u001b[0m\u001b[1;32m     49\u001b[0m \u001b[0;34m\u001b[0m\u001b[0m\n\u001b[1;32m     50\u001b[0m     \u001b[0;32mif\u001b[0m \u001b[0;32mnot\u001b[0m \u001b[0mhasattr\u001b[0m\u001b[0;34m(\u001b[0m\u001b[0mimg\u001b[0m\u001b[0;34m,\u001b[0m \u001b[0;34m'ndim'\u001b[0m\u001b[0;34m)\u001b[0m\u001b[0;34m:\u001b[0m\u001b[0;34m\u001b[0m\u001b[0;34m\u001b[0m\u001b[0m\n",
      "\u001b[0;32m/usr/local/lib/python3.7/dist-packages/skimage/io/manage_plugins.py\u001b[0m in \u001b[0;36mcall_plugin\u001b[0;34m(kind, *args, **kwargs)\u001b[0m\n\u001b[1;32m    205\u001b[0m                                (plugin, kind))\n\u001b[1;32m    206\u001b[0m \u001b[0;34m\u001b[0m\u001b[0m\n\u001b[0;32m--> 207\u001b[0;31m     \u001b[0;32mreturn\u001b[0m \u001b[0mfunc\u001b[0m\u001b[0;34m(\u001b[0m\u001b[0;34m*\u001b[0m\u001b[0margs\u001b[0m\u001b[0;34m,\u001b[0m \u001b[0;34m**\u001b[0m\u001b[0mkwargs\u001b[0m\u001b[0;34m)\u001b[0m\u001b[0;34m\u001b[0m\u001b[0;34m\u001b[0m\u001b[0m\n\u001b[0m\u001b[1;32m    208\u001b[0m \u001b[0;34m\u001b[0m\u001b[0m\n\u001b[1;32m    209\u001b[0m \u001b[0;34m\u001b[0m\u001b[0m\n",
      "\u001b[0;32m/usr/local/lib/python3.7/dist-packages/skimage/io/_plugins/imageio_plugin.py\u001b[0m in \u001b[0;36mimread\u001b[0;34m(*args, **kwargs)\u001b[0m\n\u001b[1;32m      8\u001b[0m \u001b[0;34m@\u001b[0m\u001b[0mwraps\u001b[0m\u001b[0;34m(\u001b[0m\u001b[0mimageio_imread\u001b[0m\u001b[0;34m)\u001b[0m\u001b[0;34m\u001b[0m\u001b[0;34m\u001b[0m\u001b[0m\n\u001b[1;32m      9\u001b[0m \u001b[0;32mdef\u001b[0m \u001b[0mimread\u001b[0m\u001b[0;34m(\u001b[0m\u001b[0;34m*\u001b[0m\u001b[0margs\u001b[0m\u001b[0;34m,\u001b[0m \u001b[0;34m**\u001b[0m\u001b[0mkwargs\u001b[0m\u001b[0;34m)\u001b[0m\u001b[0;34m:\u001b[0m\u001b[0;34m\u001b[0m\u001b[0;34m\u001b[0m\u001b[0m\n\u001b[0;32m---> 10\u001b[0;31m     \u001b[0;32mreturn\u001b[0m \u001b[0mnp\u001b[0m\u001b[0;34m.\u001b[0m\u001b[0masarray\u001b[0m\u001b[0;34m(\u001b[0m\u001b[0mimageio_imread\u001b[0m\u001b[0;34m(\u001b[0m\u001b[0;34m*\u001b[0m\u001b[0margs\u001b[0m\u001b[0;34m,\u001b[0m \u001b[0;34m**\u001b[0m\u001b[0mkwargs\u001b[0m\u001b[0;34m)\u001b[0m\u001b[0;34m)\u001b[0m\u001b[0;34m\u001b[0m\u001b[0;34m\u001b[0m\u001b[0m\n\u001b[0m",
      "\u001b[0;32m/usr/local/lib/python3.7/dist-packages/imageio/core/functions.py\u001b[0m in \u001b[0;36mimread\u001b[0;34m(uri, format, **kwargs)\u001b[0m\n\u001b[1;32m    219\u001b[0m \u001b[0;34m\u001b[0m\u001b[0m\n\u001b[1;32m    220\u001b[0m     \u001b[0;31m# Get reader and read first\u001b[0m\u001b[0;34m\u001b[0m\u001b[0;34m\u001b[0m\u001b[0;34m\u001b[0m\u001b[0m\n\u001b[0;32m--> 221\u001b[0;31m     \u001b[0mreader\u001b[0m \u001b[0;34m=\u001b[0m \u001b[0mread\u001b[0m\u001b[0;34m(\u001b[0m\u001b[0muri\u001b[0m\u001b[0;34m,\u001b[0m \u001b[0mformat\u001b[0m\u001b[0;34m,\u001b[0m \u001b[0;34m\"i\"\u001b[0m\u001b[0;34m,\u001b[0m \u001b[0;34m**\u001b[0m\u001b[0mkwargs\u001b[0m\u001b[0;34m)\u001b[0m\u001b[0;34m\u001b[0m\u001b[0;34m\u001b[0m\u001b[0m\n\u001b[0m\u001b[1;32m    222\u001b[0m     \u001b[0;32mwith\u001b[0m \u001b[0mreader\u001b[0m\u001b[0;34m:\u001b[0m\u001b[0;34m\u001b[0m\u001b[0;34m\u001b[0m\u001b[0m\n\u001b[1;32m    223\u001b[0m         \u001b[0;32mreturn\u001b[0m \u001b[0mreader\u001b[0m\u001b[0;34m.\u001b[0m\u001b[0mget_data\u001b[0m\u001b[0;34m(\u001b[0m\u001b[0;36m0\u001b[0m\u001b[0;34m)\u001b[0m\u001b[0;34m\u001b[0m\u001b[0;34m\u001b[0m\u001b[0m\n",
      "\u001b[0;32m/usr/local/lib/python3.7/dist-packages/imageio/core/functions.py\u001b[0m in \u001b[0;36mget_reader\u001b[0;34m(uri, format, mode, **kwargs)\u001b[0m\n\u001b[1;32m    128\u001b[0m \u001b[0;34m\u001b[0m\u001b[0m\n\u001b[1;32m    129\u001b[0m     \u001b[0;31m# Create request object\u001b[0m\u001b[0;34m\u001b[0m\u001b[0;34m\u001b[0m\u001b[0;34m\u001b[0m\u001b[0m\n\u001b[0;32m--> 130\u001b[0;31m     \u001b[0mrequest\u001b[0m \u001b[0;34m=\u001b[0m \u001b[0mRequest\u001b[0m\u001b[0;34m(\u001b[0m\u001b[0muri\u001b[0m\u001b[0;34m,\u001b[0m \u001b[0;34m\"r\"\u001b[0m \u001b[0;34m+\u001b[0m \u001b[0mmode\u001b[0m\u001b[0;34m,\u001b[0m \u001b[0;34m**\u001b[0m\u001b[0mkwargs\u001b[0m\u001b[0;34m)\u001b[0m\u001b[0;34m\u001b[0m\u001b[0;34m\u001b[0m\u001b[0m\n\u001b[0m\u001b[1;32m    131\u001b[0m \u001b[0;34m\u001b[0m\u001b[0m\n\u001b[1;32m    132\u001b[0m     \u001b[0;31m# Get format\u001b[0m\u001b[0;34m\u001b[0m\u001b[0;34m\u001b[0m\u001b[0;34m\u001b[0m\u001b[0m\n",
      "\u001b[0;32m/usr/local/lib/python3.7/dist-packages/imageio/core/request.py\u001b[0m in \u001b[0;36m__init__\u001b[0;34m(self, uri, mode, **kwargs)\u001b[0m\n\u001b[1;32m    123\u001b[0m \u001b[0;34m\u001b[0m\u001b[0m\n\u001b[1;32m    124\u001b[0m         \u001b[0;31m# Parse what was given\u001b[0m\u001b[0;34m\u001b[0m\u001b[0;34m\u001b[0m\u001b[0;34m\u001b[0m\u001b[0m\n\u001b[0;32m--> 125\u001b[0;31m         \u001b[0mself\u001b[0m\u001b[0;34m.\u001b[0m\u001b[0m_parse_uri\u001b[0m\u001b[0;34m(\u001b[0m\u001b[0muri\u001b[0m\u001b[0;34m)\u001b[0m\u001b[0;34m\u001b[0m\u001b[0;34m\u001b[0m\u001b[0m\n\u001b[0m\u001b[1;32m    126\u001b[0m \u001b[0;34m\u001b[0m\u001b[0m\n\u001b[1;32m    127\u001b[0m         \u001b[0;31m# Set extension\u001b[0m\u001b[0;34m\u001b[0m\u001b[0;34m\u001b[0m\u001b[0;34m\u001b[0m\u001b[0m\n",
      "\u001b[0;32m/usr/local/lib/python3.7/dist-packages/imageio/core/request.py\u001b[0m in \u001b[0;36m_parse_uri\u001b[0;34m(self, uri)\u001b[0m\n\u001b[1;32m    271\u001b[0m                 \u001b[0;31m# Reading: check that the file exists (but is allowed a dir)\u001b[0m\u001b[0;34m\u001b[0m\u001b[0;34m\u001b[0m\u001b[0;34m\u001b[0m\u001b[0m\n\u001b[1;32m    272\u001b[0m                 \u001b[0;32mif\u001b[0m \u001b[0;32mnot\u001b[0m \u001b[0mos\u001b[0m\u001b[0;34m.\u001b[0m\u001b[0mpath\u001b[0m\u001b[0;34m.\u001b[0m\u001b[0mexists\u001b[0m\u001b[0;34m(\u001b[0m\u001b[0mfn\u001b[0m\u001b[0;34m)\u001b[0m\u001b[0;34m:\u001b[0m\u001b[0;34m\u001b[0m\u001b[0;34m\u001b[0m\u001b[0m\n\u001b[0;32m--> 273\u001b[0;31m                     \u001b[0;32mraise\u001b[0m \u001b[0mFileNotFoundError\u001b[0m\u001b[0;34m(\u001b[0m\u001b[0;34m\"No such file: '%s'\"\u001b[0m \u001b[0;34m%\u001b[0m \u001b[0mfn\u001b[0m\u001b[0;34m)\u001b[0m\u001b[0;34m\u001b[0m\u001b[0;34m\u001b[0m\u001b[0m\n\u001b[0m\u001b[1;32m    274\u001b[0m             \u001b[0;32melse\u001b[0m\u001b[0;34m:\u001b[0m\u001b[0;34m\u001b[0m\u001b[0;34m\u001b[0m\u001b[0m\n\u001b[1;32m    275\u001b[0m                 \u001b[0;31m# Writing: check that the directory to write to does exist\u001b[0m\u001b[0;34m\u001b[0m\u001b[0;34m\u001b[0m\u001b[0;34m\u001b[0m\u001b[0m\n",
      "\u001b[0;31mFileNotFoundError\u001b[0m: No such file: '/content/drive/MyDrive/Lab/Grain-U-Net/data/testerino/010.png'"
     ]
    }
   ],
   "source": [
    "from skimage import io, transform\n",
    "import numpy as np\n",
    "import os\n",
    "\n",
    "if 'test_n' not in locals():\n",
    "    test_n = 1\n",
    "    test_dir = 'data/test/'\n",
    "\n",
    "for i in range(test_n):\n",
    "    i = i + 1\n",
    "    raw_img = io.imread(f'{test_dir}0{i}.png')\n",
    "    sk_img = io.imread(f'{test_dir}{i}_processed.png')\n",
    "    sk_img = 255 * transform.resize(sk_img, raw_img.shape, anti_aliasing=False)\n",
    "    fusion_img = np.zeros((raw_img.shape[0], raw_img.shape[1], 3), dtype=int)\n",
    "    fusion_img[:, :, 0] = raw_img\n",
    "    fusion_img[:, :, 1] = raw_img\n",
    "    fusion_img[:, :, 2] = raw_img\n",
    "    fusion_img[sk_img > 0, 0] = 255\n",
    "    if os.path.isfile(f'{test_dir}key/{i}.png'):\n",
    "        ht_img = io.imread(f'{test_dir}key/{i}.png')\n",
    "        ht_img = 255 - (255 * transform.resize(ht_img, raw_img.shape, anti_aliasing=False))\n",
    "        fusion_img[ht_img > 0, 1] = 255\n",
    "#        io.imshow(fusion_img)\n",
    "#        io.show()\n",
    "\n",
    "    io.imsave(f'{test_dir}{i}_overlaid.png', fusion_img.astype('uint8')) \n"
   ]
  },
  {
   "cell_type": "markdown",
   "metadata": {
    "id": "jENaS3uhwUV9"
   },
   "source": [
    "# Model Evaluation Tools"
   ]
  },
  {
   "cell_type": "markdown",
   "metadata": {
    "id": "ym5bKgKwG1rt"
   },
   "source": [
    "## Intersection Over Union (IOU)\n",
    "This test should find what percent of the predicted grain boundary (pred) matched the actual hand traced boundary (test)"
   ]
  },
  {
   "cell_type": "markdown",
   "metadata": {
    "id": "K3cKUkLxUl4G"
   },
   "source": [
    "`iou_test.find_iou(pred, ref)` \n",
    "This function finds the mean IOU between `pred` and `ref`. It does this by matching each grain in a traced (`ref`) image with a grain in the corresponding predicted (`pred`) image and calculating the Jaccard similarity index between them. It then takes the mean of all these Jaccard indicies to find the final mean iou of an image."
   ]
  },
  {
   "cell_type": "code",
   "execution_count": null,
   "metadata": {
    "colab": {
     "base_uri": "https://localhost:8080/"
    },
    "executionInfo": {
     "elapsed": 5802,
     "status": "ok",
     "timestamp": 1629658985805,
     "user": {
      "displayName": "James Eckstein",
      "photoUrl": "https://lh3.googleusercontent.com/a-/AOh14GjSkbwuGkSVFXmpY_K5aXDzWl4lccRS01YB-YMb=s64",
      "userId": "05032552484174298418"
     },
     "user_tz": 300
    },
    "id": "S-f5FWreHFYk",
    "outputId": "33353927-5033-46a8-c667-222ee709763d"
   },
   "outputs": [
    {
     "name": "stdout",
     "output_type": "stream",
     "text": [
      " - img 0 \t Mean IOU: 0.6897960320932874\n",
      " - img 1 \t Mean IOU: 0.6918237807413546\n",
      " - img 10 \t Mean IOU: 0.32937398306008037\n",
      " - img 11 \t Mean IOU: 0.4090040275747048\n",
      " - img 12 \t Mean IOU: 0.3772879304429595\n",
      " - img 13 \t Mean IOU: 0.2836940215242354\n",
      " - img 14 \t Mean IOU: 0.263733829255234\n",
      " - img 15 \t Mean IOU: 0.3609622702541213\n",
      " - img 16 \t Mean IOU: 0.3174240846292632\n",
      " - img 17 \t Mean IOU: 0.13929159806323452\n",
      " - img 18 \t Mean IOU: 0.29501815187293223\n",
      " - img 19 \t Mean IOU: 0.3441311127996548\n",
      " - img 2 \t Mean IOU: 0.5405584809756075\n",
      " - img 20 \t Mean IOU: 0.3092728479491392\n",
      " - img 21 \t Mean IOU: 0.0923450719252461\n",
      " - img 22 \t Mean IOU: 0.35390273997218114\n",
      " - img 23 \t Mean IOU: 0.32514641024161567\n",
      " - img 24 \t Mean IOU: 0.3260055477566883\n",
      " - img 25 \t Mean IOU: 0.3415242557556229\n",
      " - img 26 \t Mean IOU: 0.2908972545854925\n",
      " - img 27 \t Mean IOU: 0.1339033245176248\n",
      " - img 28 \t Mean IOU: 0.19717508171493314\n",
      " - img 3 \t Mean IOU: 0.4149391995491761\n",
      " - img 4 \t Mean IOU: 0.3199635288446575\n",
      " - img 5 \t Mean IOU: 0.4426870778501892\n",
      " - img 6 \t Mean IOU: 0.2228128581305763\n",
      " - img 7 \t Mean IOU: 0.19792779714155598\n",
      " - img 8 \t Mean IOU: 0.4158658691258742\n",
      " - img 9 \t Mean IOU: 0.36183258993041406\n",
      "\n",
      "Mean Mean IOU = 0.33752761235440193\n",
      "Median Mean IOU = 0.3260055477566883\n",
      "\n",
      "\n",
      "Max Mean IOU = 0.6918237807413546, Min Mean IOU = 0.0923450719252461\n"
     ]
    }
   ],
   "source": [
    "from skimage import io, transform\n",
    "import numpy as np\n",
    "import iou_test\n",
    "import importlib, os\n",
    "importlib.reload(iou_test)\n",
    "\n",
    "if 'test_n' in locals():\n",
    "    test_dir = 'data/test/'\n",
    "    traced_dir = 'data/test/key/'\n",
    "\n",
    "traced_dir = test_dir + 'key/'\n",
    "traced_names = np.sort(os.listdir(traced_dir))\n",
    "traced = np.char.strip(traced_names, '.png')\n",
    "\n",
    "results = np.array([], dtype=np.float64)\n",
    "\n",
    "for key in traced:\n",
    "    ml_img = io.imread(test_dir + key + '_processed.png') / 255\n",
    "    ml_img = 1 - ml_img\n",
    "#    ml_img = io.imread(test_dir + key + '_predict.png') / 255\n",
    "    key_img = transform.resize(io.imread(traced_dir + key + '.png'), ml_img.shape)\n",
    "    key_img = key_img > 0.9\n",
    "    \n",
    "    iou = iou_test.find_iou(ml_img, key_img, verbose=False)\n",
    "    results = np.append(results, iou)\n",
    "    print(f' - img {key} \\t Mean IOU: {iou}')\n",
    "    \n",
    "print(f'\\nMean Mean IOU = {np.mean(results)}\\nMedian Mean IOU = {np.median(results)}\\n\\n')\n",
    "print(f'Max Mean IOU = {np.max(results)}, Min Mean IOU = {np.min(results)}')\n"
   ]
  },
  {
   "cell_type": "markdown",
   "metadata": {
    "id": "rVtddQFjoXsP"
   },
   "source": [
    "## Chi2"
   ]
  },
  {
   "cell_type": "code",
   "execution_count": null,
   "metadata": {
    "executionInfo": {
     "elapsed": 56,
     "status": "aborted",
     "timestamp": 1646545485562,
     "user": {
      "displayName": "James Eckstein",
      "photoUrl": "https://lh3.googleusercontent.com/a-/AOh14GjSkbwuGkSVFXmpY_K5aXDzWl4lccRS01YB-YMb=s64",
      "userId": "05032552484174298418"
     },
     "user_tz": 360
    },
    "id": "uCTzHcjCTHIt",
    "scrolled": true
   },
   "outputs": [],
   "source": [
    "from chi2test import find_chi2\n",
    "from skimage import io, transform\n",
    "import os\n",
    "import numpy as np\n",
    "import time\n",
    "\n",
    "test_dir = 'data/test/'\n",
    "traced_dir = 'data/test/key/'\n",
    "traced_names = np.sort(os.listdir(traced_dir))\n",
    "traced = np.char.strip(traced_names, '.png')\n",
    "\n",
    "chi2_dtype = [('img', (np.str_, 10)), ('chi2', np.float64), ('avg_chi2', np.float64)]\n",
    "results = np.array([], dtype=chi2_dtype)\n",
    "\n",
    "for key in traced:\n",
    "    ml_img = io.imread(test_dir + key + '_processed.png')\n",
    "    key_img = transform.resize(io.imread(traced_dir + key + '.png'), ml_img.shape)\n",
    "\n",
    "    if np.min(key_img) != 0 or np.max(key_img) != 255:\n",
    "        key_img -= np.min(key_img)\n",
    "        key_img = np.round(key_img * (255 / np.max(key_img)))\n",
    "    key_img = np.max(key_img) - key_img\n",
    "    \n",
    "    result = find_chi2(ml_img, key_img, out_dict=True)\n",
    "    results = np.append(results, \\\n",
    "                np.array([(key, result[\"chi2\"], result[\"avg_chi2\"])], dtype=chi2_dtype))\n",
    "    print(f'- img: {key} \\t chi2: {result[\"chi2\"]} \\t avg_chi2: {result[\"avg_chi2\"]} \\t median_r2: {result[\"median_r2\"]}')\n",
    "\n",
    "print(f'\\nAverage chi2: {np.mean(results[\"chi2\"])}\\nAverage avg_chi2: {np.mean(results[\"avg_chi2\"])}\\nMedian chi2: {np.median(results[\"chi2\"])}')\n",
    "print(f'Max chi2: {np.max(results[\"chi2\"])}\\nMin chi2: {np.min(results[\"chi2\"])}')"
   ]
  },
  {
   "cell_type": "markdown",
   "metadata": {
    "id": "ziK9P9USTHIv"
   },
   "source": [
    "## Chi2 Alignment"
   ]
  },
  {
   "cell_type": "code",
   "execution_count": null,
   "metadata": {
    "executionInfo": {
     "elapsed": 58,
     "status": "aborted",
     "timestamp": 1646545485565,
     "user": {
      "displayName": "James Eckstein",
      "photoUrl": "https://lh3.googleusercontent.com/a-/AOh14GjSkbwuGkSVFXmpY_K5aXDzWl4lccRS01YB-YMb=s64",
      "userId": "05032552484174298418"
     },
     "user_tz": 360
    },
    "id": "esr9-E2Ao6NX"
   },
   "outputs": [],
   "source": [
    "from chi2test import *\n",
    "from skimage import io, transform\n",
    "import numpy as np\n",
    "\n",
    "traced_n = 13\n",
    "traced_dir = 'data/test/key/'\n",
    "\n",
    "ml_img = io.imread('data/test/5_processed.png')\n",
    "key_img = transform.resize(io.imread('data/test/key/5.png'), ml_img.shape)\n",
    "\n",
    "if np.min(ml_img) != 0 or np.max(ml_img) != 255:\n",
    "    ml_img -= np.min(ml_img)\n",
    "    ml_img = np.round(ml_img * (255 / np.max(ml_img)))\n",
    "        \n",
    "if np.min(key_img) != 0 or np.max(key_img) != 255:\n",
    "    key_img -= np.min(key_img)\n",
    "    key_img = np.round(key_img * (255 / np.max(key_img)))\n",
    "    \n",
    "key_img = 255 - key_img\n",
    "\n",
    "io.imshow(key_img)\n",
    "io.show()\n",
    "\n",
    "io.imshow(ml_img)\n",
    "io.show()\n",
    "\n",
    "results = chi2_align(ml_img, key_img)\n",
    "\n",
    "print(results)\n",
    "\n",
    "print(find_chi2(ml_img, key_img))\n",
    "\n",
    "offset_x = int(results[\"x\"])\n",
    "offset_y = int(results[\"y\"])\n",
    "fuse_size = np.maximum(key_img.shape, ml_img.shape)\n",
    "fuse_size[0] += 2 * abs(offset_x) + 2\n",
    "fuse_size[1] += 2 * abs(offset_y) + 2\n",
    "\n",
    "def fuse(out, img, offset_x=0, offset_y=0):\n",
    "    buf_x = out.shape[0] - img.shape[0]\n",
    "    buf_y = out.shape[1] - img.shape[1]\n",
    "    img = np.round(img * (255 / np.max(img)))\n",
    "    x_low = buf_x//2 + offset_x\n",
    "    y_low = buf_y//2 + offset_y\n",
    "    x_high = -buf_x//2 + offset_x\n",
    "    y_high = -buf_y//2 + offset_y\n",
    "    print(x_low, y_low, x_high, y_high)\n",
    "    if (x_high > -1):\n",
    "        x_high = x_low + img.shape[0]\n",
    "    if (y_high > -1):\n",
    "        y_high = y_low + img.shape[1]\n",
    "    out[x_low : x_high, y_low : y_high] = img\n",
    "\n",
    "fuse_img = np.zeros((fuse_size[0], fuse_size[1], 3), dtype=int)\n",
    "print(fuse_img.shape)\n",
    "fuse(fuse_img[:,:,0], ml_img, offset_x, offset_y)\n",
    "print(fuse_img.shape)\n",
    "fuse(fuse_img[:,:,1], key_img)\n",
    "\n",
    "io.imshow(fuse_img)\n",
    "io.show()\n"
   ]
  }
 ],
 "metadata": {
  "accelerator": "GPU",
  "celltoolbar": "Raw Cell Format",
  "colab": {
   "collapsed_sections": [
    "0Ntytu8-WwfG",
    "yYRADonH8nm0",
    "SOes-E73s-n-",
    "sis-WIcXYp7W",
    "cR6xzMBPcaw2",
    "jENaS3uhwUV9",
    "ym5bKgKwG1rt",
    "rVtddQFjoXsP",
    "ziK9P9USTHIv"
   ],
   "name": "main.ipynb",
   "provenance": []
  },
  "kernelspec": {
   "display_name": "venv",
   "language": "python",
   "name": "venv"
  },
  "language_info": {
   "codemirror_mode": {
    "name": "ipython",
    "version": 3
   },
   "file_extension": ".py",
   "mimetype": "text/x-python",
   "name": "python",
   "nbconvert_exporter": "python",
   "pygments_lexer": "ipython3",
   "version": "3.9.10"
  }
 },
 "nbformat": 4,
 "nbformat_minor": 1
}
