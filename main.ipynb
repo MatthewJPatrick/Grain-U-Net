{
 "cells": [
  {
   "cell_type": "markdown",
   "metadata": {
    "id": "0Ntytu8-WwfG"
   },
   "source": [
    "# Set up Google Colab\n",
    "\n",
    "This means mounting drive and importing"
   ]
  },
  {
   "cell_type": "code",
   "execution_count": 1,
   "metadata": {
    "colab": {
     "base_uri": "https://localhost:8080/"
    },
    "executionInfo": {
     "elapsed": 3100,
     "status": "ok",
     "timestamp": 1649458336603,
     "user": {
      "displayName": "James Eckstein",
      "userId": "05032552484174298418"
     },
     "user_tz": 300
    },
    "id": "Z5laSkra8ozA",
    "outputId": "d7ca83ee-845f-463c-9836-babe19fb39fa"
   },
   "outputs": [
    {
     "name": "stdout",
     "output_type": "stream",
     "text": [
      "Mounted at /content/drive\n",
      "/content/drive/My Drive/Lab/Grain-U-Net\n"
     ]
    }
   ],
   "source": [
    "from google.colab import drive\n",
    "drive.mount('/content/drive', force_remount=True)\n",
    "\n",
    "FOLDERNAME = 'Lab/Grain-U-Net'\n",
    "assert FOLDERNAME is not None, \"[!] Enter the foldername.\"\n",
    "\n",
    "import sys\n",
    "sys.path.append('/content/drive/MyDrive/{}'.format(FOLDERNAME))\n",
    "sys.path.append('/content/drive/MyDrive/{}/src'.format(FOLDERNAME))\n",
    "%cd /content/drive/My\\ Drive/$FOLDERNAME\n",
    "\n",
    "!pip install -q plantcv\n",
    "!pip install -e ."
   ]
  },
  {
   "cell_type": "code",
   "execution_count": 7,
   "metadata": {},
   "outputs": [],
   "source": [
    "%load_ext autoreload\n",
    "%autoreload 2\n",
    "%aimport -tensorflow"
   ]
  },
  {
   "cell_type": "markdown",
   "metadata": {
    "id": "AzmssZqc8nmz"
   },
   "source": [
    "# Train\n",
    "\n",
    "Currently we have two ways of doing this, one with a keras Sequence and one with ImageDataGenerator. It isn't obvious which of these is better, \n",
    "\n",
    "the Sequence is:\n",
    "- Less opaque\n",
    "- Easier to debug (for me at least)\n",
    "- Pretty straight forward and customizable\n",
    "\n",
    "And the ImageDataGenerator is:\n",
    "- Fewer lines (sort of)\n",
    "- It has built in data augmentation\n",
    "- Faster (since its all written by pros)\n",
    "- Doesn't really seem super well suited to like semantic segmentation, but its probably fine\n",
    "\n",
    "So for now, I'm spending most of my time with the Sequence approach, but both are good"
   ]
  },
  {
   "cell_type": "markdown",
   "metadata": {
    "id": "8T4RUTKKsoRK"
   },
   "source": [
    "## Train With Sequence"
   ]
  },
  {
   "cell_type": "markdown",
   "metadata": {
    "id": "KFxQqYZbsoRL"
   },
   "source": [
    "**Importing the names of all the files we want to train with**"
   ]
  },
  {
   "cell_type": "code",
   "execution_count": 1,
   "metadata": {
    "colab": {
     "base_uri": "https://localhost:8080/"
    },
    "executionInfo": {
     "elapsed": 3103,
     "status": "ok",
     "timestamp": 1648847063415,
     "user": {
      "displayName": "James Eckstein",
      "userId": "05032552484174298418"
     },
     "user_tz": 300
    },
    "id": "TdqXMebrsoRL",
    "outputId": "9ec835cf-0044-41f3-bbcc-4c9308ce2efc"
   },
   "outputs": [
    {
     "name": "stdout",
     "output_type": "stream",
     "text": [
      "Found 299 samples\n"
     ]
    }
   ],
   "source": [
    "import os\n",
    "import numpy as np\n",
    "\n",
    "input_dir = 'data/train_nouveaux_256/image'\n",
    "input_names = np.array([])\n",
    "for fname in np.sort(os.listdir(input_dir)):\n",
    "    if fname.endswith('.png') and np.char.find(fname, '_'):\n",
    "        input_names = np.append(input_names, os.path.join(input_dir, fname))\n",
    "\n",
    "label_dir = 'data/train_nouveaux_256/label'\n",
    "label_names = np.array([])\n",
    "for fname in np.sort(os.listdir(label_dir)):\n",
    "    if fname.endswith('.png') and np.char.find(fname, '_'):\n",
    "        label_names = np.append(label_names, os.path.join(label_dir, fname))\n",
    "\n",
    "print(f\"Found {len(input_names)} samples\")"
   ]
  },
  {
   "cell_type": "markdown",
   "metadata": {
    "id": "jT3QgTqyuegg"
   },
   "source": [
    "**Making Sequence**"
   ]
  },
  {
   "cell_type": "code",
   "execution_count": 3,
   "metadata": {
    "colab": {
     "base_uri": "https://localhost:8080/",
     "height": 71
    },
    "executionInfo": {
     "elapsed": 712,
     "status": "ok",
     "timestamp": 1648847066957,
     "user": {
      "displayName": "James Eckstein",
      "userId": "05032552484174298418"
     },
     "user_tz": 300
    },
    "id": "H0P1QvUHsoRM",
    "outputId": "a5fb34c5-748a-425d-cd9c-b7f1ed5ea00c",
    "scrolled": true
   },
   "outputs": [
    {
     "name": "stdout",
     "output_type": "stream",
     "text": [
      "Training set size: 269, 53 batches\n",
      "Validation set size: 30, 6 batches\n",
      "data/train_nouveaux_256/image/235.png | data/train_nouveaux_256/label/235.png\n",
      "data/train_nouveaux_256/image/10.png | data/train_nouveaux_256/label/10.png\n",
      "data/train_nouveaux_256/image/02.png | data/train_nouveaux_256/label/02.png\n",
      "data/train_nouveaux_256/image/83.png | data/train_nouveaux_256/label/83.png\n",
      "data/train_nouveaux_256/image/75.png | data/train_nouveaux_256/label/75.png\n",
      "data/train_nouveaux_256/image/66.png | data/train_nouveaux_256/label/66.png\n",
      "data/train_nouveaux_256/image/36.png | data/train_nouveaux_256/label/36.png\n",
      "data/train_nouveaux_256/image/117.png | data/train_nouveaux_256/label/117.png\n",
      "data/train_nouveaux_256/image/46.png | data/train_nouveaux_256/label/46.png\n",
      "data/train_nouveaux_256/image/294.png | data/train_nouveaux_256/label/294.png\n",
      "data/train_nouveaux_256/image/204.png | data/train_nouveaux_256/label/204.png\n",
      "data/train_nouveaux_256/image/16.png | data/train_nouveaux_256/label/16.png\n",
      "data/train_nouveaux_256/image/32.png | data/train_nouveaux_256/label/32.png\n",
      "data/train_nouveaux_256/image/215.png | data/train_nouveaux_256/label/215.png\n",
      "data/train_nouveaux_256/image/213.png | data/train_nouveaux_256/label/213.png\n",
      "data/train_nouveaux_256/image/61.png | data/train_nouveaux_256/label/61.png\n",
      "data/train_nouveaux_256/image/79.png | data/train_nouveaux_256/label/79.png\n",
      "data/train_nouveaux_256/image/08.png | data/train_nouveaux_256/label/08.png\n",
      "data/train_nouveaux_256/image/282.png | data/train_nouveaux_256/label/282.png\n",
      "data/train_nouveaux_256/image/141.png | data/train_nouveaux_256/label/141.png\n",
      "data/train_nouveaux_256/image/89.png | data/train_nouveaux_256/label/89.png\n",
      "data/train_nouveaux_256/image/108.png | data/train_nouveaux_256/label/108.png\n",
      "data/train_nouveaux_256/image/09.png | data/train_nouveaux_256/label/09.png\n",
      "data/train_nouveaux_256/image/101.png | data/train_nouveaux_256/label/101.png\n",
      "data/train_nouveaux_256/image/200.png | data/train_nouveaux_256/label/200.png\n",
      "data/train_nouveaux_256/image/244.png | data/train_nouveaux_256/label/244.png\n",
      "data/train_nouveaux_256/image/211.png | data/train_nouveaux_256/label/211.png\n",
      "data/train_nouveaux_256/image/17.png | data/train_nouveaux_256/label/17.png\n",
      "data/train_nouveaux_256/image/276.png | data/train_nouveaux_256/label/276.png\n",
      "data/train_nouveaux_256/image/43.png | data/train_nouveaux_256/label/43.png\n",
      "data/train_nouveaux_256/image/175.png | data/train_nouveaux_256/label/175.png\n",
      "data/train_nouveaux_256/image/243.png | data/train_nouveaux_256/label/243.png\n",
      "data/train_nouveaux_256/image/26.png | data/train_nouveaux_256/label/26.png\n",
      "data/train_nouveaux_256/image/120.png | data/train_nouveaux_256/label/120.png\n",
      "data/train_nouveaux_256/image/290.png | data/train_nouveaux_256/label/290.png\n",
      "data/train_nouveaux_256/image/181.png | data/train_nouveaux_256/label/181.png\n",
      "data/train_nouveaux_256/image/219.png | data/train_nouveaux_256/label/219.png\n",
      "data/train_nouveaux_256/image/205.png | data/train_nouveaux_256/label/205.png\n",
      "data/train_nouveaux_256/image/150.png | data/train_nouveaux_256/label/150.png\n",
      "data/train_nouveaux_256/image/275.png | data/train_nouveaux_256/label/275.png\n",
      "data/train_nouveaux_256/image/25.png | data/train_nouveaux_256/label/25.png\n",
      "data/train_nouveaux_256/image/67.png | data/train_nouveaux_256/label/67.png\n",
      "data/train_nouveaux_256/image/114.png | data/train_nouveaux_256/label/114.png\n",
      "data/train_nouveaux_256/image/216.png | data/train_nouveaux_256/label/216.png\n",
      "data/train_nouveaux_256/image/242.png | data/train_nouveaux_256/label/242.png\n",
      "data/train_nouveaux_256/image/264.png | data/train_nouveaux_256/label/264.png\n",
      "data/train_nouveaux_256/image/44.png | data/train_nouveaux_256/label/44.png\n",
      "data/train_nouveaux_256/image/72.png | data/train_nouveaux_256/label/72.png\n",
      "data/train_nouveaux_256/image/184.png | data/train_nouveaux_256/label/184.png\n",
      "data/train_nouveaux_256/image/130.png | data/train_nouveaux_256/label/130.png\n",
      "data/train_nouveaux_256/image/60.png | data/train_nouveaux_256/label/60.png\n",
      "data/train_nouveaux_256/image/299.png | data/train_nouveaux_256/label/299.png\n",
      "data/train_nouveaux_256/image/280.png | data/train_nouveaux_256/label/280.png\n",
      "data/train_nouveaux_256/image/151.png | data/train_nouveaux_256/label/151.png\n",
      "data/train_nouveaux_256/image/168.png | data/train_nouveaux_256/label/168.png\n",
      "data/train_nouveaux_256/image/01.png | data/train_nouveaux_256/label/01.png\n",
      "data/train_nouveaux_256/image/94.png | data/train_nouveaux_256/label/94.png\n",
      "data/train_nouveaux_256/image/78.png | data/train_nouveaux_256/label/78.png\n",
      "data/train_nouveaux_256/image/165.png | data/train_nouveaux_256/label/165.png\n",
      "data/train_nouveaux_256/image/189.png | data/train_nouveaux_256/label/189.png\n",
      "data/train_nouveaux_256/image/292.png | data/train_nouveaux_256/label/292.png\n",
      "data/train_nouveaux_256/image/263.png | data/train_nouveaux_256/label/263.png\n",
      "data/train_nouveaux_256/image/281.png | data/train_nouveaux_256/label/281.png\n",
      "data/train_nouveaux_256/image/185.png | data/train_nouveaux_256/label/185.png\n",
      "data/train_nouveaux_256/image/246.png | data/train_nouveaux_256/label/246.png\n",
      "data/train_nouveaux_256/image/201.png | data/train_nouveaux_256/label/201.png\n",
      "data/train_nouveaux_256/image/232.png | data/train_nouveaux_256/label/232.png\n",
      "data/train_nouveaux_256/image/93.png | data/train_nouveaux_256/label/93.png\n",
      "data/train_nouveaux_256/image/39.png | data/train_nouveaux_256/label/39.png\n",
      "data/train_nouveaux_256/image/172.png | data/train_nouveaux_256/label/172.png\n",
      "data/train_nouveaux_256/image/57.png | data/train_nouveaux_256/label/57.png\n",
      "data/train_nouveaux_256/image/285.png | data/train_nouveaux_256/label/285.png\n",
      "data/train_nouveaux_256/image/55.png | data/train_nouveaux_256/label/55.png\n",
      "data/train_nouveaux_256/image/161.png | data/train_nouveaux_256/label/161.png\n",
      "data/train_nouveaux_256/image/11.png | data/train_nouveaux_256/label/11.png\n",
      "data/train_nouveaux_256/image/231.png | data/train_nouveaux_256/label/231.png\n",
      "data/train_nouveaux_256/image/111.png | data/train_nouveaux_256/label/111.png\n",
      "data/train_nouveaux_256/image/226.png | data/train_nouveaux_256/label/226.png\n",
      "data/train_nouveaux_256/image/144.png | data/train_nouveaux_256/label/144.png\n",
      "data/train_nouveaux_256/image/148.png | data/train_nouveaux_256/label/148.png\n",
      "data/train_nouveaux_256/image/267.png | data/train_nouveaux_256/label/267.png\n",
      "data/train_nouveaux_256/image/98.png | data/train_nouveaux_256/label/98.png\n",
      "data/train_nouveaux_256/image/163.png | data/train_nouveaux_256/label/163.png\n",
      "data/train_nouveaux_256/image/177.png | data/train_nouveaux_256/label/177.png\n",
      "data/train_nouveaux_256/image/109.png | data/train_nouveaux_256/label/109.png\n",
      "data/train_nouveaux_256/image/106.png | data/train_nouveaux_256/label/106.png\n",
      "data/train_nouveaux_256/image/207.png | data/train_nouveaux_256/label/207.png\n",
      "data/train_nouveaux_256/image/222.png | data/train_nouveaux_256/label/222.png\n",
      "data/train_nouveaux_256/image/251.png | data/train_nouveaux_256/label/251.png\n",
      "data/train_nouveaux_256/image/221.png | data/train_nouveaux_256/label/221.png\n",
      "data/train_nouveaux_256/image/139.png | data/train_nouveaux_256/label/139.png\n",
      "data/train_nouveaux_256/image/230.png | data/train_nouveaux_256/label/230.png\n",
      "data/train_nouveaux_256/image/192.png | data/train_nouveaux_256/label/192.png\n",
      "data/train_nouveaux_256/image/113.png | data/train_nouveaux_256/label/113.png\n",
      "data/train_nouveaux_256/image/86.png | data/train_nouveaux_256/label/86.png\n",
      "data/train_nouveaux_256/image/88.png | data/train_nouveaux_256/label/88.png\n",
      "data/train_nouveaux_256/image/125.png | data/train_nouveaux_256/label/125.png\n",
      "data/train_nouveaux_256/image/99.png | data/train_nouveaux_256/label/99.png\n",
      "data/train_nouveaux_256/image/103.png | data/train_nouveaux_256/label/103.png\n",
      "data/train_nouveaux_256/image/198.png | data/train_nouveaux_256/label/198.png\n",
      "data/train_nouveaux_256/image/115.png | data/train_nouveaux_256/label/115.png\n",
      "data/train_nouveaux_256/image/196.png | data/train_nouveaux_256/label/196.png\n",
      "data/train_nouveaux_256/image/138.png | data/train_nouveaux_256/label/138.png\n",
      "data/train_nouveaux_256/image/154.png | data/train_nouveaux_256/label/154.png\n",
      "data/train_nouveaux_256/image/116.png | data/train_nouveaux_256/label/116.png\n",
      "data/train_nouveaux_256/image/174.png | data/train_nouveaux_256/label/174.png\n",
      "data/train_nouveaux_256/image/13.png | data/train_nouveaux_256/label/13.png\n",
      "data/train_nouveaux_256/image/137.png | data/train_nouveaux_256/label/137.png\n",
      "data/train_nouveaux_256/image/56.png | data/train_nouveaux_256/label/56.png\n",
      "data/train_nouveaux_256/image/266.png | data/train_nouveaux_256/label/266.png\n",
      "data/train_nouveaux_256/image/287.png | data/train_nouveaux_256/label/287.png\n",
      "data/train_nouveaux_256/image/236.png | data/train_nouveaux_256/label/236.png\n",
      "data/train_nouveaux_256/image/295.png | data/train_nouveaux_256/label/295.png\n",
      "data/train_nouveaux_256/image/73.png | data/train_nouveaux_256/label/73.png\n",
      "data/train_nouveaux_256/image/23.png | data/train_nouveaux_256/label/23.png\n",
      "data/train_nouveaux_256/image/250.png | data/train_nouveaux_256/label/250.png\n",
      "data/train_nouveaux_256/image/70.png | data/train_nouveaux_256/label/70.png\n",
      "data/train_nouveaux_256/image/272.png | data/train_nouveaux_256/label/272.png\n",
      "data/train_nouveaux_256/image/239.png | data/train_nouveaux_256/label/239.png\n",
      "data/train_nouveaux_256/image/249.png | data/train_nouveaux_256/label/249.png\n",
      "data/train_nouveaux_256/image/297.png | data/train_nouveaux_256/label/297.png\n",
      "data/train_nouveaux_256/image/253.png | data/train_nouveaux_256/label/253.png\n",
      "data/train_nouveaux_256/image/227.png | data/train_nouveaux_256/label/227.png\n",
      "data/train_nouveaux_256/image/197.png | data/train_nouveaux_256/label/197.png\n",
      "data/train_nouveaux_256/image/68.png | data/train_nouveaux_256/label/68.png\n",
      "data/train_nouveaux_256/image/186.png | data/train_nouveaux_256/label/186.png\n",
      "data/train_nouveaux_256/image/291.png | data/train_nouveaux_256/label/291.png\n",
      "data/train_nouveaux_256/image/90.png | data/train_nouveaux_256/label/90.png\n",
      "data/train_nouveaux_256/image/155.png | data/train_nouveaux_256/label/155.png\n",
      "data/train_nouveaux_256/image/212.png | data/train_nouveaux_256/label/212.png\n",
      "data/train_nouveaux_256/image/74.png | data/train_nouveaux_256/label/74.png\n",
      "data/train_nouveaux_256/image/131.png | data/train_nouveaux_256/label/131.png\n",
      "data/train_nouveaux_256/image/159.png | data/train_nouveaux_256/label/159.png\n",
      "data/train_nouveaux_256/image/167.png | data/train_nouveaux_256/label/167.png\n",
      "data/train_nouveaux_256/image/268.png | data/train_nouveaux_256/label/268.png\n",
      "data/train_nouveaux_256/image/146.png | data/train_nouveaux_256/label/146.png\n",
      "data/train_nouveaux_256/image/194.png | data/train_nouveaux_256/label/194.png\n",
      "data/train_nouveaux_256/image/124.png | data/train_nouveaux_256/label/124.png\n",
      "data/train_nouveaux_256/image/224.png | data/train_nouveaux_256/label/224.png\n",
      "data/train_nouveaux_256/image/18.png | data/train_nouveaux_256/label/18.png\n",
      "data/train_nouveaux_256/image/193.png | data/train_nouveaux_256/label/193.png\n",
      "data/train_nouveaux_256/image/41.png | data/train_nouveaux_256/label/41.png\n",
      "data/train_nouveaux_256/image/296.png | data/train_nouveaux_256/label/296.png\n",
      "data/train_nouveaux_256/image/248.png | data/train_nouveaux_256/label/248.png\n",
      "data/train_nouveaux_256/image/132.png | data/train_nouveaux_256/label/132.png\n",
      "data/train_nouveaux_256/image/273.png | data/train_nouveaux_256/label/273.png\n",
      "data/train_nouveaux_256/image/254.png | data/train_nouveaux_256/label/254.png\n",
      "data/train_nouveaux_256/image/162.png | data/train_nouveaux_256/label/162.png\n",
      "data/train_nouveaux_256/image/80.png | data/train_nouveaux_256/label/80.png\n",
      "data/train_nouveaux_256/image/234.png | data/train_nouveaux_256/label/234.png\n",
      "data/train_nouveaux_256/image/27.png | data/train_nouveaux_256/label/27.png\n",
      "data/train_nouveaux_256/image/157.png | data/train_nouveaux_256/label/157.png\n",
      "data/train_nouveaux_256/image/261.png | data/train_nouveaux_256/label/261.png\n",
      "data/train_nouveaux_256/image/145.png | data/train_nouveaux_256/label/145.png\n",
      "data/train_nouveaux_256/image/05.png | data/train_nouveaux_256/label/05.png\n",
      "data/train_nouveaux_256/image/128.png | data/train_nouveaux_256/label/128.png\n",
      "data/train_nouveaux_256/image/183.png | data/train_nouveaux_256/label/183.png\n",
      "data/train_nouveaux_256/image/245.png | data/train_nouveaux_256/label/245.png\n",
      "data/train_nouveaux_256/image/84.png | data/train_nouveaux_256/label/84.png\n",
      "data/train_nouveaux_256/image/169.png | data/train_nouveaux_256/label/169.png\n",
      "data/train_nouveaux_256/image/228.png | data/train_nouveaux_256/label/228.png\n",
      "data/train_nouveaux_256/image/20.png | data/train_nouveaux_256/label/20.png\n",
      "data/train_nouveaux_256/image/15.png | data/train_nouveaux_256/label/15.png\n",
      "data/train_nouveaux_256/image/22.png | data/train_nouveaux_256/label/22.png\n",
      "data/train_nouveaux_256/image/265.png | data/train_nouveaux_256/label/265.png\n",
      "data/train_nouveaux_256/image/53.png | data/train_nouveaux_256/label/53.png\n",
      "data/train_nouveaux_256/image/59.png | data/train_nouveaux_256/label/59.png\n",
      "data/train_nouveaux_256/image/293.png | data/train_nouveaux_256/label/293.png\n",
      "data/train_nouveaux_256/image/122.png | data/train_nouveaux_256/label/122.png\n",
      "data/train_nouveaux_256/image/45.png | data/train_nouveaux_256/label/45.png\n",
      "data/train_nouveaux_256/image/140.png | data/train_nouveaux_256/label/140.png\n",
      "data/train_nouveaux_256/image/81.png | data/train_nouveaux_256/label/81.png\n",
      "data/train_nouveaux_256/image/166.png | data/train_nouveaux_256/label/166.png\n",
      "data/train_nouveaux_256/image/298.png | data/train_nouveaux_256/label/298.png\n",
      "data/train_nouveaux_256/image/240.png | data/train_nouveaux_256/label/240.png\n",
      "data/train_nouveaux_256/image/69.png | data/train_nouveaux_256/label/69.png\n",
      "data/train_nouveaux_256/image/173.png | data/train_nouveaux_256/label/173.png\n",
      "data/train_nouveaux_256/image/14.png | data/train_nouveaux_256/label/14.png\n",
      "data/train_nouveaux_256/image/107.png | data/train_nouveaux_256/label/107.png\n",
      "data/train_nouveaux_256/image/21.png | data/train_nouveaux_256/label/21.png\n",
      "data/train_nouveaux_256/image/156.png | data/train_nouveaux_256/label/156.png\n",
      "data/train_nouveaux_256/image/257.png | data/train_nouveaux_256/label/257.png\n",
      "data/train_nouveaux_256/image/269.png | data/train_nouveaux_256/label/269.png\n",
      "data/train_nouveaux_256/image/34.png | data/train_nouveaux_256/label/34.png\n",
      "data/train_nouveaux_256/image/49.png | data/train_nouveaux_256/label/49.png\n",
      "data/train_nouveaux_256/image/119.png | data/train_nouveaux_256/label/119.png\n",
      "data/train_nouveaux_256/image/191.png | data/train_nouveaux_256/label/191.png\n",
      "data/train_nouveaux_256/image/29.png | data/train_nouveaux_256/label/29.png\n",
      "data/train_nouveaux_256/image/104.png | data/train_nouveaux_256/label/104.png\n",
      "data/train_nouveaux_256/image/238.png | data/train_nouveaux_256/label/238.png\n",
      "data/train_nouveaux_256/image/187.png | data/train_nouveaux_256/label/187.png\n",
      "data/train_nouveaux_256/image/288.png | data/train_nouveaux_256/label/288.png\n",
      "data/train_nouveaux_256/image/28.png | data/train_nouveaux_256/label/28.png\n",
      "data/train_nouveaux_256/image/225.png | data/train_nouveaux_256/label/225.png\n",
      "data/train_nouveaux_256/image/208.png | data/train_nouveaux_256/label/208.png\n",
      "data/train_nouveaux_256/image/95.png | data/train_nouveaux_256/label/95.png\n",
      "data/train_nouveaux_256/image/40.png | data/train_nouveaux_256/label/40.png\n",
      "data/train_nouveaux_256/image/284.png | data/train_nouveaux_256/label/284.png\n",
      "data/train_nouveaux_256/image/274.png | data/train_nouveaux_256/label/274.png\n",
      "data/train_nouveaux_256/image/286.png | data/train_nouveaux_256/label/286.png\n",
      "data/train_nouveaux_256/image/24.png | data/train_nouveaux_256/label/24.png\n",
      "data/train_nouveaux_256/image/129.png | data/train_nouveaux_256/label/129.png\n",
      "data/train_nouveaux_256/image/252.png | data/train_nouveaux_256/label/252.png\n",
      "data/train_nouveaux_256/image/121.png | data/train_nouveaux_256/label/121.png\n",
      "data/train_nouveaux_256/image/199.png | data/train_nouveaux_256/label/199.png\n",
      "data/train_nouveaux_256/image/229.png | data/train_nouveaux_256/label/229.png\n",
      "data/train_nouveaux_256/image/97.png | data/train_nouveaux_256/label/97.png\n",
      "data/train_nouveaux_256/image/04.png | data/train_nouveaux_256/label/04.png\n",
      "data/train_nouveaux_256/image/241.png | data/train_nouveaux_256/label/241.png\n",
      "data/train_nouveaux_256/image/223.png | data/train_nouveaux_256/label/223.png\n",
      "data/train_nouveaux_256/image/277.png | data/train_nouveaux_256/label/277.png\n",
      "data/train_nouveaux_256/image/220.png | data/train_nouveaux_256/label/220.png\n",
      "data/train_nouveaux_256/image/262.png | data/train_nouveaux_256/label/262.png\n",
      "data/train_nouveaux_256/image/06.png | data/train_nouveaux_256/label/06.png\n",
      "data/train_nouveaux_256/image/260.png | data/train_nouveaux_256/label/260.png\n",
      "data/train_nouveaux_256/image/203.png | data/train_nouveaux_256/label/203.png\n",
      "data/train_nouveaux_256/image/126.png | data/train_nouveaux_256/label/126.png\n",
      "data/train_nouveaux_256/image/50.png | data/train_nouveaux_256/label/50.png\n",
      "data/train_nouveaux_256/image/160.png | data/train_nouveaux_256/label/160.png\n",
      "data/train_nouveaux_256/image/110.png | data/train_nouveaux_256/label/110.png\n",
      "data/train_nouveaux_256/image/82.png | data/train_nouveaux_256/label/82.png\n",
      "data/train_nouveaux_256/image/07.png | data/train_nouveaux_256/label/07.png\n",
      "data/train_nouveaux_256/image/135.png | data/train_nouveaux_256/label/135.png\n",
      "data/train_nouveaux_256/image/92.png | data/train_nouveaux_256/label/92.png\n",
      "data/train_nouveaux_256/image/258.png | data/train_nouveaux_256/label/258.png\n",
      "data/train_nouveaux_256/image/255.png | data/train_nouveaux_256/label/255.png\n",
      "data/train_nouveaux_256/image/206.png | data/train_nouveaux_256/label/206.png\n",
      "data/train_nouveaux_256/image/190.png | data/train_nouveaux_256/label/190.png\n",
      "data/train_nouveaux_256/image/58.png | data/train_nouveaux_256/label/58.png\n",
      "data/train_nouveaux_256/image/31.png | data/train_nouveaux_256/label/31.png\n",
      "data/train_nouveaux_256/image/271.png | data/train_nouveaux_256/label/271.png\n",
      "data/train_nouveaux_256/image/33.png | data/train_nouveaux_256/label/33.png\n",
      "data/train_nouveaux_256/image/35.png | data/train_nouveaux_256/label/35.png\n",
      "data/train_nouveaux_256/image/180.png | data/train_nouveaux_256/label/180.png\n",
      "data/train_nouveaux_256/image/214.png | data/train_nouveaux_256/label/214.png\n",
      "data/train_nouveaux_256/image/283.png | data/train_nouveaux_256/label/283.png\n",
      "data/train_nouveaux_256/image/233.png | data/train_nouveaux_256/label/233.png\n",
      "data/train_nouveaux_256/image/96.png | data/train_nouveaux_256/label/96.png\n",
      "data/train_nouveaux_256/image/102.png | data/train_nouveaux_256/label/102.png\n",
      "data/train_nouveaux_256/image/289.png | data/train_nouveaux_256/label/289.png\n",
      "data/train_nouveaux_256/image/48.png | data/train_nouveaux_256/label/48.png\n",
      "data/train_nouveaux_256/image/37.png | data/train_nouveaux_256/label/37.png\n",
      "data/train_nouveaux_256/image/158.png | data/train_nouveaux_256/label/158.png\n",
      "data/train_nouveaux_256/image/143.png | data/train_nouveaux_256/label/143.png\n",
      "data/train_nouveaux_256/image/136.png | data/train_nouveaux_256/label/136.png\n",
      "data/train_nouveaux_256/image/176.png | data/train_nouveaux_256/label/176.png\n",
      "data/train_nouveaux_256/image/270.png | data/train_nouveaux_256/label/270.png\n",
      "data/train_nouveaux_256/image/195.png | data/train_nouveaux_256/label/195.png\n",
      "data/train_nouveaux_256/image/105.png | data/train_nouveaux_256/label/105.png\n",
      "data/train_nouveaux_256/image/218.png | data/train_nouveaux_256/label/218.png\n",
      "data/train_nouveaux_256/image/12.png | data/train_nouveaux_256/label/12.png\n",
      "data/train_nouveaux_256/image/03.png | data/train_nouveaux_256/label/03.png\n",
      "data/train_nouveaux_256/image/188.png | data/train_nouveaux_256/label/188.png\n",
      "data/train_nouveaux_256/image/87.png | data/train_nouveaux_256/label/87.png\n",
      "data/train_nouveaux_256/image/85.png | data/train_nouveaux_256/label/85.png\n",
      "data/train_nouveaux_256/image/76.png | data/train_nouveaux_256/label/76.png\n",
      "data/train_nouveaux_256/image/237.png | data/train_nouveaux_256/label/237.png\n",
      "data/train_nouveaux_256/image/134.png | data/train_nouveaux_256/label/134.png\n",
      "data/train_nouveaux_256/image/63.png | data/train_nouveaux_256/label/63.png\n",
      "data/train_nouveaux_256/image/91.png | data/train_nouveaux_256/label/91.png\n",
      "data/train_nouveaux_256/image/147.png | data/train_nouveaux_256/label/147.png\n",
      "data/train_nouveaux_256/image/182.png | data/train_nouveaux_256/label/182.png\n",
      "data/train_nouveaux_256/image/123.png | data/train_nouveaux_256/label/123.png\n",
      "data/train_nouveaux_256/image/112.png | data/train_nouveaux_256/label/112.png\n",
      "data/train_nouveaux_256/image/179.png | data/train_nouveaux_256/label/179.png\n",
      "data/train_nouveaux_256/image/42.png | data/train_nouveaux_256/label/42.png\n",
      "data/train_nouveaux_256/image/47.png | data/train_nouveaux_256/label/47.png\n",
      "data/train_nouveaux_256/image/64.png | data/train_nouveaux_256/label/64.png\n",
      "data/train_nouveaux_256/image/209.png | data/train_nouveaux_256/label/209.png\n"
     ]
    }
   ],
   "source": [
    "from src.grain_sequence import GrainSequence\n",
    "import random\n",
    "\n",
    "validation_samples = 30\n",
    "batch_size = 5\n",
    "\n",
    "random.Random(1337).shuffle(input_names)\n",
    "random.Random(1337).shuffle(label_names)\n",
    "\n",
    "train_input = input_names[:-validation_samples]\n",
    "train_label = label_names[:-validation_samples]\n",
    "train_gen = GrainSequence(batch_size, (256,256), train_input, train_label)\n",
    "\n",
    "valid_input = input_names[-validation_samples:]\n",
    "valid_label = label_names[-validation_samples:]\n",
    "valid_gen = GrainSequence(batch_size, (256,256), valid_input, valid_label)\n",
    "\n",
    "print(f\"Training set size: {len(train_input)}, {len(train_gen)} batches\")\n",
    "print(f\"Validation set size: {len(valid_input)}, {len(valid_gen)} batches\")\n",
    "\n",
    "\n",
    "for (t, v) in zip(train_input, train_label):\n",
    "    print(f'{t} | {v}')\n"
   ]
  },
  {
   "cell_type": "code",
   "execution_count": null,
   "metadata": {
    "colab": {
     "base_uri": "https://localhost:8080/"
    },
    "executionInfo": {
     "elapsed": 1507,
     "status": "ok",
     "timestamp": 1648847109888,
     "user": {
      "displayName": "James Eckstein",
      "userId": "05032552484174298418"
     },
     "user_tz": 300
    },
    "id": "COkYGPqAUyxI",
    "outputId": "7fc08ff1-f3e1-48da-f580-d21e0ed34b77",
    "scrolled": true
   },
   "outputs": [
    {
     "name": "stdout",
     "output_type": "stream",
     "text": [
      "Model: \"model_4\"\n",
      "__________________________________________________________________________________________________\n",
      " Layer (type)                   Output Shape         Param #     Connected to                     \n",
      "==================================================================================================\n",
      " input_5 (InputLayer)           [(None, 256, 256, 1  0           []                               \n",
      "                                )]                                                                \n",
      "                                                                                                  \n",
      " conv2d_96 (Conv2D)             (None, 256, 256, 64  640         ['input_5[0][0]']                \n",
      "                                )                                                                 \n",
      "                                                                                                  \n",
      " conv2d_97 (Conv2D)             (None, 256, 256, 64  36928       ['conv2d_96[0][0]']              \n",
      "                                )                                                                 \n",
      "                                                                                                  \n",
      " max_pooling2d_16 (MaxPooling2D  (None, 128, 128, 64  0          ['conv2d_97[0][0]']              \n",
      " )                              )                                                                 \n",
      "                                                                                                  \n",
      " conv2d_98 (Conv2D)             (None, 128, 128, 12  73856       ['max_pooling2d_16[0][0]']       \n",
      "                                8)                                                                \n",
      "                                                                                                  \n",
      " conv2d_99 (Conv2D)             (None, 128, 128, 12  147584      ['conv2d_98[0][0]']              \n",
      "                                8)                                                                \n",
      "                                                                                                  \n",
      " max_pooling2d_17 (MaxPooling2D  (None, 64, 64, 128)  0          ['conv2d_99[0][0]']              \n",
      " )                                                                                                \n",
      "                                                                                                  \n",
      " conv2d_100 (Conv2D)            (None, 64, 64, 256)  295168      ['max_pooling2d_17[0][0]']       \n",
      "                                                                                                  \n",
      " conv2d_101 (Conv2D)            (None, 64, 64, 256)  590080      ['conv2d_100[0][0]']             \n",
      "                                                                                                  \n",
      " max_pooling2d_18 (MaxPooling2D  (None, 32, 32, 256)  0          ['conv2d_101[0][0]']             \n",
      " )                                                                                                \n",
      "                                                                                                  \n",
      " conv2d_102 (Conv2D)            (None, 32, 32, 512)  1180160     ['max_pooling2d_18[0][0]']       \n",
      "                                                                                                  \n",
      " conv2d_103 (Conv2D)            (None, 32, 32, 512)  2359808     ['conv2d_102[0][0]']             \n",
      "                                                                                                  \n",
      " dropout_8 (Dropout)            (None, 32, 32, 512)  0           ['conv2d_103[0][0]']             \n",
      "                                                                                                  \n",
      " max_pooling2d_19 (MaxPooling2D  (None, 16, 16, 512)  0          ['dropout_8[0][0]']              \n",
      " )                                                                                                \n",
      "                                                                                                  \n",
      " conv2d_104 (Conv2D)            (None, 16, 16, 1024  4719616     ['max_pooling2d_19[0][0]']       \n",
      "                                )                                                                 \n",
      "                                                                                                  \n",
      " conv2d_105 (Conv2D)            (None, 16, 16, 1024  9438208     ['conv2d_104[0][0]']             \n",
      "                                )                                                                 \n",
      "                                                                                                  \n",
      " dropout_9 (Dropout)            (None, 16, 16, 1024  0           ['conv2d_105[0][0]']             \n",
      "                                )                                                                 \n",
      "                                                                                                  \n",
      " up_sampling2d_16 (UpSampling2D  (None, 32, 32, 1024  0          ['dropout_9[0][0]']              \n",
      " )                              )                                                                 \n",
      "                                                                                                  \n",
      " conv2d_106 (Conv2D)            (None, 32, 32, 512)  2097664     ['up_sampling2d_16[0][0]']       \n",
      "                                                                                                  \n",
      " concatenate_16 (Concatenate)   (None, 32, 32, 1024  0           ['dropout_8[0][0]',              \n",
      "                                )                                 'conv2d_106[0][0]']             \n",
      "                                                                                                  \n",
      " conv2d_107 (Conv2D)            (None, 32, 32, 512)  4719104     ['concatenate_16[0][0]']         \n",
      "                                                                                                  \n",
      " conv2d_108 (Conv2D)            (None, 32, 32, 512)  2359808     ['conv2d_107[0][0]']             \n",
      "                                                                                                  \n",
      " up_sampling2d_17 (UpSampling2D  (None, 64, 64, 512)  0          ['conv2d_108[0][0]']             \n",
      " )                                                                                                \n",
      "                                                                                                  \n",
      " conv2d_109 (Conv2D)            (None, 64, 64, 256)  524544      ['up_sampling2d_17[0][0]']       \n",
      "                                                                                                  \n",
      " concatenate_17 (Concatenate)   (None, 64, 64, 512)  0           ['conv2d_101[0][0]',             \n",
      "                                                                  'conv2d_109[0][0]']             \n",
      "                                                                                                  \n",
      " conv2d_110 (Conv2D)            (None, 64, 64, 256)  1179904     ['concatenate_17[0][0]']         \n",
      "                                                                                                  \n",
      " conv2d_111 (Conv2D)            (None, 64, 64, 256)  590080      ['conv2d_110[0][0]']             \n",
      "                                                                                                  \n",
      " up_sampling2d_18 (UpSampling2D  (None, 128, 128, 25  0          ['conv2d_111[0][0]']             \n",
      " )                              6)                                                                \n",
      "                                                                                                  \n",
      " conv2d_112 (Conv2D)            (None, 128, 128, 12  131200      ['up_sampling2d_18[0][0]']       \n",
      "                                8)                                                                \n",
      "                                                                                                  \n",
      " concatenate_18 (Concatenate)   (None, 128, 128, 25  0           ['conv2d_99[0][0]',              \n",
      "                                6)                                'conv2d_112[0][0]']             \n",
      "                                                                                                  \n",
      " conv2d_113 (Conv2D)            (None, 128, 128, 12  295040      ['concatenate_18[0][0]']         \n",
      "                                8)                                                                \n",
      "                                                                                                  \n",
      " conv2d_114 (Conv2D)            (None, 128, 128, 12  147584      ['conv2d_113[0][0]']             \n",
      "                                8)                                                                \n",
      "                                                                                                  \n",
      " up_sampling2d_19 (UpSampling2D  (None, 256, 256, 12  0          ['conv2d_114[0][0]']             \n",
      " )                              8)                                                                \n",
      "                                                                                                  \n",
      " conv2d_115 (Conv2D)            (None, 256, 256, 64  32832       ['up_sampling2d_19[0][0]']       \n",
      "                                )                                                                 \n",
      "                                                                                                  \n",
      " concatenate_19 (Concatenate)   (None, 256, 256, 12  0           ['conv2d_97[0][0]',              \n",
      "                                8)                                'conv2d_115[0][0]']             \n",
      "                                                                                                  \n",
      " conv2d_116 (Conv2D)            (None, 256, 256, 64  73792       ['concatenate_19[0][0]']         \n",
      "                                )                                                                 \n",
      "                                                                                                  \n",
      " conv2d_117 (Conv2D)            (None, 256, 256, 64  36928       ['conv2d_116[0][0]']             \n",
      "                                )                                                                 \n",
      "                                                                                                  \n",
      " conv2d_118 (Conv2D)            (None, 256, 256, 2)  1154        ['conv2d_117[0][0]']             \n",
      "                                                                                                  \n",
      " conv2d_119 (Conv2D)            (None, 256, 256, 1)  3           ['conv2d_118[0][0]']             \n",
      "                                                                                                  \n",
      "==================================================================================================\n",
      "Total params: 31,031,685\n",
      "Trainable params: 31,031,685\n",
      "Non-trainable params: 0\n",
      "__________________________________________________________________________________________________\n"
     ]
    },
    {
     "name": "stderr",
     "output_type": "stream",
     "text": [
      "/usr/local/lib/python3.7/dist-packages/keras/optimizer_v2/adam.py:105: UserWarning: The `lr` argument is deprecated, use `learning_rate` instead.\n",
      "  super(Adam, self).__init__(name, **kwargs)\n"
     ]
    },
    {
     "name": "stdout",
     "output_type": "stream",
     "text": [
      "Model: \"model_5\"\n",
      "__________________________________________________________________________________________________\n",
      " Layer (type)                   Output Shape         Param #     Connected to                     \n",
      "==================================================================================================\n",
      " input_6 (InputLayer)           [(None, 256, 256, 1  0           []                               \n",
      "                                )]                                                                \n",
      "                                                                                                  \n",
      " conv2d_120 (Conv2D)            (None, 256, 256, 64  1664        ['input_6[0][0]']                \n",
      "                                )                                                                 \n",
      "                                                                                                  \n",
      " conv2d_121 (Conv2D)            (None, 256, 256, 64  102464      ['conv2d_120[0][0]']             \n",
      "                                )                                                                 \n",
      "                                                                                                  \n",
      " max_pooling2d_20 (MaxPooling2D  (None, 128, 128, 64  0          ['conv2d_121[0][0]']             \n",
      " )                              )                                                                 \n",
      "                                                                                                  \n",
      " conv2d_122 (Conv2D)            (None, 128, 128, 12  204928      ['max_pooling2d_20[0][0]']       \n",
      "                                8)                                                                \n",
      "                                                                                                  \n",
      " conv2d_123 (Conv2D)            (None, 128, 128, 12  409728      ['conv2d_122[0][0]']             \n",
      "                                8)                                                                \n",
      "                                                                                                  \n",
      " max_pooling2d_21 (MaxPooling2D  (None, 64, 64, 128)  0          ['conv2d_123[0][0]']             \n",
      " )                                                                                                \n",
      "                                                                                                  \n",
      " conv2d_124 (Conv2D)            (None, 64, 64, 256)  819456      ['max_pooling2d_21[0][0]']       \n",
      "                                                                                                  \n",
      " conv2d_125 (Conv2D)            (None, 64, 64, 256)  1638656     ['conv2d_124[0][0]']             \n",
      "                                                                                                  \n",
      " max_pooling2d_22 (MaxPooling2D  (None, 32, 32, 256)  0          ['conv2d_125[0][0]']             \n",
      " )                                                                                                \n",
      "                                                                                                  \n",
      " conv2d_126 (Conv2D)            (None, 32, 32, 512)  3277312     ['max_pooling2d_22[0][0]']       \n",
      "                                                                                                  \n",
      " conv2d_127 (Conv2D)            (None, 32, 32, 512)  6554112     ['conv2d_126[0][0]']             \n",
      "                                                                                                  \n",
      " dropout_10 (Dropout)           (None, 32, 32, 512)  0           ['conv2d_127[0][0]']             \n",
      "                                                                                                  \n",
      " max_pooling2d_23 (MaxPooling2D  (None, 16, 16, 512)  0          ['dropout_10[0][0]']             \n",
      " )                                                                                                \n",
      "                                                                                                  \n",
      " conv2d_128 (Conv2D)            (None, 16, 16, 1024  13108224    ['max_pooling2d_23[0][0]']       \n",
      "                                )                                                                 \n",
      "                                                                                                  \n",
      " conv2d_129 (Conv2D)            (None, 16, 16, 1024  26215424    ['conv2d_128[0][0]']             \n",
      "                                )                                                                 \n",
      "                                                                                                  \n",
      " dropout_11 (Dropout)           (None, 16, 16, 1024  0           ['conv2d_129[0][0]']             \n",
      "                                )                                                                 \n",
      "                                                                                                  \n",
      " up_sampling2d_20 (UpSampling2D  (None, 32, 32, 1024  0          ['dropout_11[0][0]']             \n",
      " )                              )                                                                 \n",
      "                                                                                                  \n",
      " conv2d_130 (Conv2D)            (None, 32, 32, 512)  2097664     ['up_sampling2d_20[0][0]']       \n",
      "                                                                                                  \n",
      " concatenate_20 (Concatenate)   (None, 32, 32, 1024  0           ['dropout_10[0][0]',             \n",
      "                                )                                 'conv2d_130[0][0]']             \n",
      "                                                                                                  \n",
      " conv2d_131 (Conv2D)            (None, 32, 32, 512)  13107712    ['concatenate_20[0][0]']         \n",
      "                                                                                                  \n",
      " conv2d_132 (Conv2D)            (None, 32, 32, 512)  6554112     ['conv2d_131[0][0]']             \n",
      "                                                                                                  \n",
      " up_sampling2d_21 (UpSampling2D  (None, 64, 64, 512)  0          ['conv2d_132[0][0]']             \n",
      " )                                                                                                \n",
      "                                                                                                  \n",
      " conv2d_133 (Conv2D)            (None, 64, 64, 256)  524544      ['up_sampling2d_21[0][0]']       \n",
      "                                                                                                  \n",
      " concatenate_21 (Concatenate)   (None, 64, 64, 512)  0           ['conv2d_125[0][0]',             \n",
      "                                                                  'conv2d_133[0][0]']             \n",
      "                                                                                                  \n",
      " conv2d_134 (Conv2D)            (None, 64, 64, 256)  3277056     ['concatenate_21[0][0]']         \n",
      "                                                                                                  \n",
      " conv2d_135 (Conv2D)            (None, 64, 64, 256)  1638656     ['conv2d_134[0][0]']             \n",
      "                                                                                                  \n",
      " up_sampling2d_22 (UpSampling2D  (None, 128, 128, 25  0          ['conv2d_135[0][0]']             \n",
      " )                              6)                                                                \n",
      "                                                                                                  \n",
      " conv2d_136 (Conv2D)            (None, 128, 128, 12  131200      ['up_sampling2d_22[0][0]']       \n",
      "                                8)                                                                \n",
      "                                                                                                  \n",
      " concatenate_22 (Concatenate)   (None, 128, 128, 25  0           ['conv2d_123[0][0]',             \n",
      "                                6)                                'conv2d_136[0][0]']             \n",
      "                                                                                                  \n",
      " conv2d_137 (Conv2D)            (None, 128, 128, 12  819328      ['concatenate_22[0][0]']         \n",
      "                                8)                                                                \n",
      "                                                                                                  \n",
      " conv2d_138 (Conv2D)            (None, 128, 128, 12  409728      ['conv2d_137[0][0]']             \n",
      "                                8)                                                                \n",
      "                                                                                                  \n",
      " up_sampling2d_23 (UpSampling2D  (None, 256, 256, 12  0          ['conv2d_138[0][0]']             \n",
      " )                              8)                                                                \n",
      "                                                                                                  \n",
      " conv2d_139 (Conv2D)            (None, 256, 256, 64  32832       ['up_sampling2d_23[0][0]']       \n",
      "                                )                                                                 \n",
      "                                                                                                  \n",
      " concatenate_23 (Concatenate)   (None, 256, 256, 12  0           ['conv2d_121[0][0]',             \n",
      "                                8)                                'conv2d_139[0][0]']             \n",
      "                                                                                                  \n",
      " conv2d_140 (Conv2D)            (None, 256, 256, 64  204864      ['concatenate_23[0][0]']         \n",
      "                                )                                                                 \n",
      "                                                                                                  \n",
      " conv2d_141 (Conv2D)            (None, 256, 256, 64  102464      ['conv2d_140[0][0]']             \n",
      "                                )                                                                 \n",
      "                                                                                                  \n",
      " conv2d_142 (Conv2D)            (None, 256, 256, 2)  1154        ['conv2d_141[0][0]']             \n",
      "                                                                                                  \n",
      " conv2d_143 (Conv2D)            (None, 256, 256, 1)  3           ['conv2d_142[0][0]']             \n",
      "                                                                                                  \n",
      "==================================================================================================\n",
      "Total params: 81,233,285\n",
      "Trainable params: 81,233,285\n",
      "Non-trainable params: 0\n",
      "__________________________________________________________________________________________________\n"
     ]
    }
   ],
   "source": [
    "from src import unet\n",
    "\n",
    "model = unet.unet(input_size = (256, 256, 1))\n",
    "model.summary()\n",
    "model_test = unet.unet_test(input_size = (256, 256, 1))\n",
    "model_test.summary()"
   ]
  },
  {
   "cell_type": "code",
   "execution_count": null,
   "metadata": {
    "colab": {
     "background_save": true,
     "base_uri": "https://localhost:8080/"
    },
    "id": "yrhEI1FasoRN",
    "outputId": "1c653af6-ff87-4289-a0c6-535673d40328"
   },
   "outputs": [
    {
     "name": "stderr",
     "output_type": "stream",
     "text": [
      "/usr/local/lib/python3.7/dist-packages/keras/optimizer_v2/adam.py:105: UserWarning: The `lr` argument is deprecated, use `learning_rate` instead.\n",
      "  super(Adam, self).__init__(name, **kwargs)\n"
     ]
    },
    {
     "name": "stdout",
     "output_type": "stream",
     "text": [
      "Epoch 1/30\n",
      "53/53 [==============================] - ETA: 0s - loss: 0.6924 - accuracy: 0.9284\n",
      "Epoch 1: saving model to unet_grain.hdf5\n",
      "53/53 [==============================] - 82s 1s/step - loss: 0.6924 - accuracy: 0.9284 - val_loss: 0.6908 - val_accuracy: 0.9469\n",
      "Epoch 2/30\n",
      "53/53 [==============================] - ETA: 0s - loss: 0.6896 - accuracy: 0.9448\n",
      "Epoch 2: saving model to unet_grain.hdf5\n",
      "53/53 [==============================] - 32s 603ms/step - loss: 0.6896 - accuracy: 0.9448 - val_loss: 0.6884 - val_accuracy: 0.9469\n",
      "Epoch 3/30\n",
      "53/53 [==============================] - ETA: 0s - loss: 0.6873 - accuracy: 0.9448\n",
      "Epoch 3: saving model to unet_grain.hdf5\n",
      "53/53 [==============================] - 32s 606ms/step - loss: 0.6873 - accuracy: 0.9448 - val_loss: 0.6861 - val_accuracy: 0.9469\n",
      "Epoch 4/30\n",
      "53/53 [==============================] - ETA: 0s - loss: 0.6850 - accuracy: 0.9448\n",
      "Epoch 4: saving model to unet_grain.hdf5\n",
      "53/53 [==============================] - 32s 600ms/step - loss: 0.6850 - accuracy: 0.9448 - val_loss: 0.6837 - val_accuracy: 0.9469\n",
      "Epoch 5/30\n",
      "53/53 [==============================] - ETA: 0s - loss: 0.6827 - accuracy: 0.9448\n",
      "Epoch 5: saving model to unet_grain.hdf5\n",
      "53/53 [==============================] - 32s 599ms/step - loss: 0.6827 - accuracy: 0.9448 - val_loss: 0.6814 - val_accuracy: 0.9469\n",
      "Epoch 6/30\n",
      "53/53 [==============================] - ETA: 0s - loss: 0.6803 - accuracy: 0.9448\n",
      "Epoch 6: saving model to unet_grain.hdf5\n",
      "53/53 [==============================] - 32s 598ms/step - loss: 0.6803 - accuracy: 0.9448 - val_loss: 0.6791 - val_accuracy: 0.9469\n",
      "Epoch 7/30\n",
      "53/53 [==============================] - ETA: 0s - loss: 0.6781 - accuracy: 0.9448\n",
      "Epoch 7: saving model to unet_grain.hdf5\n",
      "53/53 [==============================] - 32s 609ms/step - loss: 0.6781 - accuracy: 0.9448 - val_loss: 0.6768 - val_accuracy: 0.9469\n",
      "Epoch 8/30\n",
      "53/53 [==============================] - ETA: 0s - loss: 0.6758 - accuracy: 0.9448\n",
      "Epoch 8: saving model to unet_grain.hdf5\n",
      "53/53 [==============================] - 32s 612ms/step - loss: 0.6758 - accuracy: 0.9448 - val_loss: 0.6745 - val_accuracy: 0.9469\n",
      "Epoch 9/30\n",
      "53/53 [==============================] - ETA: 0s - loss: 0.6735 - accuracy: 0.9448\n",
      "Epoch 9: saving model to unet_grain.hdf5\n",
      "53/53 [==============================] - 32s 599ms/step - loss: 0.6735 - accuracy: 0.9448 - val_loss: 0.6722 - val_accuracy: 0.9469\n",
      "Epoch 10/30\n",
      "53/53 [==============================] - ETA: 0s - loss: 0.6712 - accuracy: 0.9448\n",
      "Epoch 10: saving model to unet_grain.hdf5\n",
      "53/53 [==============================] - 32s 613ms/step - loss: 0.6712 - accuracy: 0.9448 - val_loss: 0.6700 - val_accuracy: 0.9469\n",
      "Epoch 11/30\n",
      "53/53 [==============================] - ETA: 0s - loss: 0.6690 - accuracy: 0.9448\n",
      "Epoch 11: saving model to unet_grain.hdf5\n",
      "53/53 [==============================] - 32s 605ms/step - loss: 0.6690 - accuracy: 0.9448 - val_loss: 0.6677 - val_accuracy: 0.9469\n",
      "Epoch 12/30\n",
      "53/53 [==============================] - ETA: 0s - loss: 0.6667 - accuracy: 0.9448\n",
      "Epoch 12: saving model to unet_grain.hdf5\n",
      "53/53 [==============================] - 32s 602ms/step - loss: 0.6667 - accuracy: 0.9448 - val_loss: 0.6654 - val_accuracy: 0.9469\n",
      "Epoch 13/30\n",
      "53/53 [==============================] - ETA: 0s - loss: 0.6645 - accuracy: 0.9448\n",
      "Epoch 13: saving model to unet_grain.hdf5\n",
      "53/53 [==============================] - 33s 609ms/step - loss: 0.6645 - accuracy: 0.9448 - val_loss: 0.6632 - val_accuracy: 0.9469\n",
      "Epoch 14/30\n",
      "53/53 [==============================] - ETA: 0s - loss: 0.6622 - accuracy: 0.9448\n",
      "Epoch 14: saving model to unet_grain.hdf5\n",
      "53/53 [==============================] - 32s 601ms/step - loss: 0.6622 - accuracy: 0.9448 - val_loss: 0.6610 - val_accuracy: 0.9469\n",
      "Epoch 15/30\n",
      "53/53 [==============================] - ETA: 0s - loss: 0.5722 - accuracy: 0.9448\n",
      "Epoch 15: saving model to unet_grain.hdf5\n",
      "53/53 [==============================] - 32s 603ms/step - loss: 0.5722 - accuracy: 0.9448 - val_loss: 0.2252 - val_accuracy: 0.9469\n",
      "Epoch 16/30\n",
      "53/53 [==============================] - ETA: 0s - loss: 0.2262 - accuracy: 0.9448\n",
      "Epoch 16: saving model to unet_grain.hdf5\n",
      "53/53 [==============================] - 32s 598ms/step - loss: 0.2262 - accuracy: 0.9448 - val_loss: 0.2211 - val_accuracy: 0.9469\n",
      "Epoch 17/30\n",
      "53/53 [==============================] - ETA: 0s - loss: 0.2164 - accuracy: 0.9448\n",
      "Epoch 17: saving model to unet_grain.hdf5\n",
      "53/53 [==============================] - 32s 599ms/step - loss: 0.2164 - accuracy: 0.9448 - val_loss: 0.2063 - val_accuracy: 0.9469\n",
      "Epoch 18/30\n",
      "53/53 [==============================] - ETA: 0s - loss: 0.2053 - accuracy: 0.9448\n",
      "Epoch 18: saving model to unet_grain.hdf5\n",
      "53/53 [==============================] - 32s 605ms/step - loss: 0.2053 - accuracy: 0.9448 - val_loss: 0.2057 - val_accuracy: 0.9469\n",
      "Epoch 19/30\n",
      "53/53 [==============================] - ETA: 0s - loss: 0.1942 - accuracy: 0.9448\n",
      "Epoch 19: saving model to unet_grain.hdf5\n",
      "53/53 [==============================] - 32s 603ms/step - loss: 0.1942 - accuracy: 0.9448 - val_loss: 0.1974 - val_accuracy: 0.9469\n",
      "Epoch 20/30\n",
      "53/53 [==============================] - ETA: 0s - loss: 0.1849 - accuracy: 0.9448\n",
      "Epoch 20: saving model to unet_grain.hdf5\n",
      "53/53 [==============================] - 32s 599ms/step - loss: 0.1849 - accuracy: 0.9448 - val_loss: 0.1759 - val_accuracy: 0.9469\n",
      "Epoch 21/30\n",
      "53/53 [==============================] - ETA: 0s - loss: 0.1750 - accuracy: 0.9448\n",
      "Epoch 21: saving model to unet_grain.hdf5\n",
      "53/53 [==============================] - 32s 600ms/step - loss: 0.1750 - accuracy: 0.9448 - val_loss: 0.1653 - val_accuracy: 0.9469\n",
      "Epoch 22/30\n",
      "53/53 [==============================] - ETA: 0s - loss: 0.1702 - accuracy: 0.9448\n",
      "Epoch 22: saving model to unet_grain.hdf5\n",
      "53/53 [==============================] - 32s 610ms/step - loss: 0.1702 - accuracy: 0.9448 - val_loss: 0.1624 - val_accuracy: 0.9469\n",
      "Epoch 23/30\n",
      "53/53 [==============================] - ETA: 0s - loss: 0.1660 - accuracy: 0.9448\n",
      "Epoch 23: saving model to unet_grain.hdf5\n",
      "53/53 [==============================] - 33s 617ms/step - loss: 0.1660 - accuracy: 0.9448 - val_loss: 0.1577 - val_accuracy: 0.9469\n",
      "Epoch 24/30\n",
      "53/53 [==============================] - ETA: 0s - loss: 0.1630 - accuracy: 0.9448\n",
      "Epoch 24: saving model to unet_grain.hdf5\n",
      "53/53 [==============================] - 33s 617ms/step - loss: 0.1630 - accuracy: 0.9448 - val_loss: 0.1549 - val_accuracy: 0.9469\n",
      "Epoch 25/30\n",
      "53/53 [==============================] - ETA: 0s - loss: 0.1606 - accuracy: 0.9448\n",
      "Epoch 25: saving model to unet_grain.hdf5\n",
      "53/53 [==============================] - 32s 608ms/step - loss: 0.1606 - accuracy: 0.9448 - val_loss: 0.1548 - val_accuracy: 0.9469\n",
      "Epoch 26/30\n",
      "53/53 [==============================] - ETA: 0s - loss: 0.1590 - accuracy: 0.9448\n",
      "Epoch 26: saving model to unet_grain.hdf5\n",
      "53/53 [==============================] - 32s 603ms/step - loss: 0.1590 - accuracy: 0.9448 - val_loss: 0.1516 - val_accuracy: 0.9469\n",
      "Epoch 27/30\n",
      "53/53 [==============================] - ETA: 0s - loss: 0.1574 - accuracy: 0.9448\n",
      "Epoch 27: saving model to unet_grain.hdf5\n",
      "53/53 [==============================] - 32s 614ms/step - loss: 0.1574 - accuracy: 0.9448 - val_loss: 0.1509 - val_accuracy: 0.9469\n",
      "Epoch 28/30\n",
      "53/53 [==============================] - ETA: 0s - loss: 0.1562 - accuracy: 0.9448\n",
      "Epoch 28: saving model to unet_grain.hdf5\n",
      "53/53 [==============================] - 33s 616ms/step - loss: 0.1562 - accuracy: 0.9448 - val_loss: 0.1513 - val_accuracy: 0.9469\n",
      "Epoch 29/30\n",
      "53/53 [==============================] - ETA: 0s - loss: 0.1556 - accuracy: 0.9448\n",
      "Epoch 29: saving model to unet_grain.hdf5\n",
      "53/53 [==============================] - 32s 609ms/step - loss: 0.1556 - accuracy: 0.9448 - val_loss: 0.1485 - val_accuracy: 0.9469\n",
      "Epoch 30/30\n",
      "53/53 [==============================] - ETA: 0s - loss: 0.1545 - accuracy: 0.9448\n",
      "Epoch 30: saving model to unet_grain.hdf5\n",
      "53/53 [==============================] - 32s 596ms/step - loss: 0.1545 - accuracy: 0.9448 - val_loss: 0.1486 - val_accuracy: 0.9469\n"
     ]
    }
   ],
   "source": [
    "from src import unet\n",
    "from tensorflow import keras\n",
    "\n",
    "model = unet.unet_test(input_size = (256, 256, 1))\n",
    "model_checkpoint = keras.callbacks.ModelCheckpoint('unet_grain.hdf5', monitor='loss', verbose=1, save_best_only=False)\n",
    "history = model.fit(\n",
    "    train_gen, \n",
    "    steps_per_epoch=len(train_gen), \n",
    "    epochs=30, \n",
    "    callbacks=[model_checkpoint], \n",
    "    validation_data=valid_gen\n",
    ")"
   ]
  },
  {
   "cell_type": "code",
   "execution_count": null,
   "metadata": {
    "colab": {
     "base_uri": "https://localhost:8080/",
     "height": 350
    },
    "executionInfo": {
     "elapsed": 487,
     "status": "ok",
     "timestamp": 1648839595762,
     "user": {
      "displayName": "James Eckstein",
      "userId": "05032552484174298418"
     },
     "user_tz": 300
    },
    "id": "GlcQzaDoNFQd",
    "outputId": "214e4c30-48af-42a1-9fad-da5bf9950780"
   },
   "outputs": [
    {
     "data": {
      "image/png": "[encoded data removed]",
      "text/plain": [
       "<Figure size 720x360 with 1 Axes>"
      ]
     },
     "metadata": {},
     "output_type": "display_data"
    }
   ],
   "source": [
    "import matplotlib.pyplot as plt\n",
    "\n",
    "train_loss = history.history['loss']\n",
    "valid_loss = history.history['val_loss']\n",
    "\n",
    "plt.figure(figsize=(10,5), facecolor='White')\n",
    "\n",
    "plt.title(\"Loss With Pre Augmentation and Full Dataset (b5, s59)\")\n",
    "plt.xlabel(\"Epochs\")\n",
    "plt.plot(train_loss, label='Training Loss')\n",
    "plt.plot(valid_loss, label='Validation Loss')\n",
    "plt.legend()\n",
    "plt.show()"
   ]
  },
  {
   "cell_type": "markdown",
   "metadata": {
    "id": "yYRADonH8nm0"
   },
   "source": [
    "## Train with data generator"
   ]
  },
  {
   "cell_type": "code",
   "execution_count": null,
   "metadata": {
    "colab": {
     "base_uri": "https://localhost:8080/"
    },
    "id": "aCLKtQBo8nm1",
    "outputId": "d82a0925-2aae-44e7-b82e-93d74072b3de"
   },
   "outputs": [
    {
     "name": "stderr",
     "output_type": "stream",
     "text": [
      "/usr/local/lib/python3.7/dist-packages/keras/optimizer_v2/adam.py:105: UserWarning: The `lr` argument is deprecated, use `learning_rate` instead.\n",
      "  super(Adam, self).__init__(name, **kwargs)\n",
      "/usr/local/lib/python3.7/dist-packages/ipykernel_launcher.py:17: UserWarning: `Model.fit_generator` is deprecated and will be removed in a future version. Please use `Model.fit`, which supports generators.\n"
     ]
    },
    {
     "name": "stdout",
     "output_type": "stream",
     "text": [
      "Found 13 images belonging to 1 classes.\n",
      "Found 13 images belonging to 1 classes.\n",
      "Found 13 images belonging to 1 classes.\n",
      "Epoch 1/3\n",
      "50/50 [==============================] - ETA: 0s - loss: 0.1360 - mae: 0.1532\n",
      "Epoch 00001: saving model to unet_grain.hdf5\n",
      "50/50 [==============================] - 218s 4s/step - loss: 0.1360 - mae: 0.1532\n",
      "Epoch 2/3\n",
      "50/50 [==============================] - ETA: 0s - loss: 0.0815 - mae: 0.1217\n",
      "Epoch 00002: saving model to unet_grain.hdf5\n",
      "50/50 [==============================] - 205s 4s/step - loss: 0.0815 - mae: 0.1217\n",
      "Epoch 3/3\n",
      "38/50 [=====================>........] - ETA: 49s - loss: 0.0819 - mae: 0.1201"
     ]
    }
   ],
   "source": [
    "from tensorflow import keras\n",
    "from skimage import io\n",
    "import numpy as np\n",
    "\n",
    "data_gen_args = dict(rotation_range=0.2,\n",
    "                    width_shift_range=0.00,\n",
    "                    height_shift_range=0.00,\n",
    "                    shear_range=0.00,\n",
    "                    zoom_range=0.05,\n",
    "                    horizontal_flip=True,\n",
    "                    fill_mode='nearest')\n",
    "save_to_dir = 'data/train/aug'\n",
    "myGene = data.trainGenerator(4,'data/train','image','label',data_gen_args, save_to_dir = save_to_dir, target_size = (256, 256))\n",
    "\n",
    "model = Model.unet(input_size = (256, 256, 1))\n",
    "model_checkpoint = keras.callbacks.ModelCheckpoint('unet_grain.hdf5', monitor='loss',verbose=1, save_best_only=False)\n",
    "model.fit_generator(myGene, steps_per_epoch=50, epochs=3, callbacks=[model_checkpoint])"
   ]
  },
  {
   "cell_type": "markdown",
   "metadata": {
    "id": "SOes-E73s-n-"
   },
   "source": [
    "### Investigate Filters"
   ]
  },
  {
   "cell_type": "code",
   "execution_count": null,
   "metadata": {
    "id": "VfpSPG3a463O"
   },
   "outputs": [],
   "source": [
    "# lil snippet to try to view the filters\n",
    "import numpy as np\n",
    "from skimage import io\n",
    "model = Model.unet()\n",
    "model.load_weights(\"unet_grain.hdf5\")\n",
    "weights = model.get_weights()\n",
    "filters = np.array(weights[0])\n",
    "\n",
    "for i in range(64):\n",
    "    filt = np.zeros((3,3))\n",
    "    filt[0,0] = filters[0][0][0][i]\n",
    "    filt[0,1] = filters[0][1][0][i]\n",
    "    filt[0,2] = filters[0][2][0][i]\n",
    "\n",
    "    filt[1,0] = filters[1][0][0][i]\n",
    "    filt[1,1] = filters[1][1][0][i]\n",
    "    filt[1,2] = filters[1][2][0][i]\n",
    "    \n",
    "    filt[2,0] = filters[2][0][0][i]\n",
    "    filt[2,1] = filters[2][1][0][i]\n",
    "    filt[2,2] = filters[2][2][0][i]\n",
    "\n",
    "    io.imshow(filt)\n",
    "    io.show()"
   ]
  },
  {
   "cell_type": "markdown",
   "metadata": {
    "id": "vC9fh6Jn8nm2"
   },
   "source": [
    "# Test \n"
   ]
  },
  {
   "cell_type": "code",
   "execution_count": 8,
   "metadata": {
    "colab": {
     "base_uri": "https://localhost:8080/",
     "height": 1000
    },
    "executionInfo": {
     "elapsed": 40983,
     "status": "ok",
     "timestamp": 1648846882091,
     "user": {
      "displayName": "James Eckstein",
      "userId": "05032552484174298418"
     },
     "user_tz": 300
    },
    "id": "BdvX_FQJ8nm2",
    "outputId": "2773d3e9-8a89-451f-d3cf-912045d1c943"
   },
   "outputs": [
    {
     "name": "stdout",
     "output_type": "stream",
     "text": [
      "Pt_94kx_Conical 5sec_1fs_20umObj_5frames_02_1.ser_100.png\n",
      "Pt_94kx_Conical 5sec_1fs_20umObj_5frames_02_1.ser_96.png\n",
      "Pt_94kx_Conical 5sec_1fs_20umObj_5frames_02_1.ser_97.png\n",
      "Pt_94kx_Conical 5sec_1fs_20umObj_5frames_02_1.ser_98.png\n",
      "Pt_94kx_Conical 5sec_1fs_20umObj_5frames_02_1.ser_99.png\n",
      "5/5 [==============================] - 33s 6s/step\n",
      "\n",
      "Saving to data/test Pt/20um/results_test/Pt_94kx_Conical 5sec_1fs_20umObj_5frames_02_1.ser_100.png\n",
      "Min: 95.05182647705078, Max: 254.99990844726562, Shape: (528, 528, 1)\n"
     ]
    },
    {
     "data": {
      "image/png": "[encoded data removed]",
      "text/plain": [
       "<Figure size 432x288 with 2 Axes>"
      ]
     },
     "metadata": {
      "needs_background": "light"
     },
     "output_type": "display_data"
    },
    {
     "name": "stdout",
     "output_type": "stream",
     "text": [
      "\n",
      "Saving to data/test Pt/20um/results_test/Pt_94kx_Conical 5sec_1fs_20umObj_5frames_02_1.ser_96.png\n",
      "Min: 89.99070739746094, Max: 255.0, Shape: (528, 528, 1)\n",
      "\n",
      "Saving to data/test Pt/20um/results_test/Pt_94kx_Conical 5sec_1fs_20umObj_5frames_02_1.ser_97.png\n",
      "Min: 94.63678741455078, Max: 254.9999542236328, Shape: (528, 528, 1)\n",
      "\n",
      "Saving to data/test Pt/20um/results_test/Pt_94kx_Conical 5sec_1fs_20umObj_5frames_02_1.ser_98.png\n",
      "Min: 94.70748901367188, Max: 254.99990844726562, Shape: (528, 528, 1)\n",
      "\n",
      "Saving to data/test Pt/20um/results_test/Pt_94kx_Conical 5sec_1fs_20umObj_5frames_02_1.ser_99.png\n",
      "Min: 97.91722106933594, Max: 254.999755859375, Shape: (528, 528, 1)\n"
     ]
    }
   ],
   "source": [
    "from src import unet\n",
    "import os\n",
    "from skimage import io, transform\n",
    "from time import time\n",
    "import numpy as np\n",
    "\n",
    "test_dir = 'data/test Pt/20um'\n",
    "target_size = (528,528)\n",
    "\n",
    "save_dir = f'{test_dir}/results_test/'\n",
    "save_suf = ''\n",
    "\n",
    "\n",
    "def test_img_gen(test_paths, target_size=(256,256)):\n",
    "    for ind, path in enumerate(test_paths):\n",
    "        img = io.imread(path)\n",
    "        if len(img.shape) > 2:\n",
    "            img = img[:,:,0]\n",
    "        if img.shape != target_size:\n",
    "            img = transform.resize(img, target_size)\n",
    "\n",
    "        img -= img.min()\n",
    "        img = img.astype('float32') / np.ptp(img)\n",
    "        img = np.expand_dims(img, 0)\n",
    "        yield img\n",
    "\n",
    "test_names = np.array([])\n",
    "for fname in np.sort(os.listdir(test_dir)):\n",
    "    if fname.endswith('.png') and np.char.find(fname, 'trace') == -1:\n",
    "        print(fname)\n",
    "        test_names = np.append(test_names, os.path.join(test_dir, fname))\n",
    "\n",
    "test_set = test_img_gen(test_names, target_size=target_size)\n",
    "\n",
    "model = unet(input_size=(target_size + (1,)))\n",
    "model.load_weights(\"results/nouveaux256_aug_b5-s53-e66.hdf5\")\n",
    "\n",
    "results = 255 * model.predict(test_set, steps=len(test_names), verbose=1)\n",
    "\n",
    "for ind, result in enumerate(results):\n",
    "    fname = test_names[ind].split('/')[-1]\n",
    "    save_path = f'{save_dir}{fname[:-4]}{save_suf}.png'\n",
    "    print(f\"\\nSaving to {save_path}\")\n",
    "    print(f\"Min: {np.min(result)}, Max: {np.max(result)}, Shape: {result.shape}\")\n",
    "    io.imsave(save_path, result[:,:,0].astype('uint8'))\n",
    "    if ind == 0:\n",
    "        io.imshow(result[:, :, 0])\n",
    "        io.show()"
   ]
  },
  {
   "cell_type": "markdown",
   "metadata": {
    "id": "3w1CEhlEXxi6"
   },
   "source": [
    "# Post Processing"
   ]
  },
  {
   "cell_type": "markdown",
   "metadata": {
    "id": "sis-WIcXYp7W"
   },
   "source": [
    "## Threshold and Skeletonizing\n",
    "\n",
    "This next thing is just to visualize what the processing is doing before applying it to all the images"
   ]
  },
  {
   "cell_type": "code",
   "execution_count": null,
   "metadata": {
    "id": "q_h72d6UY5Rm"
   },
   "outputs": [],
   "source": [
    "import os\n",
    "from skimage import io\n",
    "from src import post_process\n",
    "\n",
    "if 'test_dir' not in locals():\n",
    "    test_dir = 'data/test 2-11/(528, 528)_aug/'\n",
    "\n",
    "for name in os.listdir(test_dir):\n",
    "    if name.endswith('_processed.png') or name.endswith('_overlaid.png'): continue\n",
    "\n",
    "    im_path = os.path.join(test_dir, name)\n",
    "    image = io.imread(im_path)\n",
    "    skel = 255 * post_process(image)\n",
    "    io.imsave(f'{im_path[:-4]}_processed.png', skel.astype('uint8')) \n",
    "\n",
    "    print(f'Saving to: {im_path[:-4]}_processed.png')"
   ]
  },
  {
   "cell_type": "markdown",
   "metadata": {
    "id": "cR6xzMBPcaw2"
   },
   "source": [
    "## Overlay "
   ]
  },
  {
   "cell_type": "code",
   "execution_count": null,
   "metadata": {
    "colab": {
     "base_uri": "https://localhost:8080/",
     "height": 381
    },
    "executionInfo": {
     "elapsed": 21761,
     "status": "error",
     "timestamp": 1643051708537,
     "user": {
      "displayName": "James Eckstein",
      "photoUrl": "https://lh3.googleusercontent.com/a-/AOh14GjSkbwuGkSVFXmpY_K5aXDzWl4lccRS01YB-YMb=s64",
      "userId": "05032552484174298418"
     },
     "user_tz": 360
    },
    "id": "SalLaUI4c-1A",
    "outputId": "5d42cf68-b102-4909-c259-0b3103da2ccd"
   },
   "outputs": [
    {
     "ename": "FileNotFoundError",
     "evalue": "ignored",
     "output_type": "error",
     "traceback": [
      "\u001b[0;31m---------------------------------------------------------------------------\u001b[0m",
      "\u001b[0;31mFileNotFoundError\u001b[0m                         Traceback (most recent call last)",
      "\u001b[0;32m<ipython-input-80-c721bfe49e64>\u001b[0m in \u001b[0;36m<module>\u001b[0;34m()\u001b[0m\n\u001b[1;32m      9\u001b[0m \u001b[0;32mfor\u001b[0m \u001b[0mi\u001b[0m \u001b[0;32min\u001b[0m \u001b[0mrange\u001b[0m\u001b[0;34m(\u001b[0m\u001b[0mtest_n\u001b[0m\u001b[0;34m)\u001b[0m\u001b[0;34m:\u001b[0m\u001b[0;34m\u001b[0m\u001b[0;34m\u001b[0m\u001b[0m\n\u001b[1;32m     10\u001b[0m     \u001b[0mi\u001b[0m \u001b[0;34m=\u001b[0m \u001b[0mi\u001b[0m \u001b[0;34m+\u001b[0m \u001b[0;36m1\u001b[0m\u001b[0;34m\u001b[0m\u001b[0;34m\u001b[0m\u001b[0m\n\u001b[0;32m---> 11\u001b[0;31m     \u001b[0mraw_img\u001b[0m \u001b[0;34m=\u001b[0m \u001b[0mio\u001b[0m\u001b[0;34m.\u001b[0m\u001b[0mimread\u001b[0m\u001b[0;34m(\u001b[0m\u001b[0;34mf'{test_dir}0{i}.png'\u001b[0m\u001b[0;34m)\u001b[0m\u001b[0;34m\u001b[0m\u001b[0;34m\u001b[0m\u001b[0m\n\u001b[0m\u001b[1;32m     12\u001b[0m     \u001b[0msk_img\u001b[0m \u001b[0;34m=\u001b[0m \u001b[0mio\u001b[0m\u001b[0;34m.\u001b[0m\u001b[0mimread\u001b[0m\u001b[0;34m(\u001b[0m\u001b[0;34mf'{test_dir}{i}_processed.png'\u001b[0m\u001b[0;34m)\u001b[0m\u001b[0;34m\u001b[0m\u001b[0;34m\u001b[0m\u001b[0m\n\u001b[1;32m     13\u001b[0m     \u001b[0msk_img\u001b[0m \u001b[0;34m=\u001b[0m \u001b[0;36m255\u001b[0m \u001b[0;34m*\u001b[0m \u001b[0mtransform\u001b[0m\u001b[0;34m.\u001b[0m\u001b[0mresize\u001b[0m\u001b[0;34m(\u001b[0m\u001b[0msk_img\u001b[0m\u001b[0;34m,\u001b[0m \u001b[0mraw_img\u001b[0m\u001b[0;34m.\u001b[0m\u001b[0mshape\u001b[0m\u001b[0;34m,\u001b[0m \u001b[0manti_aliasing\u001b[0m\u001b[0;34m=\u001b[0m\u001b[0;32mFalse\u001b[0m\u001b[0;34m)\u001b[0m\u001b[0;34m\u001b[0m\u001b[0;34m\u001b[0m\u001b[0m\n",
      "\u001b[0;32m/usr/local/lib/python3.7/dist-packages/skimage/io/_io.py\u001b[0m in \u001b[0;36mimread\u001b[0;34m(fname, as_gray, plugin, **plugin_args)\u001b[0m\n\u001b[1;32m     46\u001b[0m \u001b[0;34m\u001b[0m\u001b[0m\n\u001b[1;32m     47\u001b[0m     \u001b[0;32mwith\u001b[0m \u001b[0mfile_or_url_context\u001b[0m\u001b[0;34m(\u001b[0m\u001b[0mfname\u001b[0m\u001b[0;34m)\u001b[0m \u001b[0;32mas\u001b[0m \u001b[0mfname\u001b[0m\u001b[0;34m:\u001b[0m\u001b[0;34m\u001b[0m\u001b[0;34m\u001b[0m\u001b[0m\n\u001b[0;32m---> 48\u001b[0;31m         \u001b[0mimg\u001b[0m \u001b[0;34m=\u001b[0m \u001b[0mcall_plugin\u001b[0m\u001b[0;34m(\u001b[0m\u001b[0;34m'imread'\u001b[0m\u001b[0;34m,\u001b[0m \u001b[0mfname\u001b[0m\u001b[0;34m,\u001b[0m \u001b[0mplugin\u001b[0m\u001b[0;34m=\u001b[0m\u001b[0mplugin\u001b[0m\u001b[0;34m,\u001b[0m \u001b[0;34m**\u001b[0m\u001b[0mplugin_args\u001b[0m\u001b[0;34m)\u001b[0m\u001b[0;34m\u001b[0m\u001b[0;34m\u001b[0m\u001b[0m\n\u001b[0m\u001b[1;32m     49\u001b[0m \u001b[0;34m\u001b[0m\u001b[0m\n\u001b[1;32m     50\u001b[0m     \u001b[0;32mif\u001b[0m \u001b[0;32mnot\u001b[0m \u001b[0mhasattr\u001b[0m\u001b[0;34m(\u001b[0m\u001b[0mimg\u001b[0m\u001b[0;34m,\u001b[0m \u001b[0;34m'ndim'\u001b[0m\u001b[0;34m)\u001b[0m\u001b[0;34m:\u001b[0m\u001b[0;34m\u001b[0m\u001b[0;34m\u001b[0m\u001b[0m\n",
      "\u001b[0;32m/usr/local/lib/python3.7/dist-packages/skimage/io/manage_plugins.py\u001b[0m in \u001b[0;36mcall_plugin\u001b[0;34m(kind, *args, **kwargs)\u001b[0m\n\u001b[1;32m    205\u001b[0m                                (plugin, kind))\n\u001b[1;32m    206\u001b[0m \u001b[0;34m\u001b[0m\u001b[0m\n\u001b[0;32m--> 207\u001b[0;31m     \u001b[0;32mreturn\u001b[0m \u001b[0mfunc\u001b[0m\u001b[0;34m(\u001b[0m\u001b[0;34m*\u001b[0m\u001b[0margs\u001b[0m\u001b[0;34m,\u001b[0m \u001b[0;34m**\u001b[0m\u001b[0mkwargs\u001b[0m\u001b[0;34m)\u001b[0m\u001b[0;34m\u001b[0m\u001b[0;34m\u001b[0m\u001b[0m\n\u001b[0m\u001b[1;32m    208\u001b[0m \u001b[0;34m\u001b[0m\u001b[0m\n\u001b[1;32m    209\u001b[0m \u001b[0;34m\u001b[0m\u001b[0m\n",
      "\u001b[0;32m/usr/local/lib/python3.7/dist-packages/skimage/io/_plugins/imageio_plugin.py\u001b[0m in \u001b[0;36mimread\u001b[0;34m(*args, **kwargs)\u001b[0m\n\u001b[1;32m      8\u001b[0m \u001b[0;34m@\u001b[0m\u001b[0mwraps\u001b[0m\u001b[0;34m(\u001b[0m\u001b[0mimageio_imread\u001b[0m\u001b[0;34m)\u001b[0m\u001b[0;34m\u001b[0m\u001b[0;34m\u001b[0m\u001b[0m\n\u001b[1;32m      9\u001b[0m \u001b[0;32mdef\u001b[0m \u001b[0mimread\u001b[0m\u001b[0;34m(\u001b[0m\u001b[0;34m*\u001b[0m\u001b[0margs\u001b[0m\u001b[0;34m,\u001b[0m \u001b[0;34m**\u001b[0m\u001b[0mkwargs\u001b[0m\u001b[0;34m)\u001b[0m\u001b[0;34m:\u001b[0m\u001b[0;34m\u001b[0m\u001b[0;34m\u001b[0m\u001b[0m\n\u001b[0;32m---> 10\u001b[0;31m     \u001b[0;32mreturn\u001b[0m \u001b[0mnp\u001b[0m\u001b[0;34m.\u001b[0m\u001b[0masarray\u001b[0m\u001b[0;34m(\u001b[0m\u001b[0mimageio_imread\u001b[0m\u001b[0;34m(\u001b[0m\u001b[0;34m*\u001b[0m\u001b[0margs\u001b[0m\u001b[0;34m,\u001b[0m \u001b[0;34m**\u001b[0m\u001b[0mkwargs\u001b[0m\u001b[0;34m)\u001b[0m\u001b[0;34m)\u001b[0m\u001b[0;34m\u001b[0m\u001b[0;34m\u001b[0m\u001b[0m\n\u001b[0m",
      "\u001b[0;32m/usr/local/lib/python3.7/dist-packages/imageio/core/functions.py\u001b[0m in \u001b[0;36mimread\u001b[0;34m(uri, format, **kwargs)\u001b[0m\n\u001b[1;32m    219\u001b[0m \u001b[0;34m\u001b[0m\u001b[0m\n\u001b[1;32m    220\u001b[0m     \u001b[0;31m# Get reader and read first\u001b[0m\u001b[0;34m\u001b[0m\u001b[0;34m\u001b[0m\u001b[0;34m\u001b[0m\u001b[0m\n\u001b[0;32m--> 221\u001b[0;31m     \u001b[0mreader\u001b[0m \u001b[0;34m=\u001b[0m \u001b[0mread\u001b[0m\u001b[0;34m(\u001b[0m\u001b[0muri\u001b[0m\u001b[0;34m,\u001b[0m \u001b[0mformat\u001b[0m\u001b[0;34m,\u001b[0m \u001b[0;34m\"i\"\u001b[0m\u001b[0;34m,\u001b[0m \u001b[0;34m**\u001b[0m\u001b[0mkwargs\u001b[0m\u001b[0;34m)\u001b[0m\u001b[0;34m\u001b[0m\u001b[0;34m\u001b[0m\u001b[0m\n\u001b[0m\u001b[1;32m    222\u001b[0m     \u001b[0;32mwith\u001b[0m \u001b[0mreader\u001b[0m\u001b[0;34m:\u001b[0m\u001b[0;34m\u001b[0m\u001b[0;34m\u001b[0m\u001b[0m\n\u001b[1;32m    223\u001b[0m         \u001b[0;32mreturn\u001b[0m \u001b[0mreader\u001b[0m\u001b[0;34m.\u001b[0m\u001b[0mget_data\u001b[0m\u001b[0;34m(\u001b[0m\u001b[0;36m0\u001b[0m\u001b[0;34m)\u001b[0m\u001b[0;34m\u001b[0m\u001b[0;34m\u001b[0m\u001b[0m\n",
      "\u001b[0;32m/usr/local/lib/python3.7/dist-packages/imageio/core/functions.py\u001b[0m in \u001b[0;36mget_reader\u001b[0;34m(uri, format, mode, **kwargs)\u001b[0m\n\u001b[1;32m    128\u001b[0m \u001b[0;34m\u001b[0m\u001b[0m\n\u001b[1;32m    129\u001b[0m     \u001b[0;31m# Create request object\u001b[0m\u001b[0;34m\u001b[0m\u001b[0;34m\u001b[0m\u001b[0;34m\u001b[0m\u001b[0m\n\u001b[0;32m--> 130\u001b[0;31m     \u001b[0mrequest\u001b[0m \u001b[0;34m=\u001b[0m \u001b[0mRequest\u001b[0m\u001b[0;34m(\u001b[0m\u001b[0muri\u001b[0m\u001b[0;34m,\u001b[0m \u001b[0;34m\"r\"\u001b[0m \u001b[0;34m+\u001b[0m \u001b[0mmode\u001b[0m\u001b[0;34m,\u001b[0m \u001b[0;34m**\u001b[0m\u001b[0mkwargs\u001b[0m\u001b[0;34m)\u001b[0m\u001b[0;34m\u001b[0m\u001b[0;34m\u001b[0m\u001b[0m\n\u001b[0m\u001b[1;32m    131\u001b[0m \u001b[0;34m\u001b[0m\u001b[0m\n\u001b[1;32m    132\u001b[0m     \u001b[0;31m# Get format\u001b[0m\u001b[0;34m\u001b[0m\u001b[0;34m\u001b[0m\u001b[0;34m\u001b[0m\u001b[0m\n",
      "\u001b[0;32m/usr/local/lib/python3.7/dist-packages/imageio/core/request.py\u001b[0m in \u001b[0;36m__init__\u001b[0;34m(self, uri, mode, **kwargs)\u001b[0m\n\u001b[1;32m    123\u001b[0m \u001b[0;34m\u001b[0m\u001b[0m\n\u001b[1;32m    124\u001b[0m         \u001b[0;31m# Parse what was given\u001b[0m\u001b[0;34m\u001b[0m\u001b[0;34m\u001b[0m\u001b[0;34m\u001b[0m\u001b[0m\n\u001b[0;32m--> 125\u001b[0;31m         \u001b[0mself\u001b[0m\u001b[0;34m.\u001b[0m\u001b[0m_parse_uri\u001b[0m\u001b[0;34m(\u001b[0m\u001b[0muri\u001b[0m\u001b[0;34m)\u001b[0m\u001b[0;34m\u001b[0m\u001b[0;34m\u001b[0m\u001b[0m\n\u001b[0m\u001b[1;32m    126\u001b[0m \u001b[0;34m\u001b[0m\u001b[0m\n\u001b[1;32m    127\u001b[0m         \u001b[0;31m# Set extension\u001b[0m\u001b[0;34m\u001b[0m\u001b[0;34m\u001b[0m\u001b[0;34m\u001b[0m\u001b[0m\n",
      "\u001b[0;32m/usr/local/lib/python3.7/dist-packages/imageio/core/request.py\u001b[0m in \u001b[0;36m_parse_uri\u001b[0;34m(self, uri)\u001b[0m\n\u001b[1;32m    271\u001b[0m                 \u001b[0;31m# Reading: check that the file exists (but is allowed a dir)\u001b[0m\u001b[0;34m\u001b[0m\u001b[0;34m\u001b[0m\u001b[0;34m\u001b[0m\u001b[0m\n\u001b[1;32m    272\u001b[0m                 \u001b[0;32mif\u001b[0m \u001b[0;32mnot\u001b[0m \u001b[0mos\u001b[0m\u001b[0;34m.\u001b[0m\u001b[0mpath\u001b[0m\u001b[0;34m.\u001b[0m\u001b[0mexists\u001b[0m\u001b[0;34m(\u001b[0m\u001b[0mfn\u001b[0m\u001b[0;34m)\u001b[0m\u001b[0;34m:\u001b[0m\u001b[0;34m\u001b[0m\u001b[0;34m\u001b[0m\u001b[0m\n\u001b[0;32m--> 273\u001b[0;31m                     \u001b[0;32mraise\u001b[0m \u001b[0mFileNotFoundError\u001b[0m\u001b[0;34m(\u001b[0m\u001b[0;34m\"No such file: '%s'\"\u001b[0m \u001b[0;34m%\u001b[0m \u001b[0mfn\u001b[0m\u001b[0;34m)\u001b[0m\u001b[0;34m\u001b[0m\u001b[0;34m\u001b[0m\u001b[0m\n\u001b[0m\u001b[1;32m    274\u001b[0m             \u001b[0;32melse\u001b[0m\u001b[0;34m:\u001b[0m\u001b[0;34m\u001b[0m\u001b[0;34m\u001b[0m\u001b[0m\n\u001b[1;32m    275\u001b[0m                 \u001b[0;31m# Writing: check that the directory to write to does exist\u001b[0m\u001b[0;34m\u001b[0m\u001b[0;34m\u001b[0m\u001b[0;34m\u001b[0m\u001b[0m\n",
      "\u001b[0;31mFileNotFoundError\u001b[0m: No such file: '/content/drive/MyDrive/Lab/Grain-U-Net/data/testerino/010.png'"
     ]
    }
   ],
   "source": [
    "from skimage import io, transform\n",
    "import numpy as np\n",
    "import os\n",
    "\n",
    "if 'test_n' not in locals():\n",
    "    test_n = 1\n",
    "    test_dir = 'data/test/'\n",
    "\n",
    "for i in range(test_n):\n",
    "    i = i + 1\n",
    "    raw_img = io.imread(f'{test_dir}0{i}.png')\n",
    "    sk_img = io.imread(f'{test_dir}{i}_processed.png')\n",
    "    sk_img = 255 * transform.resize(sk_img, raw_img.shape, anti_aliasing=False)\n",
    "    fusion_img = np.zeros((raw_img.shape[0], raw_img.shape[1], 3), dtype=int)\n",
    "    fusion_img[:, :, 0] = raw_img\n",
    "    fusion_img[:, :, 1] = raw_img\n",
    "    fusion_img[:, :, 2] = raw_img\n",
    "    fusion_img[sk_img > 0, 0] = 255\n",
    "    if os.path.isfile(f'{test_dir}key/{i}.png'):\n",
    "        ht_img = io.imread(f'{test_dir}key/{i}.png')\n",
    "        ht_img = 255 - (255 * transform.resize(ht_img, raw_img.shape, anti_aliasing=False))\n",
    "        fusion_img[ht_img > 0, 1] = 255\n",
    "#        io.imshow(fusion_img)\n",
    "#        io.show()\n",
    "\n",
    "    io.imsave(f'{test_dir}{i}_overlaid.png', fusion_img.astype('uint8')) \n"
   ]
  },
  {
   "cell_type": "markdown",
   "metadata": {
    "id": "jENaS3uhwUV9"
   },
   "source": [
    "# Model Evaluation Tools"
   ]
  },
  {
   "cell_type": "markdown",
   "metadata": {
    "id": "ym5bKgKwG1rt"
   },
   "source": [
    "## Intersection Over Union (IOU)\n",
    "This test should find what percent of the predicted grain boundary (pred) matched the actual hand traced boundary (test)"
   ]
  },
  {
   "cell_type": "markdown",
   "metadata": {
    "id": "K3cKUkLxUl4G"
   },
   "source": [
    "`iou_test.find_iou(pred, ref)` \n",
    "This function finds the mean IOU between `pred` and `ref`. It does this by matching each grain in a traced (`ref`) image with a grain in the corresponding predicted (`pred`) image and calculating the Jaccard similarity index between them. It then takes the mean of all these Jaccard indicies to find the final mean iou of an image."
   ]
  },
  {
   "cell_type": "code",
   "execution_count": null,
   "metadata": {
    "colab": {
     "base_uri": "https://localhost:8080/"
    },
    "executionInfo": {
     "elapsed": 5802,
     "status": "ok",
     "timestamp": 1629658985805,
     "user": {
      "displayName": "James Eckstein",
      "photoUrl": "https://lh3.googleusercontent.com/a-/AOh14GjSkbwuGkSVFXmpY_K5aXDzWl4lccRS01YB-YMb=s64",
      "userId": "05032552484174298418"
     },
     "user_tz": 300
    },
    "id": "S-f5FWreHFYk",
    "outputId": "33353927-5033-46a8-c667-222ee709763d"
   },
   "outputs": [
    {
     "name": "stdout",
     "output_type": "stream",
     "text": [
      " - img 0 \t Mean IOU: 0.6897960320932874\n",
      " - img 1 \t Mean IOU: 0.6918237807413546\n",
      " - img 10 \t Mean IOU: 0.32937398306008037\n",
      " - img 11 \t Mean IOU: 0.4090040275747048\n",
      " - img 12 \t Mean IOU: 0.3772879304429595\n",
      " - img 13 \t Mean IOU: 0.2836940215242354\n",
      " - img 14 \t Mean IOU: 0.263733829255234\n",
      " - img 15 \t Mean IOU: 0.3609622702541213\n",
      " - img 16 \t Mean IOU: 0.3174240846292632\n",
      " - img 17 \t Mean IOU: 0.13929159806323452\n",
      " - img 18 \t Mean IOU: 0.29501815187293223\n",
      " - img 19 \t Mean IOU: 0.3441311127996548\n",
      " - img 2 \t Mean IOU: 0.5405584809756075\n",
      " - img 20 \t Mean IOU: 0.3092728479491392\n",
      " - img 21 \t Mean IOU: 0.0923450719252461\n",
      " - img 22 \t Mean IOU: 0.35390273997218114\n",
      " - img 23 \t Mean IOU: 0.32514641024161567\n",
      " - img 24 \t Mean IOU: 0.3260055477566883\n",
      " - img 25 \t Mean IOU: 0.3415242557556229\n",
      " - img 26 \t Mean IOU: 0.2908972545854925\n",
      " - img 27 \t Mean IOU: 0.1339033245176248\n",
      " - img 28 \t Mean IOU: 0.19717508171493314\n",
      " - img 3 \t Mean IOU: 0.4149391995491761\n",
      " - img 4 \t Mean IOU: 0.3199635288446575\n",
      " - img 5 \t Mean IOU: 0.4426870778501892\n",
      " - img 6 \t Mean IOU: 0.2228128581305763\n",
      " - img 7 \t Mean IOU: 0.19792779714155598\n",
      " - img 8 \t Mean IOU: 0.4158658691258742\n",
      " - img 9 \t Mean IOU: 0.36183258993041406\n",
      "\n",
      "Mean Mean IOU = 0.33752761235440193\n",
      "Median Mean IOU = 0.3260055477566883\n",
      "\n",
      "\n",
      "Max Mean IOU = 0.6918237807413546, Min Mean IOU = 0.0923450719252461\n"
     ]
    }
   ],
   "source": [
    "from skimage import io, transform\n",
    "import numpy as np\n",
    "import iou_test\n",
    "import importlib, os\n",
    "importlib.reload(iou_test)\n",
    "\n",
    "if 'test_n' in locals():\n",
    "    test_dir = 'data/test/'\n",
    "    traced_dir = 'data/test/key/'\n",
    "\n",
    "traced_dir = test_dir + 'key/'\n",
    "traced_names = np.sort(os.listdir(traced_dir))\n",
    "traced = np.char.strip(traced_names, '.png')\n",
    "\n",
    "results = np.array([], dtype=np.float64)\n",
    "\n",
    "for key in traced:\n",
    "    ml_img = io.imread(test_dir + key + '_processed.png') / 255\n",
    "    ml_img = 1 - ml_img\n",
    "#    ml_img = io.imread(test_dir + key + '_predict.png') / 255\n",
    "    key_img = transform.resize(io.imread(traced_dir + key + '.png'), ml_img.shape)\n",
    "    key_img = key_img > 0.9\n",
    "    \n",
    "    iou = iou_test.find_iou(ml_img, key_img, verbose=False)\n",
    "    results = np.append(results, iou)\n",
    "    print(f' - img {key} \\t Mean IOU: {iou}')\n",
    "    \n",
    "print(f'\\nMean Mean IOU = {np.mean(results)}\\nMedian Mean IOU = {np.median(results)}\\n\\n')\n",
    "print(f'Max Mean IOU = {np.max(results)}, Min Mean IOU = {np.min(results)}')\n"
   ]
  },
  {
   "cell_type": "markdown",
   "metadata": {
    "id": "rVtddQFjoXsP"
   },
   "source": [
    "## Chi2"
   ]
  },
  {
   "cell_type": "code",
   "execution_count": null,
   "metadata": {
    "id": "uCTzHcjCTHIt",
    "scrolled": true
   },
   "outputs": [],
   "source": [
    "from chi2test import find_chi2\n",
    "from skimage import io, transform\n",
    "import os\n",
    "import numpy as np\n",
    "import time\n",
    "\n",
    "test_dir = 'data/test/'\n",
    "traced_dir = 'data/test/key/'\n",
    "traced_names = np.sort(os.listdir(traced_dir))\n",
    "traced = np.char.strip(traced_names, '.png')\n",
    "\n",
    "chi2_dtype = [('img', (np.str_, 10)), ('chi2', np.float64), ('avg_chi2', np.float64)]\n",
    "results = np.array([], dtype=chi2_dtype)\n",
    "\n",
    "for key in traced:\n",
    "    ml_img = io.imread(test_dir + key + '_processed.png')\n",
    "    key_img = transform.resize(io.imread(traced_dir + key + '.png'), ml_img.shape)\n",
    "\n",
    "    if np.min(key_img) != 0 or np.max(key_img) != 255:\n",
    "        key_img -= np.min(key_img)\n",
    "        key_img = np.round(key_img * (255 / np.max(key_img)))\n",
    "    key_img = np.max(key_img) - key_img\n",
    "    \n",
    "    result = find_chi2(ml_img, key_img, out_dict=True)\n",
    "    results = np.append(results, \\\n",
    "                np.array([(key, result[\"chi2\"], result[\"avg_chi2\"])], dtype=chi2_dtype))\n",
    "    print(f'- img: {key} \\t chi2: {result[\"chi2\"]} \\t avg_chi2: {result[\"avg_chi2\"]} \\t median_r2: {result[\"median_r2\"]}')\n",
    "\n",
    "print(f'\\nAverage chi2: {np.mean(results[\"chi2\"])}\\nAverage avg_chi2: {np.mean(results[\"avg_chi2\"])}\\nMedian chi2: {np.median(results[\"chi2\"])}')\n",
    "print(f'Max chi2: {np.max(results[\"chi2\"])}\\nMin chi2: {np.min(results[\"chi2\"])}')"
   ]
  },
  {
   "cell_type": "markdown",
   "metadata": {
    "id": "ziK9P9USTHIv"
   },
   "source": [
    "## Chi2 Alignment"
   ]
  },
  {
   "cell_type": "code",
   "execution_count": null,
   "metadata": {
    "id": "esr9-E2Ao6NX"
   },
   "outputs": [],
   "source": [
    "from chi2test import *\n",
    "from skimage import io, transform\n",
    "import numpy as np\n",
    "\n",
    "traced_n = 13\n",
    "traced_dir = 'data/test/key/'\n",
    "\n",
    "ml_img = io.imread('data/test/5_processed.png')\n",
    "key_img = transform.resize(io.imread('data/test/key/5.png'), ml_img.shape)\n",
    "\n",
    "if np.min(ml_img) != 0 or np.max(ml_img) != 255:\n",
    "    ml_img -= np.min(ml_img)\n",
    "    ml_img = np.round(ml_img * (255 / np.max(ml_img)))\n",
    "        \n",
    "if np.min(key_img) != 0 or np.max(key_img) != 255:\n",
    "    key_img -= np.min(key_img)\n",
    "    key_img = np.round(key_img * (255 / np.max(key_img)))\n",
    "    \n",
    "key_img = 255 - key_img\n",
    "\n",
    "io.imshow(key_img)\n",
    "io.show()\n",
    "\n",
    "io.imshow(ml_img)\n",
    "io.show()\n",
    "\n",
    "results = chi2_align(ml_img, key_img)\n",
    "\n",
    "print(results)\n",
    "\n",
    "print(find_chi2(ml_img, key_img))\n",
    "\n",
    "offset_x = int(results[\"x\"])\n",
    "offset_y = int(results[\"y\"])\n",
    "fuse_size = np.maximum(key_img.shape, ml_img.shape)\n",
    "fuse_size[0] += 2 * abs(offset_x) + 2\n",
    "fuse_size[1] += 2 * abs(offset_y) + 2\n",
    "\n",
    "def fuse(out, img, offset_x=0, offset_y=0):\n",
    "    buf_x = out.shape[0] - img.shape[0]\n",
    "    buf_y = out.shape[1] - img.shape[1]\n",
    "    img = np.round(img * (255 / np.max(img)))\n",
    "    x_low = buf_x//2 + offset_x\n",
    "    y_low = buf_y//2 + offset_y\n",
    "    x_high = -buf_x//2 + offset_x\n",
    "    y_high = -buf_y//2 + offset_y\n",
    "    print(x_low, y_low, x_high, y_high)\n",
    "    if (x_high > -1):\n",
    "        x_high = x_low + img.shape[0]\n",
    "    if (y_high > -1):\n",
    "        y_high = y_low + img.shape[1]\n",
    "    out[x_low : x_high, y_low : y_high] = img\n",
    "\n",
    "fuse_img = np.zeros((fuse_size[0], fuse_size[1], 3), dtype=int)\n",
    "print(fuse_img.shape)\n",
    "fuse(fuse_img[:,:,0], ml_img, offset_x, offset_y)\n",
    "print(fuse_img.shape)\n",
    "fuse(fuse_img[:,:,1], key_img)\n",
    "\n",
    "io.imshow(fuse_img)\n",
    "io.show()\n"
   ]
  }
 ],
 "metadata": {
  "accelerator": "GPU",
  "celltoolbar": "Raw Cell Format",
  "colab": {
   "collapsed_sections": [
    "yYRADonH8nm0",
    "SOes-E73s-n-",
    "jENaS3uhwUV9",
    "ym5bKgKwG1rt",
    "rVtddQFjoXsP",
    "ziK9P9USTHIv"
   ],
   "name": "main.ipynb",
   "provenance": []
  },
  "kernelspec": {
   "display_name": "Python 3",
   "language": "python",
   "name": "python3"
  },
  "language_info": {
   "codemirror_mode": {
    "name": "ipython",
    "version": 3
   },
   "file_extension": ".py",
   "mimetype": "text/x-python",
   "name": "python",
   "nbconvert_exporter": "python",
   "pygments_lexer": "ipython3",
   "version": "3.9.12"
  }
 },
 "nbformat": 4,
 "nbformat_minor": 1
}
