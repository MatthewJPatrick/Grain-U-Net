{
 "cells": [
  {
   "cell_type": "markdown",
   "id": "e1bb5933",
   "metadata": {},
   "source": [
    "# Sliding Window Tool\n",
    "So the idea is that we take an input `img` and make a list of coordinates (`coords`) that we're going to take a crop at (with dimensions `win_dims`).\n",
    "\n",
    "So in this next cell we import `img` and generate the list `coords` based on the number of `grid_slices` and `sub_slices` we have. `grid_slices` indicate the size of the window and the `sub_slices` indicate how many times that slice should be taken. For example, `grid_slices = 2` and `sub_slices = 0` would just give you 4 images with non-overlapping 2x2 cropping. In contrast `grid_slices = 2` and `sub_slices = 2` would give you 9 images. \n",
    "```\n",
    "|--*--|-----|\n",
    "|     |     |\n",
    "|     |     |\n",
    "*  *  *     |\n",
    "|     |     |\n",
    "|     |     |\n",
    "|--*--|-----|\n",
    "|     |     |\n",
    "|     |     |\n",
    "|     |     |\n",
    "|     |     |\n",
    "|     |     |\n",
    "|-----|-----|\n",
    "```\n",
    "In this graphic, the stars indicate the upper left corner of overlapping crops (designated by `sub_slice`) and the `-` and `|` indicate the `grid_slices`.\n",
    "\n",
    "Writing it out, I see this is a crazy way to do this, sorry\n",
    "\n",
    "<sup>Author: Jamie Eckstein jamie.k.eckstein@gmail.com</sup>"
   ]
  },
  {
   "cell_type": "code",
   "execution_count": 3,
   "id": "705fa523",
   "metadata": {},
   "outputs": [],
   "source": [
    "import numpy as np\n",
    "from skimage import io\n",
    "import os\n",
    "from src.crop import crop\n",
    "from src.generate_coords import generate_coords"
   ]
  },
  {
   "cell_type": "markdown",
   "id": "18704845",
   "metadata": {},
   "source": [
    "# Cropping\n",
    "This crops images into overlapping sub images"
   ]
  },
  {
   "cell_type": "code",
   "execution_count": 4,
   "id": "4ffddd4d",
   "metadata": {},
   "outputs": [],
   "source": [
    "# this is the stuff you need to change (like filenames and stuff) and generate coords\n",
    "\n",
    "img = io.imread(\"data/01.png\")\n",
    "img = img[:,:,0]\n",
    "out_dir = \"data/croppings/\"\n",
    "fname_ind = 0 # This is the index of the first image you want to output\n",
    "\n",
    "grid_slices = 2\n",
    "sub_slices = 2\n",
    "\n",
    "coords = generate_coords(grid_slices, sub_slices, img.shape[:2])"
   ]
  },
  {
   "cell_type": "code",
   "execution_count": 5,
   "id": "967572cd",
   "metadata": {},
   "outputs": [],
   "source": [
    "# Iterate over coords and save crops\n",
    "img_dims = img.shape[:2]\n",
    "win_dims = (img_dims[0] // grid_slices, img_dims[1] // grid_slices)\n",
    "\n",
    "for ind, pt in enumerate(coords):\n",
    "    cropped_img = crop(img, pt, win_dims)\n",
    "    if cropped_img is not None:\n",
    "        io.imsave(f\"{out_dir}{ind + fname_ind}.png\", cropped_img)"
   ]
  },
  {
   "cell_type": "markdown",
   "id": "f9aaf5ef",
   "metadata": {},
   "source": [
    "# Compiling"
   ]
  },
  {
   "cell_type": "code",
   "execution_count": 7,
   "id": "2fc38bf4",
   "metadata": {},
   "outputs": [],
   "source": [
    "# This is the stuff you need to change (like filenames and stuff) and generate coords\n",
    "\n",
    "out_fname = \"compilation.png\"\n",
    "in_dir = \"data/croppings/\"\n",
    "fname_ind = 0 # This is the index of the first image you want to compile\n",
    "fname_suf = \".png\"\n",
    "\n",
    "grid_slices = 2\n",
    "sub_slices = 2\n",
    "\n",
    "img = io.imread(f\"{in_dir}{fname_ind}{fname_suf}\")\n",
    "if len(img.shape) > 2:\n",
    "    img = img[:,:,0]\n",
    "\n",
    "coords = generate_coords(grid_slices, sub_slices, win_dims = img.shape[:2])"
   ]
  },
  {
   "cell_type": "code",
   "execution_count": 8,
   "id": "1ca25d07",
   "metadata": {},
   "outputs": [
    {
     "name": "stdout",
     "output_type": "stream",
     "text": [
      "Reading: data/croppings/0.png\n",
      "Reading: data/croppings/1.png\n",
      "Reading: data/croppings/2.png\n",
      "Reading: data/croppings/3.png\n",
      "Reading: data/croppings/4.png\n",
      "Reading: data/croppings/5.png\n",
      "Reading: data/croppings/6.png\n",
      "Reading: data/croppings/7.png\n",
      "Reading: data/croppings/8.png\n",
      "Writing to: compilation.png\n"
     ]
    }
   ],
   "source": [
    "win_dims = img.shape[:2]\n",
    "width = win_dims[0] * grid_slices\n",
    "height = win_dims[1] * grid_slices\n",
    "\n",
    "compiled_img = np.zeros((width, height))\n",
    "\n",
    "for i, pt in enumerate(coords):\n",
    "    fname = f\"{in_dir}{fname_ind + i}{fname_suf}\"\n",
    "    print(f\"Reading: {fname}\")\n",
    "    sub_img = io.imread(fname)\n",
    "    if len(sub_img.shape) > 2:\n",
    "        sub_img = sub_img[:,:,0]\n",
    "    compiled_img[pt[0]:pt[0] + win_dims[0],pt[1]:pt[1] + win_dims[1]] += sub_img\n",
    "\n",
    "# average normalizing\n",
    "compiled_img[win_dims[0] // 2:-win_dims[0] // 2,:] /= 2\n",
    "compiled_img[:,win_dims[1] // 2:-win_dims[1] // 2] /= 2\n",
    "print(f\"Writing to: {out_fname}\")\n",
    "io.imsave(out_fname, compiled_img.astype(np.uint8))"
   ]
  },
  {
   "cell_type": "code",
   "execution_count": null,
   "id": "58b9522d",
   "metadata": {},
   "outputs": [],
   "source": []
  }
 ],
 "metadata": {
  "kernelspec": {
   "display_name": "Python 3",
   "language": "python",
   "name": "python3"
  },
  "language_info": {
   "codemirror_mode": {
    "name": "ipython",
    "version": 3
   },
   "file_extension": ".py",
   "mimetype": "text/x-python",
   "name": "python",
   "nbconvert_exporter": "python",
   "pygments_lexer": "ipython3",
   "version": "3.9.10"
  }
 },
 "nbformat": 4,
 "nbformat_minor": 5
}
